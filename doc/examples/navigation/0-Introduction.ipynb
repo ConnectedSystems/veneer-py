{
 "cells": [
  {
   "cell_type": "markdown",
   "metadata": {},
   "source": [
    "# Navigation functionality\n",
    "\n",
    "The Navigation functionality (`veneer.navigation`) lets you query and modify the current Source model using normal Python object notation. For example:\n",
    "\n",
    "```\n",
    "scenario.Network.Nodes[0].Name = 'Renamed node'\n",
    "```\n",
    "\n",
    "This notebook introduces the navigation functionality, including how it ties into the existing functionality in `v.model` as well as current limitations."
   ]
  },
  {
   "cell_type": "markdown",
   "metadata": {},
   "source": [
    "## Setup\n",
    "\n",
    "Start up Veneer as per usual..."
   ]
  },
  {
   "cell_type": "code",
   "execution_count": 4,
   "metadata": {},
   "outputs": [],
   "source": [
    "import veneer\n",
    "v = veneer.Veneer(19876)"
   ]
  },
  {
   "cell_type": "code",
   "execution_count": 2,
   "metadata": {},
   "outputs": [
    {
     "data": {
      "text/plain": [
       "{'ProjectFile': None,\n",
       " 'Scenario': 'Fitzroy Rebuild 2014',\n",
       " 'SourceVersion': '4.1.1.5345',\n",
       " 'Version': 20180501}"
      ]
     },
     "execution_count": 2,
     "metadata": {},
     "output_type": "execute_result"
    }
   ],
   "source": [
    "v.status()"
   ]
  },
  {
   "cell_type": "markdown",
   "metadata": {},
   "source": [
    "## Initialise a Queryable object\n",
    "\n",
    "`Queryable` is the main component in `veneer.navigate`. By default, a Queryable points to the scenario."
   ]
  },
  {
   "cell_type": "code",
   "execution_count": 5,
   "metadata": {},
   "outputs": [],
   "source": [
    "from veneer.navigate import Queryable"
   ]
  },
  {
   "cell_type": "code",
   "execution_count": 6,
   "metadata": {},
   "outputs": [],
   "source": [
    "scenario = Queryable(v)"
   ]
  },
  {
   "cell_type": "code",
   "execution_count": 7,
   "metadata": {},
   "outputs": [
    {
     "data": {
      "text/plain": [
       "Fitzroy Rebuild 2014"
      ]
     },
     "execution_count": 7,
     "metadata": {},
     "output_type": "execute_result"
    }
   ],
   "source": [
    "scenario.Name"
   ]
  },
  {
   "cell_type": "markdown",
   "metadata": {},
   "source": [
    "## Tab completion\n",
    "\n",
    "`Queryable` objects work with the tab completion in IPython/Jupyter, including, in many cases, for nested objects:\n",
    "\n",
    "![Tab Completion on Queryable objects in Jupyter](TabCompletion.PNG)"
   ]
  },
  {
   "cell_type": "code",
   "execution_count": 11,
   "metadata": {},
   "outputs": [
    {
     "data": {
      "text/plain": [
       "2089"
      ]
     },
     "execution_count": 11,
     "metadata": {},
     "output_type": "execute_result"
    }
   ],
   "source": [
    "scenario.Network.nodes.Count"
   ]
  },
  {
   "cell_type": "markdown",
   "metadata": {},
   "source": [
    "... However this won't work after indexing into a list or dictionary:\n",
    "\n",
    "![Tab completion fails after indexing](TabCompletionFail.PNG)\n",
    "\n",
    "You can still access the properties of the list item, if you know what they're called:"
   ]
  },
  {
   "cell_type": "code",
   "execution_count": 12,
   "metadata": {},
   "outputs": [
    {
     "data": {
      "text/plain": [
       "Outlet Node1"
      ]
     },
     "execution_count": 12,
     "metadata": {},
     "output_type": "execute_result"
    }
   ],
   "source": [
    "scenario.Network.nodes[0].Name"
   ]
  },
  {
   "cell_type": "markdown",
   "metadata": {},
   "source": [
    "... But if you want tab completion, create a variable **and run the cell that creates it**. Then tab into the new variable:\n",
    "\n",
    "![Tab completion into new variable](TabCompletionVariable.PNG)"
   ]
  },
  {
   "cell_type": "code",
   "execution_count": 20,
   "metadata": {},
   "outputs": [],
   "source": [
    "node = scenario.Network.nodes[0]\n",
    "# node.<tab>  WON'T WORK YET. You need to run this cell first"
   ]
  },
  {
   "cell_type": "code",
   "execution_count": 21,
   "metadata": {},
   "outputs": [
    {
     "data": {
      "text/plain": [
       "Outlet Node1"
      ]
     },
     "execution_count": 21,
     "metadata": {},
     "output_type": "execute_result"
    }
   ],
   "source": [
    "# Now tab completion should work should work\n",
    "node.Name"
   ]
  },
  {
   "cell_type": "markdown",
   "metadata": {},
   "source": [
    "## Working with the navigation object\n",
    "\n",
    "From the examples above, it looks like, you can work with the `Queryable` object as a normal Python object. In *some* cases you can, but not always.\n",
    "\n",
    "For changing values in the object (ie changing the relevant property in the Source model), you can indeed set the value directly:"
   ]
  },
  {
   "cell_type": "code",
   "execution_count": 22,
   "metadata": {},
   "outputs": [],
   "source": [
    "callide = v.model.node.nav_first(nodes='Callide Dam')"
   ]
  },
  {
   "cell_type": "code",
   "execution_count": 23,
   "metadata": {},
   "outputs": [
    {
     "data": {
      "text/plain": [
       "Callide Dam"
      ]
     },
     "execution_count": 23,
     "metadata": {},
     "output_type": "execute_result"
    }
   ],
   "source": [
    "callide.Name"
   ]
  },
  {
   "cell_type": "code",
   "execution_count": 26,
   "metadata": {},
   "outputs": [
    {
     "data": {
      "text/plain": [
       "216.1"
      ]
     },
     "execution_count": 26,
     "metadata": {},
     "output_type": "execute_result"
    }
   ],
   "source": [
    "callide.fullSupplyLevel"
   ]
  },
  {
   "cell_type": "code",
   "execution_count": 27,
   "metadata": {},
   "outputs": [
    {
     "data": {
      "text/plain": [
       "136370000"
      ]
     },
     "execution_count": 27,
     "metadata": {},
     "output_type": "execute_result"
    }
   ],
   "source": [
    "callide.fullSupplyVolume"
   ]
  },
  {
   "cell_type": "code",
   "execution_count": 28,
   "metadata": {},
   "outputs": [],
   "source": [
    "callide.fullSupplyVolume = 136300000"
   ]
  },
  {
   "cell_type": "code",
   "execution_count": 29,
   "metadata": {},
   "outputs": [
    {
     "data": {
      "text/plain": [
       "136300000"
      ]
     },
     "execution_count": 29,
     "metadata": {},
     "output_type": "execute_result"
    }
   ],
   "source": [
    "callide.fullSupplyVolume"
   ]
  },
  {
   "cell_type": "markdown",
   "metadata": {},
   "source": [
    "**Note:** Changing one thing may have a side effect, impacting another property:"
   ]
  },
  {
   "cell_type": "code",
   "execution_count": 31,
   "metadata": {},
   "outputs": [
    {
     "data": {
      "text/plain": [
       "216.09402900199"
      ]
     },
     "execution_count": 31,
     "metadata": {},
     "output_type": "execute_result"
    }
   ],
   "source": [
    "callide.fullSupplyLevel"
   ]
  },
  {
   "cell_type": "markdown",
   "metadata": {},
   "source": [
    "If a property can't be set this way, it *should* tell you:"
   ]
  },
  {
   "cell_type": "code",
   "execution_count": 36,
   "metadata": {},
   "outputs": [],
   "source": [
    "# CAUSES EXCEPTION\n",
    "#callide.fullSupplyLevel = 216"
   ]
  },
  {
   "cell_type": "markdown",
   "metadata": {},
   "source": [
    "### Things aren't necessarily as they seem!\n",
    "\n",
    "The above examples suggest that the following would work:"
   ]
  },
  {
   "cell_type": "code",
   "execution_count": 38,
   "metadata": {},
   "outputs": [],
   "source": [
    "# Would be nice, but doesn't work...\n",
    "#callide.fullSupplyVolume = 1.1 * callide.fullSupplyVolume"
   ]
  },
  {
   "cell_type": "markdown",
   "metadata": {},
   "source": [
    "The reason is, `callide.fullSupplyVolume` is, itself, a `Queryable` object:"
   ]
  },
  {
   "cell_type": "code",
   "execution_count": 39,
   "metadata": {},
   "outputs": [
    {
     "data": {
      "text/plain": [
       "veneer.navigate.Queryable"
      ]
     },
     "execution_count": 39,
     "metadata": {},
     "output_type": "execute_result"
    }
   ],
   "source": [
    "callide.fullSupplyVolume.__class__"
   ]
  },
  {
   "cell_type": "markdown",
   "metadata": {},
   "source": [
    "So, although it prints out as a number, it is in fact a reference to the value within the model.\n",
    "\n",
    "If you want to actually use the *value* in an expression (eg to set another property), you'll need to use the `"
   ]
  },
  {
   "cell_type": "code",
   "execution_count": 41,
   "metadata": {},
   "outputs": [],
   "source": [
    "callide.fullSupplyVolume = 1.1 * callide.fullSupplyVolume._eval_()"
   ]
  },
  {
   "cell_type": "code",
   "execution_count": 42,
   "metadata": {},
   "outputs": [
    {
     "data": {
      "text/plain": [
       "149930000"
      ]
     },
     "execution_count": 42,
     "metadata": {},
     "output_type": "execute_result"
    }
   ],
   "source": [
    "callide.fullSupplyVolume"
   ]
  },
  {
   "cell_type": "code",
   "execution_count": 43,
   "metadata": {},
   "outputs": [],
   "source": [
    "callide.fullSupplyVolume = callide.fullSupplyVolume._eval_() / 1.1"
   ]
  },
  {
   "cell_type": "code",
   "execution_count": 44,
   "metadata": {},
   "outputs": [
    {
     "data": {
      "text/plain": [
       "136300000"
      ]
     },
     "execution_count": 44,
     "metadata": {},
     "output_type": "execute_result"
    }
   ],
   "source": [
    "callide.fullSupplyVolume"
   ]
  },
  {
   "cell_type": "markdown",
   "metadata": {},
   "source": [
    "## Evaluating a Queryable\n",
    "\n",
    "It's not ideal to need to call `._eval_()` and we plan to improve this over time.\n",
    "\n",
    "Also, the `_eval_()` workaround only works for simple types - numbers, strings, booleans, etc. It doesn't work for complex objects, such as Nodes, Links and model instances.\n",
    "\n",
    "For example you CANNOT do this at the moment:\n",
    "\n",
    "```\n",
    "storage = v.model.node.nav_first(nodes='my storage')\n",
    "link = v.model.link.nav_first(links='some link')\n",
    "\n",
    "# Try to set the outlet link for the storage...\n",
    "storage.OutletPaths[0] = link # WILL NOT WORK!\n",
    "```\n"
   ]
  },
  {
   "cell_type": "markdown",
   "metadata": {},
   "source": [
    "## Bulk changes\n",
    "\n",
    "When you use the model configuration functionality under `v.model` every operation is a **bulk** operation by default - you use query parameters to limit the application:\n",
    "\n",
    "For example, the following would retrieve Easting and Northing (really, just the node coordinates) for every node:\n",
    "\n",
    "```\n",
    "eastings = v.model.node.get_param_values('Node.location.E')\n",
    "northings = v.model.node.get_param_values('Node.location.N')\n",
    "```\n",
    "\n",
    "while the following would do the same for only storages, by using query parameters:\n",
    "\n",
    "```\n",
    "eastings = v.model.node.get_param_values('Node.location.E',node_types='Storage')\n",
    "northings = v.model.node.get_param_values('Node.location.N',node_types='Storage')\n",
    "```\n",
    "\n",
    "When using `Queryable`, everything is, currently, an operation on a single object (eg a single node):"
   ]
  },
  {
   "cell_type": "code",
   "execution_count": 50,
   "metadata": {},
   "outputs": [
    {
     "data": {
      "text/plain": [
       "1861543.63051"
      ]
     },
     "execution_count": 50,
     "metadata": {},
     "output_type": "execute_result"
    }
   ],
   "source": [
    "callide.Node.location.E"
   ]
  },
  {
   "cell_type": "markdown",
   "metadata": {},
   "source": [
    "However... one of the big benefits of the navigable functionality is the ability to discover the parameter name (often nested) that you need to use in a bulk operation.\n",
    "\n",
    "**When stuck for a parameter name, use a Queryable to discover it, through tab-completion and then plug the resulting path back into the `v.model.X.get_param_values()` call**"
   ]
  },
  {
   "cell_type": "code",
   "execution_count": null,
   "metadata": {},
   "outputs": [],
   "source": []
  }
 ],
 "metadata": {
  "kernelspec": {
   "display_name": "Python 3",
   "language": "python",
   "name": "python3"
  },
  "language_info": {
   "codemirror_mode": {
    "name": "ipython",
    "version": 3
   },
   "file_extension": ".py",
   "mimetype": "text/x-python",
   "name": "python",
   "nbconvert_exporter": "python",
   "pygments_lexer": "ipython3",
   "version": "3.6.4"
  }
 },
 "nbformat": 4,
 "nbformat_minor": 2
}
