{
 "cells": [
  {
   "cell_type": "markdown",
   "metadata": {},
   "source": [
    "# Navigation functionality\n",
    "\n",
    "The Navigation functionality (`veneer.navigation`) lets you query and modify the current Source model using normal Python object notation. For example:\n",
    "\n",
    "```\n",
    "scenario.Network.Nodes[0].Name = 'Renamed node'\n",
    "```\n",
    "\n",
    "This notebook introduces the navigation functionality, including how it ties into the existing functionality in `v.model` as well as current limitations."
   ]
  },
  {
   "cell_type": "markdown",
   "metadata": {},
   "source": [
    "## Setup\n",
    "\n",
    "Start up Veneer as per usual..."
   ]
  },
  {
   "cell_type": "code",
   "execution_count": 4,
   "metadata": {},
   "outputs": [],
   "source": [
    "import veneer\n",
    "v = veneer.Veneer(19876)"
   ]
  },
  {
   "cell_type": "code",
   "execution_count": 2,
   "metadata": {},
   "outputs": [
    {
     "data": {
      "text/plain": [
       "{'ProjectFile': None,\n",
       " 'Scenario': 'Fitzroy Rebuild 2014',\n",
       " 'SourceVersion': '4.1.1.5345',\n",
       " 'Version': 20180501}"
      ]
     },
     "execution_count": 2,
     "metadata": {},
     "output_type": "execute_result"
    }
   ],
   "source": [
    "v.status()"
   ]
  },
  {
   "cell_type": "markdown",
   "metadata": {},
   "source": [
    "## Initialise a Queryable object\n",
    "\n",
    "`Queryable` is the main component in `veneer.navigate`. By default, a Queryable points to the scenario."
   ]
  },
  {
   "cell_type": "code",
   "execution_count": 5,
   "metadata": {},
   "outputs": [],
   "source": [
    "from veneer.navigate import Queryable"
   ]
  },
  {
   "cell_type": "code",
   "execution_count": 6,
   "metadata": {},
   "outputs": [],
   "source": [
    "scenario = Queryable(v)"
   ]
  },
  {
   "cell_type": "code",
   "execution_count": 7,
   "metadata": {},
   "outputs": [
    {
     "data": {
      "text/plain": [
       "Fitzroy Rebuild 2014"
      ]
     },
     "execution_count": 7,
     "metadata": {},
     "output_type": "execute_result"
    }
   ],
   "source": [
    "scenario.Name"
   ]
  },
  {
   "cell_type": "markdown",
   "metadata": {},
   "source": [
    "## Tab completion\n",
    "\n",
    "`Queryable` objects work with the tab completion in IPython/Jupyter, including, in many cases, for nested objects:\n",
    "\n",
    "![Tab Completion on Queryable objects in Jupyter](TabCompletion.PNG)"
   ]
  },
  {
   "cell_type": "code",
   "execution_count": 11,
   "metadata": {},
   "outputs": [
    {
     "data": {
      "text/plain": [
       "2089"
      ]
     },
     "execution_count": 11,
     "metadata": {},
     "output_type": "execute_result"
    }
   ],
   "source": [
    "scenario.Network.nodes.Count"
   ]
  },
  {
   "cell_type": "markdown",
   "metadata": {},
   "source": [
    "... However this won't work after indexing into a list or dictionary:\n",
    "\n",
    "![Tab completion fails after indexing](TabCompletionFail.PNG)\n",
    "\n",
    "You can still access the properties of the list item, if you know what they're called:"
   ]
  },
  {
   "cell_type": "code",
   "execution_count": 12,
   "metadata": {},
   "outputs": [
    {
     "data": {
      "text/plain": [
       "Outlet Node1"
      ]
     },
     "execution_count": 12,
     "metadata": {},
     "output_type": "execute_result"
    }
   ],
   "source": [
    "scenario.Network.nodes[0].Name"
   ]
  },
  {
   "cell_type": "markdown",
   "metadata": {},
   "source": [
    "... But if you want tab completion, create a variable **and run the cell that creates it**. Then tab into the new variable:\n",
    "\n",
    "![Tab completion into new variable](TabCompletionVariable.PNG)"
   ]
  },
  {
   "cell_type": "code",
   "execution_count": 20,
   "metadata": {},
   "outputs": [],
   "source": [
    "node = scenario.Network.nodes[0]\n",
    "# node.<tab>  WON'T WORK YET. You need to run this cell first"
   ]
  },
  {
   "cell_type": "code",
   "execution_count": 21,
   "metadata": {},
   "outputs": [
    {
     "data": {
      "text/plain": [
       "Outlet Node1"
      ]
     },
     "execution_count": 21,
     "metadata": {},
     "output_type": "execute_result"
    }
   ],
   "source": [
    "# Now tab completion should work should work\n",
    "node.Name"
   ]
  },
  {
   "cell_type": "code",
   "execution_count": null,
   "metadata": {},
   "outputs": [],
   "source": []
  },
  {
   "cell_type": "code",
   "execution_count": null,
   "metadata": {},
   "outputs": [],
   "source": []
  }
 ],
 "metadata": {
  "kernelspec": {
   "display_name": "Python 3",
   "language": "python",
   "name": "python3"
  },
  "language_info": {
   "codemirror_mode": {
    "name": "ipython",
    "version": 3
   },
   "file_extension": ".py",
   "mimetype": "text/x-python",
   "name": "python",
   "nbconvert_exporter": "python",
   "pygments_lexer": "ipython3",
   "version": "3.6.4"
  }
 },
 "nbformat": 4,
 "nbformat_minor": 2
}
