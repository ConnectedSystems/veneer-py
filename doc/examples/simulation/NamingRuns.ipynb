{
 "cells": [
  {
   "cell_type": "markdown",
   "metadata": {},
   "source": [
    "# Custom run names\n",
    "\n",
    "Setting custom names for runs can be useful when dealling with many simulations. For example, you can encode a range of attributes in the run name like {{x}}/{{y}}/{{z}} where x,y and z are all parameter values.\n",
    "\n",
    "This is now supported in Veneer + veneer-py. You may need to update your Veneer plugin."
   ]
  },
  {
   "cell_type": "code",
   "execution_count": 12,
   "metadata": {
    "collapsed": true
   },
   "outputs": [],
   "source": [
    "import veneer\n",
    "v = veneer.Veneer()"
   ]
  },
  {
   "cell_type": "code",
   "execution_count": 13,
   "metadata": {
    "collapsed": false,
    "scrolled": true
   },
   "outputs": [
    {
     "name": "stdout",
     "output_type": "stream",
     "text": [
      "Help on method run_model in module veneer.general:\n",
      "\n",
      "run_model(params=None, start=None, end=None, async=False, name=None, **kwargs) method of veneer.general.Veneer instance\n",
      "    Trigger a run of the Source model\n",
      "    \n",
      "    params: Python dictionary of parameters to pass to Source. Should match the parameters expected\n",
      "            of the running configuration. (If you just want to set the start and end date of the simulation,\n",
      "            use the start and end parameters\n",
      "    \n",
      "    start, end: The start and end date of the simulation. Should be provided as Date objects or as text in the dd/mm/yyyy format\n",
      "    \n",
      "    async: (default False). If True, the method will return immediately rather than waiting for the simulation to finish.\n",
      "           Useful for triggering parallel runs. Method will return a connection object that can then be queried to know\n",
      "           when the run has finished.\n",
      "    \n",
      "    name: Name to assign to run in Source results (default None: let Source name using default strategy)\n",
      "    \n",
      "    kwargs: optional named parameters to be used to update the params dictionary\n",
      "    \n",
      "    In the default behaviour (async=False), this method will return once the Source simulation has finished, and will return\n",
      "    the URL of the results set in the Veneer service\n",
      "\n"
     ]
    }
   ],
   "source": [
    "help(v.run_model)"
   ]
  },
  {
   "cell_type": "code",
   "execution_count": 14,
   "metadata": {
    "collapsed": false
   },
   "outputs": [
    {
     "data": {
      "text/plain": [
       "(302, 'runs/1')"
      ]
     },
     "execution_count": 14,
     "metadata": {},
     "output_type": "execute_result"
    }
   ],
   "source": [
    "v.run_model(name=\"Custom Run Name\")"
   ]
  },
  {
   "cell_type": "code",
   "execution_count": 15,
   "metadata": {
    "collapsed": false
   },
   "outputs": [
    {
     "data": {
      "text/plain": [
       "[{'RunName': 'Custom Run Name (1)', 'RunUrl': '/runs/1'}]"
      ]
     },
     "execution_count": 15,
     "metadata": {},
     "output_type": "execute_result"
    }
   ],
   "source": [
    "v.retrieve_runs()"
   ]
  },
  {
   "cell_type": "code",
   "execution_count": null,
   "metadata": {
    "collapsed": true
   },
   "outputs": [],
   "source": []
  }
 ],
 "metadata": {
  "kernelspec": {
   "display_name": "Python 3",
   "language": "python",
   "name": "python3"
  },
  "language_info": {
   "codemirror_mode": {
    "name": "ipython",
    "version": 3
   },
   "file_extension": ".py",
   "mimetype": "text/x-python",
   "name": "python",
   "nbconvert_exporter": "python",
   "pygments_lexer": "ipython3",
   "version": "3.4.4"
  }
 },
 "nbformat": 4,
 "nbformat_minor": 0
}
