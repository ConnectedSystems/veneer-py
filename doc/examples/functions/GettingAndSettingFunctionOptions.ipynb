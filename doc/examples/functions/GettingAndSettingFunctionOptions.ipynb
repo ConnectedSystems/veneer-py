{
 "cells": [
  {
   "cell_type": "code",
   "execution_count": 1,
   "metadata": {
    "collapsed": true
   },
   "outputs": [],
   "source": [
    "import veneer\n",
    "from veneer.manage import *"
   ]
  },
  {
   "cell_type": "code",
   "execution_count": 5,
   "metadata": {
    "collapsed": true
   },
   "outputs": [],
   "source": [
    "v = veneer.Veneer()"
   ]
  },
  {
   "cell_type": "code",
   "execution_count": 6,
   "metadata": {
    "collapsed": false
   },
   "outputs": [
    {
     "data": {
      "text/plain": [
       "[{'Expression': '1.0', 'Name': '$InflowScaling'}, {'Expression': '$InflowScaling*$CrabTS', 'Name': '$CrabScaled'}, {'Expression': '$InflowScaling*$FishTS', 'Name': '$FishScaled'}, {'Expression': '$InflowScaling*$ShellTS', 'Name': '$ShellScaled'}, {'Expression': 'lookup($PatternPW,$Now.DayOfYear)', 'Name': '$MinFlow'}]"
      ]
     },
     "execution_count": 6,
     "metadata": {},
     "output_type": "execute_result"
    }
   ],
   "source": [
    "v.functions()"
   ]
  },
  {
   "cell_type": "code",
   "execution_count": 7,
   "metadata": {
    "collapsed": false
   },
   "outputs": [
    {
     "name": "stdout",
     "output_type": "stream",
     "text": [
      "Help on method get_options in module veneer.server_side:\n",
      "\n",
      "get_options(option, functions=None) method of veneer.server_side.VeneerFunctionActions instance\n",
      "    Return the current value of `option` for one or more functions.\n",
      "    \n",
      "    option - one of\n",
      "        'EvaluationTimes'\n",
      "        'ForceEvaluate'\n",
      "        'InitialValue'\n",
      "        'ResultUnit'\n",
      "        'IsClone'\n",
      "        'IsConstant' (readonly)\n",
      "        'Expression'\n",
      "        'Transient'\n",
      "        'HasContextVariables' (readonly)\n",
      "        'CanBeRecorded' (readonly)\n",
      "        'Name'\n",
      "        'FullName' (readonly)\n",
      "\n"
     ]
    }
   ],
   "source": [
    "help(v.model.functions.get_options)"
   ]
  },
  {
   "cell_type": "code",
   "execution_count": 8,
   "metadata": {
    "collapsed": false
   },
   "outputs": [
    {
     "data": {
      "text/plain": [
       "[False]"
      ]
     },
     "execution_count": 8,
     "metadata": {},
     "output_type": "execute_result"
    }
   ],
   "source": [
    "\n",
    "v.model.functions.get_options('ForceEvaluate','$InflowScaling')"
   ]
  },
  {
   "cell_type": "code",
   "execution_count": 9,
   "metadata": {
    "collapsed": false
   },
   "outputs": [
    {
     "data": {
      "text/plain": [
       "['StartOfTimeStep',\n",
       " 'StartOfTimeStep',\n",
       " 'StartOfTimeStep',\n",
       " 'StartOfTimeStep',\n",
       " 'StartOfTimeStep']"
      ]
     },
     "execution_count": 9,
     "metadata": {},
     "output_type": "execute_result"
    }
   ],
   "source": [
    "v.model.functions.get_options('EvaluationTimes')"
   ]
  },
  {
   "cell_type": "code",
   "execution_count": 10,
   "metadata": {
    "collapsed": false
   },
   "outputs": [
    {
     "data": {
      "text/plain": [
       "True"
      ]
     },
     "execution_count": 10,
     "metadata": {},
     "output_type": "execute_result"
    }
   ],
   "source": [
    "v.model.functions.set_options('ForceEvaluate',True,functions='$InflowScaling')"
   ]
  },
  {
   "cell_type": "code",
   "execution_count": 11,
   "metadata": {
    "collapsed": false
   },
   "outputs": [
    {
     "data": {
      "text/plain": [
       "[True, False, False, False, False]"
      ]
     },
     "execution_count": 11,
     "metadata": {},
     "output_type": "execute_result"
    }
   ],
   "source": [
    "v.model.functions.get_options('ForceEvaluate')"
   ]
  },
  {
   "cell_type": "code",
   "execution_count": 12,
   "metadata": {
    "collapsed": false
   },
   "outputs": [
    {
     "data": {
      "text/plain": [
       "['StartOfTimeStep',\n",
       " 'StartOfTimeStep',\n",
       " 'StartOfTimeStep',\n",
       " 'StartOfTimeStep',\n",
       " 'StartOfTimeStep']"
      ]
     },
     "execution_count": 12,
     "metadata": {},
     "output_type": "execute_result"
    }
   ],
   "source": [
    "v.model.functions.get_options('EvaluationTimes')"
   ]
  },
  {
   "cell_type": "code",
   "execution_count": 13,
   "metadata": {
    "collapsed": false
   },
   "outputs": [
    {
     "data": {
      "text/plain": [
       "True"
      ]
     },
     "execution_count": 13,
     "metadata": {},
     "output_type": "execute_result"
    }
   ],
   "source": [
    "v.model.functions.set_time_of_evaluation('EndOfTimeStep',functions='$InflowScaling')"
   ]
  },
  {
   "cell_type": "code",
   "execution_count": 14,
   "metadata": {
    "collapsed": false
   },
   "outputs": [
    {
     "data": {
      "text/plain": [
       "['EndOfTimeStep',\n",
       " 'StartOfTimeStep',\n",
       " 'StartOfTimeStep',\n",
       " 'StartOfTimeStep',\n",
       " 'StartOfTimeStep']"
      ]
     },
     "execution_count": 14,
     "metadata": {},
     "output_type": "execute_result"
    }
   ],
   "source": [
    "v.model.functions.get_options('EvaluationTimes')"
   ]
  },
  {
   "cell_type": "code",
   "execution_count": null,
   "metadata": {
    "collapsed": true
   },
   "outputs": [],
   "source": []
  }
 ],
 "metadata": {
  "kernelspec": {
   "display_name": "Python 3",
   "language": "python",
   "name": "python3"
  },
  "language_info": {
   "codemirror_mode": {
    "name": "ipython",
    "version": 3
   },
   "file_extension": ".py",
   "mimetype": "text/x-python",
   "name": "python",
   "nbconvert_exporter": "python",
   "pygments_lexer": "ipython3",
   "version": "3.4.4"
  }
 },
 "nbformat": 4,
 "nbformat_minor": 0
}
