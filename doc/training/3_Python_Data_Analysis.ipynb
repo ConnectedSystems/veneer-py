{
 "cells": [
  {
   "cell_type": "markdown",
   "metadata": {},
   "source": [
    "# Session 3: Python Data Analysis World\n",
    "\n",
    "Python has a very strong community in the data analytics and scientific computing world. There are a lot of great Python packages to support different analyses, but there are a few very key packages:\n",
    "\n",
    "* Workhorses - numpy, pandas, scipy\n",
    "* Spatial tools - shapely, ogr/gdal, geopandas, etc\n",
    "* Environments and Visualisation - Jupiter, matplotlib\n",
    "\n",
    "You will all of these after installing Anaconda and installing the additional packages described in Session 0. (The additional packages relate to spatial analysis - you can skip them if you don't need them)\n",
    "\n",
    "Where possible, veneer-py functions will accept and return objects that are directly usable by these packages. In particular, time series and other tabular data structures are returned as pandas DataFrame objects.\n",
    "\n",
    "This session gives very brief introductions to most of these packages. In most cases, the links in Session 0 are relevant for more information."
   ]
  },
  {
   "cell_type": "markdown",
   "metadata": {
    "collapsed": true
   },
   "source": [
    "## numpy\n",
    "\n",
    "numpy represents multi-dimensional arrays and operations on those arrays. The arrays are typed (eg float, double precision float, integer, etc) and are indexed by integers (one per dimension).\n",
    "\n",
    "In veneer-py, we use pandas Data Frames more than numpy arrays, but the basics of the array operations in numpy are the foundations on which pandas is built."
   ]
  },
  {
   "cell_type": "markdown",
   "metadata": {
    "collapsed": true
   },
   "source": [
    "You can create an array of random numbers using functions under the `np.random` namespace. The following example creates 100 random floats using a normal distribution\n",
    "\n",
    "**Note:** numpy is typically imported as `np`.\n"
   ]
  },
  {
   "cell_type": "code",
   "execution_count": 3,
   "metadata": {
    "collapsed": false
   },
   "outputs": [
    {
     "data": {
      "text/plain": [
       "array([-0.32846804,  0.24233466,  0.56216504,  1.61970292,  1.61387102,\n",
       "       -0.20260723,  0.40419901,  1.04339317, -0.04147032, -0.23362834,\n",
       "       -0.33834912, -0.3403258 , -0.92226102,  0.93534043,  1.34859119,\n",
       "       -2.00442134, -0.44725056,  0.87007699, -1.05769217, -0.64963042,\n",
       "        0.44078006, -1.27336806,  2.04514494, -0.48511948, -0.47662417,\n",
       "       -0.82265906, -2.30960877, -0.61543794,  0.81831407, -0.13247048,\n",
       "        0.33658916,  0.98143053,  0.90600701, -1.26208505,  0.53828062,\n",
       "        0.95511353, -0.50796315,  1.20768909, -0.65747147,  1.29378467,\n",
       "       -0.99321247,  0.05004184,  0.64125027, -0.33449546,  1.61972184,\n",
       "        0.56414875, -1.05181545, -0.6281049 , -0.25006024, -0.40256336,\n",
       "        0.60213267, -0.44373157, -1.1478386 , -0.10437203,  0.17834442,\n",
       "       -0.70958483, -1.76063764, -0.30497265,  0.75522514, -0.29467826,\n",
       "        0.67125189,  1.17539477,  0.98764732, -0.35971512, -0.33272206,\n",
       "        1.44759658, -0.6425866 , -2.64347229,  0.84533837,  0.94233639,\n",
       "        0.91725454,  0.59159355, -0.37466308, -0.35004473,  0.50183837,\n",
       "       -0.38612063, -0.9689832 , -2.25973279,  0.97413203,  0.26193202,\n",
       "        1.29195804,  0.52753274,  0.79260475, -0.5766819 , -0.4571203 ,\n",
       "        1.03198971, -0.44982421, -1.55817231,  0.20016313,  0.23892575,\n",
       "        1.93247695,  0.6686423 ,  1.7152531 , -2.16294   , -1.2162558 ,\n",
       "        0.57183848, -1.1964297 ,  0.13300458, -0.79852854, -0.26931035])"
      ]
     },
     "execution_count": 3,
     "metadata": {},
     "output_type": "execute_result"
    }
   ],
   "source": [
    "import numpy as np\n",
    "random = np.random.normal(size=100)\n",
    "random"
   ]
  },
  {
   "cell_type": "markdown",
   "metadata": {},
   "source": [
    "The functions in `np.random` return one dimensional arrays. You can check this with `.shape` and change it with `.reshape()`"
   ]
  },
  {
   "cell_type": "code",
   "execution_count": 4,
   "metadata": {
    "collapsed": false
   },
   "outputs": [
    {
     "data": {
      "text/plain": [
       "(100,)"
      ]
     },
     "execution_count": 4,
     "metadata": {},
     "output_type": "execute_result"
    }
   ],
   "source": [
    "random.shape"
   ]
  },
  {
   "cell_type": "code",
   "execution_count": 6,
   "metadata": {
    "collapsed": false
   },
   "outputs": [
    {
     "data": {
      "text/plain": [
       "array([[[-0.32846804,  0.24233466],\n",
       "        [ 0.56216504,  1.61970292],\n",
       "        [ 1.61387102, -0.20260723],\n",
       "        [ 0.40419901,  1.04339317],\n",
       "        [-0.04147032, -0.23362834]],\n",
       "\n",
       "       [[-0.33834912, -0.3403258 ],\n",
       "        [-0.92226102,  0.93534043],\n",
       "        [ 1.34859119, -2.00442134],\n",
       "        [-0.44725056,  0.87007699],\n",
       "        [-1.05769217, -0.64963042]],\n",
       "\n",
       "       [[ 0.44078006, -1.27336806],\n",
       "        [ 2.04514494, -0.48511948],\n",
       "        [-0.47662417, -0.82265906],\n",
       "        [-2.30960877, -0.61543794],\n",
       "        [ 0.81831407, -0.13247048]],\n",
       "\n",
       "       [[ 0.33658916,  0.98143053],\n",
       "        [ 0.90600701, -1.26208505],\n",
       "        [ 0.53828062,  0.95511353],\n",
       "        [-0.50796315,  1.20768909],\n",
       "        [-0.65747147,  1.29378467]],\n",
       "\n",
       "       [[-0.99321247,  0.05004184],\n",
       "        [ 0.64125027, -0.33449546],\n",
       "        [ 1.61972184,  0.56414875],\n",
       "        [-1.05181545, -0.6281049 ],\n",
       "        [-0.25006024, -0.40256336]],\n",
       "\n",
       "       [[ 0.60213267, -0.44373157],\n",
       "        [-1.1478386 , -0.10437203],\n",
       "        [ 0.17834442, -0.70958483],\n",
       "        [-1.76063764, -0.30497265],\n",
       "        [ 0.75522514, -0.29467826]],\n",
       "\n",
       "       [[ 0.67125189,  1.17539477],\n",
       "        [ 0.98764732, -0.35971512],\n",
       "        [-0.33272206,  1.44759658],\n",
       "        [-0.6425866 , -2.64347229],\n",
       "        [ 0.84533837,  0.94233639]],\n",
       "\n",
       "       [[ 0.91725454,  0.59159355],\n",
       "        [-0.37466308, -0.35004473],\n",
       "        [ 0.50183837, -0.38612063],\n",
       "        [-0.9689832 , -2.25973279],\n",
       "        [ 0.97413203,  0.26193202]],\n",
       "\n",
       "       [[ 1.29195804,  0.52753274],\n",
       "        [ 0.79260475, -0.5766819 ],\n",
       "        [-0.4571203 ,  1.03198971],\n",
       "        [-0.44982421, -1.55817231],\n",
       "        [ 0.20016313,  0.23892575]],\n",
       "\n",
       "       [[ 1.93247695,  0.6686423 ],\n",
       "        [ 1.7152531 , -2.16294   ],\n",
       "        [-1.2162558 ,  0.57183848],\n",
       "        [-1.1964297 ,  0.13300458],\n",
       "        [-0.79852854, -0.26931035]]])"
      ]
     },
     "execution_count": 6,
     "metadata": {},
     "output_type": "execute_result"
    }
   ],
   "source": [
    "threed = random.reshape(10,5,2)\n",
    "threed"
   ]
  },
  {
   "cell_type": "markdown",
   "metadata": {},
   "source": [
    "You can perform basic arithmetic on arrays, using scalars or other arrays.\n",
    "\n",
    "For example, given the following two arrays"
   ]
  },
  {
   "cell_type": "code",
   "execution_count": 7,
   "metadata": {
    "collapsed": true
   },
   "outputs": [],
   "source": [
    "a1 = np.array([20.0,12.0,77.0,77.0])\n",
    "a2 = np.array([25.0,6.0,80.0,80.0])"
   ]
  },
  {
   "cell_type": "code",
   "execution_count": 8,
   "metadata": {
    "collapsed": false
   },
   "outputs": [
    {
     "data": {
      "text/plain": [
       "array([  45.,   18.,  157.,  157.])"
      ]
     },
     "execution_count": 8,
     "metadata": {},
     "output_type": "execute_result"
    }
   ],
   "source": [
    "# You can add:\n",
    "\n",
    "a1 + a2"
   ]
  },
  {
   "cell_type": "code",
   "execution_count": 9,
   "metadata": {
    "collapsed": false
   },
   "outputs": [
    {
     "data": {
      "text/plain": [
       "array([  500.,    72.,  6160.,  6160.])"
      ]
     },
     "execution_count": 9,
     "metadata": {},
     "output_type": "execute_result"
    }
   ],
   "source": [
    "# Multiply (element wise):\n",
    "\n",
    "a1 * a2"
   ]
  },
  {
   "cell_type": "code",
   "execution_count": 10,
   "metadata": {
    "collapsed": false
   },
   "outputs": [
    {
     "data": {
      "text/plain": [
       "12892.0"
      ]
     },
     "execution_count": 10,
     "metadata": {},
     "output_type": "execute_result"
    }
   ],
   "source": [
    "# Compute a dot product\n",
    "\n",
    "a1.dot(a2)"
   ]
  },
  {
   "cell_type": "code",
   "execution_count": 17,
   "metadata": {
    "collapsed": false
   },
   "outputs": [
    {
     "data": {
      "text/plain": [
       "matrix([[  500.,   120.,  1600.,  1600.],\n",
       "        [  300.,    72.,   960.,   960.],\n",
       "        [ 1925.,   462.,  6160.,  6160.],\n",
       "        [ 1925.,   462.,  6160.,  6160.]])"
      ]
     },
     "execution_count": 17,
     "metadata": {},
     "output_type": "execute_result"
    }
   ],
   "source": [
    "# You can also perform matrix operations\n",
    "# First tell numpy that your array is a matrix,\n",
    "# Then transpose to compatible shapes\n",
    "# Then multiply\n",
    "np.matrix(a1).transpose() * np.matrix(a2)"
   ]
  },
  {
   "cell_type": "code",
   "execution_count": null,
   "metadata": {
    "collapsed": false
   },
   "outputs": [],
   "source": []
  },
  {
   "cell_type": "markdown",
   "metadata": {},
   "source": [
    "## pandas\n",
    "\n",
    "Pandas DataFrame objects are one of the key data types used in veneer-py.\n",
    "\n",
    "A DataFrame is a tabular, two-dimensional data structure, which can be indexed in a range of ways, including a date and date/time index. DataFrames are aranged in named columns, each with a particular type (eg double, string, integer) and in this sense they are more flexible than numpy arrays.\n",
    "\n",
    "Each column in a DataFrame is a pandas Series, which is useful in its own right."
   ]
  },
  {
   "cell_type": "code",
   "execution_count": 20,
   "metadata": {
    "collapsed": false,
    "scrolled": true
   },
   "outputs": [
    {
     "name": "stdout",
     "output_type": "stream",
     "text": [
      "*** /runs/latest ***\n",
      "*** /runs/1/location/Default Link 4/element/Downstream Flow Volume/variable/Downstream Flow Volume ***\n",
      "*** /runs/1/location/SR2/element/Downstream Flow Volume/variable/Downstream Flow Volume ***\n",
      "*** /runs/1/location/SR3/element/Downstream Flow Volume/variable/Downstream Flow Volume ***\n",
      "*** /runs/1/location/Default Link 5/element/Downstream Flow Volume/variable/Downstream Flow Volume ***\n",
      "*** /runs/1/location/Ungauged Inflow/element/Downstream Flow Volume/variable/Downstream Flow Volume ***\n",
      "*** /runs/1/location/Storage/element/Downstream Flow Volume/variable/Downstream Flow Volume ***\n",
      "*** /runs/1/location/SP/element/Downstream Flow Volume/variable/Downstream Flow Volume ***\n",
      "*** /runs/1/location/MFR/element/Downstream Flow Volume/variable/Downstream Flow Volume ***\n",
      "*** /runs/1/location/Water User/element/Downstream Flow Volume/variable/Downstream Flow Volume ***\n",
      "*** /runs/1/location/End Of System/element/Downstream Flow Volume/variable/Downstream Flow Volume ***\n"
     ]
    }
   ],
   "source": [
    "import veneer\n",
    "v = veneer.Veneer(port=9876)\n",
    "downstream_flow_vol = v.retrieve_multiple_time_series(criteria={'RecordingVariable':'Downstream Flow Volume'})"
   ]
  },
  {
   "cell_type": "markdown",
   "metadata": {
    "collapsed": true
   },
   "source": [
    "Pandas DataFrames have a tabular presentation in the Jupyter notebook.\n",
    "\n",
    "It's also possible to _slice_ subsets of rows"
   ]
  },
  {
   "cell_type": "code",
   "execution_count": 22,
   "metadata": {
    "collapsed": false
   },
   "outputs": [
    {
     "data": {
      "text/html": [
       "<div>\n",
       "<table border=\"1\" class=\"dataframe\">\n",
       "  <thead>\n",
       "    <tr style=\"text-align: right;\">\n",
       "      <th></th>\n",
       "      <th>Default Link #4:Downstream Flow Volume</th>\n",
       "      <th>Default Link #5:Downstream Flow Volume</th>\n",
       "      <th>End Of System:Downstream Flow Volume</th>\n",
       "      <th>MFR:Downstream Flow Volume</th>\n",
       "      <th>SP:Downstream Flow Volume</th>\n",
       "      <th>SR2:Downstream Flow Volume</th>\n",
       "      <th>SR3:Downstream Flow Volume</th>\n",
       "      <th>Storage:Downstream Flow Volume</th>\n",
       "      <th>Ungauged Inflow:Downstream Flow Volume</th>\n",
       "      <th>Water User:Downstream Flow Volume</th>\n",
       "    </tr>\n",
       "  </thead>\n",
       "  <tbody>\n",
       "    <tr>\n",
       "      <th>1901-01-01</th>\n",
       "      <td>0.000000</td>\n",
       "      <td>514.15</td>\n",
       "      <td>0.000000</td>\n",
       "      <td>0.000000</td>\n",
       "      <td>0.000000</td>\n",
       "      <td>0.000000</td>\n",
       "      <td>0.000000</td>\n",
       "      <td>0.000000</td>\n",
       "      <td>514.15</td>\n",
       "      <td>0</td>\n",
       "    </tr>\n",
       "    <tr>\n",
       "      <th>1901-01-02</th>\n",
       "      <td>0.000000</td>\n",
       "      <td>483.35</td>\n",
       "      <td>0.000000</td>\n",
       "      <td>0.000000</td>\n",
       "      <td>0.000000</td>\n",
       "      <td>0.000000</td>\n",
       "      <td>0.000000</td>\n",
       "      <td>0.000000</td>\n",
       "      <td>483.35</td>\n",
       "      <td>0</td>\n",
       "    </tr>\n",
       "    <tr>\n",
       "      <th>1901-01-03</th>\n",
       "      <td>6349.027111</td>\n",
       "      <td>1815.10</td>\n",
       "      <td>6349.027111</td>\n",
       "      <td>6349.027111</td>\n",
       "      <td>6349.027111</td>\n",
       "      <td>6349.027111</td>\n",
       "      <td>6349.027111</td>\n",
       "      <td>6349.027111</td>\n",
       "      <td>1815.10</td>\n",
       "      <td>0</td>\n",
       "    </tr>\n",
       "    <tr>\n",
       "      <th>1901-01-04</th>\n",
       "      <td>0.000000</td>\n",
       "      <td>2857.05</td>\n",
       "      <td>0.000000</td>\n",
       "      <td>0.000000</td>\n",
       "      <td>0.000000</td>\n",
       "      <td>0.000000</td>\n",
       "      <td>0.000000</td>\n",
       "      <td>0.000000</td>\n",
       "      <td>2857.05</td>\n",
       "      <td>0</td>\n",
       "    </tr>\n",
       "    <tr>\n",
       "      <th>1901-01-05</th>\n",
       "      <td>0.000000</td>\n",
       "      <td>2763.25</td>\n",
       "      <td>0.000000</td>\n",
       "      <td>0.000000</td>\n",
       "      <td>0.000000</td>\n",
       "      <td>0.000000</td>\n",
       "      <td>0.000000</td>\n",
       "      <td>0.000000</td>\n",
       "      <td>2763.25</td>\n",
       "      <td>0</td>\n",
       "    </tr>\n",
       "    <tr>\n",
       "      <th>1901-01-06</th>\n",
       "      <td>316601.314118</td>\n",
       "      <td>11478.60</td>\n",
       "      <td>316601.314118</td>\n",
       "      <td>316601.314118</td>\n",
       "      <td>316601.314118</td>\n",
       "      <td>316601.314118</td>\n",
       "      <td>316601.314118</td>\n",
       "      <td>316601.314118</td>\n",
       "      <td>11478.60</td>\n",
       "      <td>0</td>\n",
       "    </tr>\n",
       "    <tr>\n",
       "      <th>1901-01-07</th>\n",
       "      <td>0.000000</td>\n",
       "      <td>8350.30</td>\n",
       "      <td>0.000000</td>\n",
       "      <td>0.000000</td>\n",
       "      <td>0.000000</td>\n",
       "      <td>0.000000</td>\n",
       "      <td>0.000000</td>\n",
       "      <td>0.000000</td>\n",
       "      <td>8350.30</td>\n",
       "      <td>0</td>\n",
       "    </tr>\n",
       "    <tr>\n",
       "      <th>1901-01-08</th>\n",
       "      <td>0.000000</td>\n",
       "      <td>5412.40</td>\n",
       "      <td>0.000000</td>\n",
       "      <td>0.000000</td>\n",
       "      <td>0.000000</td>\n",
       "      <td>0.000000</td>\n",
       "      <td>0.000000</td>\n",
       "      <td>0.000000</td>\n",
       "      <td>5412.40</td>\n",
       "      <td>0</td>\n",
       "    </tr>\n",
       "    <tr>\n",
       "      <th>1901-01-09</th>\n",
       "      <td>0.000000</td>\n",
       "      <td>3761.10</td>\n",
       "      <td>0.000000</td>\n",
       "      <td>0.000000</td>\n",
       "      <td>0.000000</td>\n",
       "      <td>0.000000</td>\n",
       "      <td>0.000000</td>\n",
       "      <td>0.000000</td>\n",
       "      <td>3761.10</td>\n",
       "      <td>0</td>\n",
       "    </tr>\n",
       "    <tr>\n",
       "      <th>1901-01-10</th>\n",
       "      <td>0.000000</td>\n",
       "      <td>2825.20</td>\n",
       "      <td>0.000000</td>\n",
       "      <td>0.000000</td>\n",
       "      <td>0.000000</td>\n",
       "      <td>0.000000</td>\n",
       "      <td>0.000000</td>\n",
       "      <td>0.000000</td>\n",
       "      <td>2825.20</td>\n",
       "      <td>0</td>\n",
       "    </tr>\n",
       "  </tbody>\n",
       "</table>\n",
       "</div>"
      ],
      "text/plain": [
       "            Default Link #4:Downstream Flow Volume  \\\n",
       "1901-01-01                                0.000000   \n",
       "1901-01-02                                0.000000   \n",
       "1901-01-03                             6349.027111   \n",
       "1901-01-04                                0.000000   \n",
       "1901-01-05                                0.000000   \n",
       "1901-01-06                           316601.314118   \n",
       "1901-01-07                                0.000000   \n",
       "1901-01-08                                0.000000   \n",
       "1901-01-09                                0.000000   \n",
       "1901-01-10                                0.000000   \n",
       "\n",
       "            Default Link #5:Downstream Flow Volume  \\\n",
       "1901-01-01                                  514.15   \n",
       "1901-01-02                                  483.35   \n",
       "1901-01-03                                 1815.10   \n",
       "1901-01-04                                 2857.05   \n",
       "1901-01-05                                 2763.25   \n",
       "1901-01-06                                11478.60   \n",
       "1901-01-07                                 8350.30   \n",
       "1901-01-08                                 5412.40   \n",
       "1901-01-09                                 3761.10   \n",
       "1901-01-10                                 2825.20   \n",
       "\n",
       "            End Of System:Downstream Flow Volume  MFR:Downstream Flow Volume  \\\n",
       "1901-01-01                              0.000000                    0.000000   \n",
       "1901-01-02                              0.000000                    0.000000   \n",
       "1901-01-03                           6349.027111                 6349.027111   \n",
       "1901-01-04                              0.000000                    0.000000   \n",
       "1901-01-05                              0.000000                    0.000000   \n",
       "1901-01-06                         316601.314118               316601.314118   \n",
       "1901-01-07                              0.000000                    0.000000   \n",
       "1901-01-08                              0.000000                    0.000000   \n",
       "1901-01-09                              0.000000                    0.000000   \n",
       "1901-01-10                              0.000000                    0.000000   \n",
       "\n",
       "            SP:Downstream Flow Volume  SR2:Downstream Flow Volume  \\\n",
       "1901-01-01                   0.000000                    0.000000   \n",
       "1901-01-02                   0.000000                    0.000000   \n",
       "1901-01-03                6349.027111                 6349.027111   \n",
       "1901-01-04                   0.000000                    0.000000   \n",
       "1901-01-05                   0.000000                    0.000000   \n",
       "1901-01-06              316601.314118               316601.314118   \n",
       "1901-01-07                   0.000000                    0.000000   \n",
       "1901-01-08                   0.000000                    0.000000   \n",
       "1901-01-09                   0.000000                    0.000000   \n",
       "1901-01-10                   0.000000                    0.000000   \n",
       "\n",
       "            SR3:Downstream Flow Volume  Storage:Downstream Flow Volume  \\\n",
       "1901-01-01                    0.000000                        0.000000   \n",
       "1901-01-02                    0.000000                        0.000000   \n",
       "1901-01-03                 6349.027111                     6349.027111   \n",
       "1901-01-04                    0.000000                        0.000000   \n",
       "1901-01-05                    0.000000                        0.000000   \n",
       "1901-01-06               316601.314118                   316601.314118   \n",
       "1901-01-07                    0.000000                        0.000000   \n",
       "1901-01-08                    0.000000                        0.000000   \n",
       "1901-01-09                    0.000000                        0.000000   \n",
       "1901-01-10                    0.000000                        0.000000   \n",
       "\n",
       "            Ungauged Inflow:Downstream Flow Volume  \\\n",
       "1901-01-01                                  514.15   \n",
       "1901-01-02                                  483.35   \n",
       "1901-01-03                                 1815.10   \n",
       "1901-01-04                                 2857.05   \n",
       "1901-01-05                                 2763.25   \n",
       "1901-01-06                                11478.60   \n",
       "1901-01-07                                 8350.30   \n",
       "1901-01-08                                 5412.40   \n",
       "1901-01-09                                 3761.10   \n",
       "1901-01-10                                 2825.20   \n",
       "\n",
       "            Water User:Downstream Flow Volume  \n",
       "1901-01-01                                  0  \n",
       "1901-01-02                                  0  \n",
       "1901-01-03                                  0  \n",
       "1901-01-04                                  0  \n",
       "1901-01-05                                  0  \n",
       "1901-01-06                                  0  \n",
       "1901-01-07                                  0  \n",
       "1901-01-08                                  0  \n",
       "1901-01-09                                  0  \n",
       "1901-01-10                                  0  "
      ]
     },
     "execution_count": 22,
     "metadata": {},
     "output_type": "execute_result"
    }
   ],
   "source": [
    "downstream_flow_vol[0:10] # <-- Look at first 10 rows (timesteps)"
   ]
  },
  {
   "cell_type": "code",
   "execution_count": 27,
   "metadata": {
    "collapsed": false
   },
   "outputs": [
    {
     "data": {
      "text/html": [
       "<div>\n",
       "<table border=\"1\" class=\"dataframe\">\n",
       "  <thead>\n",
       "    <tr style=\"text-align: right;\">\n",
       "      <th></th>\n",
       "      <th>Default Link #4:Downstream Flow Volume</th>\n",
       "      <th>Default Link #5:Downstream Flow Volume</th>\n",
       "      <th>End Of System:Downstream Flow Volume</th>\n",
       "      <th>MFR:Downstream Flow Volume</th>\n",
       "      <th>SP:Downstream Flow Volume</th>\n",
       "      <th>SR2:Downstream Flow Volume</th>\n",
       "      <th>SR3:Downstream Flow Volume</th>\n",
       "      <th>Storage:Downstream Flow Volume</th>\n",
       "      <th>Ungauged Inflow:Downstream Flow Volume</th>\n",
       "      <th>Water User:Downstream Flow Volume</th>\n",
       "    </tr>\n",
       "  </thead>\n",
       "  <tbody>\n",
       "    <tr>\n",
       "      <th>1901-01-01</th>\n",
       "      <td>0.0</td>\n",
       "      <td>514.15</td>\n",
       "      <td>0.0</td>\n",
       "      <td>0.0</td>\n",
       "      <td>0.0</td>\n",
       "      <td>0.0</td>\n",
       "      <td>0.0</td>\n",
       "      <td>0.0</td>\n",
       "      <td>514.15</td>\n",
       "      <td>0</td>\n",
       "    </tr>\n",
       "    <tr>\n",
       "      <th>1909-03-20</th>\n",
       "      <td>0.0</td>\n",
       "      <td>397.60</td>\n",
       "      <td>0.0</td>\n",
       "      <td>0.0</td>\n",
       "      <td>0.0</td>\n",
       "      <td>0.0</td>\n",
       "      <td>0.0</td>\n",
       "      <td>0.0</td>\n",
       "      <td>397.60</td>\n",
       "      <td>0</td>\n",
       "    </tr>\n",
       "    <tr>\n",
       "      <th>1917-06-06</th>\n",
       "      <td>0.0</td>\n",
       "      <td>3583.30</td>\n",
       "      <td>0.0</td>\n",
       "      <td>0.0</td>\n",
       "      <td>0.0</td>\n",
       "      <td>0.0</td>\n",
       "      <td>0.0</td>\n",
       "      <td>0.0</td>\n",
       "      <td>3583.30</td>\n",
       "      <td>0</td>\n",
       "    </tr>\n",
       "    <tr>\n",
       "      <th>1925-08-23</th>\n",
       "      <td>0.0</td>\n",
       "      <td>23529.80</td>\n",
       "      <td>0.0</td>\n",
       "      <td>0.0</td>\n",
       "      <td>0.0</td>\n",
       "      <td>0.0</td>\n",
       "      <td>0.0</td>\n",
       "      <td>0.0</td>\n",
       "      <td>23529.80</td>\n",
       "      <td>0</td>\n",
       "    </tr>\n",
       "    <tr>\n",
       "      <th>1933-11-09</th>\n",
       "      <td>0.0</td>\n",
       "      <td>2212.35</td>\n",
       "      <td>0.0</td>\n",
       "      <td>0.0</td>\n",
       "      <td>0.0</td>\n",
       "      <td>0.0</td>\n",
       "      <td>0.0</td>\n",
       "      <td>0.0</td>\n",
       "      <td>2212.35</td>\n",
       "      <td>0</td>\n",
       "    </tr>\n",
       "    <tr>\n",
       "      <th>1942-01-26</th>\n",
       "      <td>0.0</td>\n",
       "      <td>807.80</td>\n",
       "      <td>0.0</td>\n",
       "      <td>0.0</td>\n",
       "      <td>0.0</td>\n",
       "      <td>0.0</td>\n",
       "      <td>0.0</td>\n",
       "      <td>0.0</td>\n",
       "      <td>807.80</td>\n",
       "      <td>0</td>\n",
       "    </tr>\n",
       "    <tr>\n",
       "      <th>1950-04-14</th>\n",
       "      <td>0.0</td>\n",
       "      <td>1311.80</td>\n",
       "      <td>0.0</td>\n",
       "      <td>0.0</td>\n",
       "      <td>0.0</td>\n",
       "      <td>0.0</td>\n",
       "      <td>0.0</td>\n",
       "      <td>0.0</td>\n",
       "      <td>1311.80</td>\n",
       "      <td>0</td>\n",
       "    </tr>\n",
       "    <tr>\n",
       "      <th>1958-07-01</th>\n",
       "      <td>0.0</td>\n",
       "      <td>11866.05</td>\n",
       "      <td>0.0</td>\n",
       "      <td>0.0</td>\n",
       "      <td>0.0</td>\n",
       "      <td>0.0</td>\n",
       "      <td>0.0</td>\n",
       "      <td>0.0</td>\n",
       "      <td>11866.05</td>\n",
       "      <td>0</td>\n",
       "    </tr>\n",
       "    <tr>\n",
       "      <th>1966-09-17</th>\n",
       "      <td>0.0</td>\n",
       "      <td>4036.90</td>\n",
       "      <td>0.0</td>\n",
       "      <td>0.0</td>\n",
       "      <td>0.0</td>\n",
       "      <td>0.0</td>\n",
       "      <td>0.0</td>\n",
       "      <td>0.0</td>\n",
       "      <td>4036.90</td>\n",
       "      <td>0</td>\n",
       "    </tr>\n",
       "    <tr>\n",
       "      <th>1974-12-04</th>\n",
       "      <td>0.0</td>\n",
       "      <td>947.45</td>\n",
       "      <td>0.0</td>\n",
       "      <td>0.0</td>\n",
       "      <td>0.0</td>\n",
       "      <td>0.0</td>\n",
       "      <td>0.0</td>\n",
       "      <td>0.0</td>\n",
       "      <td>947.45</td>\n",
       "      <td>0</td>\n",
       "    </tr>\n",
       "    <tr>\n",
       "      <th>1983-02-20</th>\n",
       "      <td>0.0</td>\n",
       "      <td>2293.20</td>\n",
       "      <td>0.0</td>\n",
       "      <td>0.0</td>\n",
       "      <td>0.0</td>\n",
       "      <td>0.0</td>\n",
       "      <td>0.0</td>\n",
       "      <td>0.0</td>\n",
       "      <td>2293.20</td>\n",
       "      <td>0</td>\n",
       "    </tr>\n",
       "    <tr>\n",
       "      <th>1991-05-09</th>\n",
       "      <td>0.0</td>\n",
       "      <td>963.55</td>\n",
       "      <td>0.0</td>\n",
       "      <td>0.0</td>\n",
       "      <td>0.0</td>\n",
       "      <td>0.0</td>\n",
       "      <td>0.0</td>\n",
       "      <td>0.0</td>\n",
       "      <td>963.55</td>\n",
       "      <td>0</td>\n",
       "    </tr>\n",
       "    <tr>\n",
       "      <th>1999-07-26</th>\n",
       "      <td>0.0</td>\n",
       "      <td>10372.60</td>\n",
       "      <td>0.0</td>\n",
       "      <td>0.0</td>\n",
       "      <td>0.0</td>\n",
       "      <td>0.0</td>\n",
       "      <td>0.0</td>\n",
       "      <td>0.0</td>\n",
       "      <td>10372.60</td>\n",
       "      <td>0</td>\n",
       "    </tr>\n",
       "    <tr>\n",
       "      <th>2007-10-12</th>\n",
       "      <td>0.0</td>\n",
       "      <td>3394.30</td>\n",
       "      <td>0.0</td>\n",
       "      <td>0.0</td>\n",
       "      <td>0.0</td>\n",
       "      <td>0.0</td>\n",
       "      <td>0.0</td>\n",
       "      <td>0.0</td>\n",
       "      <td>3394.30</td>\n",
       "      <td>0</td>\n",
       "    </tr>\n",
       "  </tbody>\n",
       "</table>\n",
       "</div>"
      ],
      "text/plain": [
       "            Default Link #4:Downstream Flow Volume  \\\n",
       "1901-01-01                                     0.0   \n",
       "1909-03-20                                     0.0   \n",
       "1917-06-06                                     0.0   \n",
       "1925-08-23                                     0.0   \n",
       "1933-11-09                                     0.0   \n",
       "1942-01-26                                     0.0   \n",
       "1950-04-14                                     0.0   \n",
       "1958-07-01                                     0.0   \n",
       "1966-09-17                                     0.0   \n",
       "1974-12-04                                     0.0   \n",
       "1983-02-20                                     0.0   \n",
       "1991-05-09                                     0.0   \n",
       "1999-07-26                                     0.0   \n",
       "2007-10-12                                     0.0   \n",
       "\n",
       "            Default Link #5:Downstream Flow Volume  \\\n",
       "1901-01-01                                  514.15   \n",
       "1909-03-20                                  397.60   \n",
       "1917-06-06                                 3583.30   \n",
       "1925-08-23                                23529.80   \n",
       "1933-11-09                                 2212.35   \n",
       "1942-01-26                                  807.80   \n",
       "1950-04-14                                 1311.80   \n",
       "1958-07-01                                11866.05   \n",
       "1966-09-17                                 4036.90   \n",
       "1974-12-04                                  947.45   \n",
       "1983-02-20                                 2293.20   \n",
       "1991-05-09                                  963.55   \n",
       "1999-07-26                                10372.60   \n",
       "2007-10-12                                 3394.30   \n",
       "\n",
       "            End Of System:Downstream Flow Volume  MFR:Downstream Flow Volume  \\\n",
       "1901-01-01                                   0.0                         0.0   \n",
       "1909-03-20                                   0.0                         0.0   \n",
       "1917-06-06                                   0.0                         0.0   \n",
       "1925-08-23                                   0.0                         0.0   \n",
       "1933-11-09                                   0.0                         0.0   \n",
       "1942-01-26                                   0.0                         0.0   \n",
       "1950-04-14                                   0.0                         0.0   \n",
       "1958-07-01                                   0.0                         0.0   \n",
       "1966-09-17                                   0.0                         0.0   \n",
       "1974-12-04                                   0.0                         0.0   \n",
       "1983-02-20                                   0.0                         0.0   \n",
       "1991-05-09                                   0.0                         0.0   \n",
       "1999-07-26                                   0.0                         0.0   \n",
       "2007-10-12                                   0.0                         0.0   \n",
       "\n",
       "            SP:Downstream Flow Volume  SR2:Downstream Flow Volume  \\\n",
       "1901-01-01                        0.0                         0.0   \n",
       "1909-03-20                        0.0                         0.0   \n",
       "1917-06-06                        0.0                         0.0   \n",
       "1925-08-23                        0.0                         0.0   \n",
       "1933-11-09                        0.0                         0.0   \n",
       "1942-01-26                        0.0                         0.0   \n",
       "1950-04-14                        0.0                         0.0   \n",
       "1958-07-01                        0.0                         0.0   \n",
       "1966-09-17                        0.0                         0.0   \n",
       "1974-12-04                        0.0                         0.0   \n",
       "1983-02-20                        0.0                         0.0   \n",
       "1991-05-09                        0.0                         0.0   \n",
       "1999-07-26                        0.0                         0.0   \n",
       "2007-10-12                        0.0                         0.0   \n",
       "\n",
       "            SR3:Downstream Flow Volume  Storage:Downstream Flow Volume  \\\n",
       "1901-01-01                         0.0                             0.0   \n",
       "1909-03-20                         0.0                             0.0   \n",
       "1917-06-06                         0.0                             0.0   \n",
       "1925-08-23                         0.0                             0.0   \n",
       "1933-11-09                         0.0                             0.0   \n",
       "1942-01-26                         0.0                             0.0   \n",
       "1950-04-14                         0.0                             0.0   \n",
       "1958-07-01                         0.0                             0.0   \n",
       "1966-09-17                         0.0                             0.0   \n",
       "1974-12-04                         0.0                             0.0   \n",
       "1983-02-20                         0.0                             0.0   \n",
       "1991-05-09                         0.0                             0.0   \n",
       "1999-07-26                         0.0                             0.0   \n",
       "2007-10-12                         0.0                             0.0   \n",
       "\n",
       "            Ungauged Inflow:Downstream Flow Volume  \\\n",
       "1901-01-01                                  514.15   \n",
       "1909-03-20                                  397.60   \n",
       "1917-06-06                                 3583.30   \n",
       "1925-08-23                                23529.80   \n",
       "1933-11-09                                 2212.35   \n",
       "1942-01-26                                  807.80   \n",
       "1950-04-14                                 1311.80   \n",
       "1958-07-01                                11866.05   \n",
       "1966-09-17                                 4036.90   \n",
       "1974-12-04                                  947.45   \n",
       "1983-02-20                                 2293.20   \n",
       "1991-05-09                                  963.55   \n",
       "1999-07-26                                10372.60   \n",
       "2007-10-12                                 3394.30   \n",
       "\n",
       "            Water User:Downstream Flow Volume  \n",
       "1901-01-01                                  0  \n",
       "1909-03-20                                  0  \n",
       "1917-06-06                                  0  \n",
       "1925-08-23                                  0  \n",
       "1933-11-09                                  0  \n",
       "1942-01-26                                  0  \n",
       "1950-04-14                                  0  \n",
       "1958-07-01                                  0  \n",
       "1966-09-17                                  0  \n",
       "1974-12-04                                  0  \n",
       "1983-02-20                                  0  \n",
       "1991-05-09                                  0  \n",
       "1999-07-26                                  0  \n",
       "2007-10-12                                  0  "
      ]
     },
     "execution_count": 27,
     "metadata": {},
     "output_type": "execute_result"
    }
   ],
   "source": [
    "downstream_flow_vol[0::3000] # <-- Look at every 3000th timestep"
   ]
  },
  {
   "cell_type": "markdown",
   "metadata": {},
   "source": [
    "You can quickly get stats for each column in a DataFrame"
   ]
  },
  {
   "cell_type": "code",
   "execution_count": 29,
   "metadata": {
    "collapsed": false
   },
   "outputs": [
    {
     "data": {
      "text/plain": [
       "Default Link #4:Downstream Flow Volume     377.669594\n",
       "Default Link #5:Downstream Flow Volume    5315.220367\n",
       "End Of System:Downstream Flow Volume       377.669594\n",
       "MFR:Downstream Flow Volume                 377.669594\n",
       "SP:Downstream Flow Volume                  377.669594\n",
       "SR2:Downstream Flow Volume                 377.669594\n",
       "SR3:Downstream Flow Volume                 377.669594\n",
       "Storage:Downstream Flow Volume             377.669594\n",
       "Ungauged Inflow:Downstream Flow Volume    5315.220367\n",
       "Water User:Downstream Flow Volume            0.000000\n",
       "dtype: float64"
      ]
     },
     "execution_count": 29,
     "metadata": {},
     "output_type": "execute_result"
    }
   ],
   "source": [
    "downstream_flow_vol.mean()"
   ]
  },
  {
   "cell_type": "markdown",
   "metadata": {},
   "source": [
    "You can get the same stats along rows:"
   ]
  },
  {
   "cell_type": "code",
   "execution_count": 31,
   "metadata": {
    "collapsed": false
   },
   "outputs": [
    {
     "data": {
      "text/plain": [
       "1901-01-01       102.830000\n",
       "1901-01-02        96.670000\n",
       "1901-01-03      4807.338978\n",
       "1901-01-04       571.410000\n",
       "1901-01-05       552.650000\n",
       "1901-01-06    223916.639883\n",
       "1901-01-07      1670.060000\n",
       "1901-01-08      1082.480000\n",
       "1901-01-09       752.220000\n",
       "1901-01-10       565.040000\n",
       "1901-01-11       457.520000\n",
       "1901-01-12       394.310000\n",
       "1901-01-13       355.810000\n",
       "1901-01-14       331.100000\n",
       "1901-01-15       314.230000\n",
       "1901-01-16       301.700000\n",
       "1901-01-17       291.690000\n",
       "1901-01-18      1587.390000\n",
       "1901-01-19      1158.920000\n",
       "1901-01-20       810.810000\n",
       "1901-01-21       613.340000\n",
       "1901-01-22       499.730000\n",
       "1901-01-23       432.740000\n",
       "1901-01-24       391.860000\n",
       "1901-01-25       365.470000\n",
       "1901-01-26       347.270000\n",
       "1901-01-27       333.690000\n",
       "1901-01-28       322.770000\n",
       "1901-01-29       313.390000\n",
       "1901-01-30       304.990000\n",
       "                  ...      \n",
       "2013-12-02       297.430000\n",
       "2013-12-03       290.290000\n",
       "2013-12-04       283.360000\n",
       "2013-12-05       276.500000\n",
       "2013-12-06       269.850000\n",
       "2013-12-07       263.410000\n",
       "2013-12-08       257.040000\n",
       "2013-12-09       250.880000\n",
       "2013-12-10       244.860000\n",
       "2013-12-11       238.980000\n",
       "2013-12-12       233.240000\n",
       "2013-12-13       227.570000\n",
       "2013-12-14       222.110000\n",
       "2013-12-15       216.790000\n",
       "2013-12-16       211.540000\n",
       "2013-12-17       206.430000\n",
       "2013-12-18       201.460000\n",
       "2013-12-19       196.630000\n",
       "2013-12-20       191.870000\n",
       "2013-12-21       187.250000\n",
       "2013-12-22       182.700000\n",
       "2013-12-23       178.290000\n",
       "2013-12-24       174.020000\n",
       "2013-12-25       169.820000\n",
       "2013-12-26       165.690000\n",
       "2013-12-27       161.700000\n",
       "2013-12-28       157.780000\n",
       "2013-12-29       153.930000\n",
       "2013-12-30       150.220000\n",
       "2013-12-31       146.580000\n",
       "dtype: float64"
      ]
     },
     "execution_count": 31,
     "metadata": {},
     "output_type": "execute_result"
    }
   ],
   "source": [
    "downstream_flow_vol.mean(axis=1)"
   ]
  },
  {
   "cell_type": "markdown",
   "metadata": {},
   "source": [
    "## Spatial tools\n",
    "\n"
   ]
  },
  {
   "cell_type": "code",
   "execution_count": null,
   "metadata": {
    "collapsed": true
   },
   "outputs": [],
   "source": []
  },
  {
   "cell_type": "code",
   "execution_count": null,
   "metadata": {
    "collapsed": true
   },
   "outputs": [],
   "source": []
  },
  {
   "cell_type": "code",
   "execution_count": null,
   "metadata": {
    "collapsed": true
   },
   "outputs": [],
   "source": []
  },
  {
   "cell_type": "markdown",
   "metadata": {},
   "source": [
    "## Jupyter and visualisation\n",
    "\n",
    "It is worth spending some time exploring the capabilities of the Jupyter notebook.\n",
    "\n",
    "In terms of managing your work:\n",
    "\n",
    "* The **Edit** and **Insert** menus have useful functions for rearranging cells, creating new cells, etc\n",
    "* The **Cell** menu has functions for running all cells in a notebook, all cells above a particular point and all cells below a point.\n",
    "* The **Kernel** menu controls the execution and lifecycle of the Python session. (In this instance, Kernel refers to an instance of an IPython session that is connected to the notebook. The **Restart** command clears all variables - even though earlier output is still visible in the notebook)\n"
   ]
  },
  {
   "cell_type": "markdown",
   "metadata": {},
   "source": [
    "At this stage, most visualisation in Python notebooks is handled by matplotlib.\n",
    "\n",
    "Matplotlib is powerful, but the learning curve can be steep."
   ]
  },
  {
   "cell_type": "code",
   "execution_count": 38,
   "metadata": {
    "collapsed": true
   },
   "outputs": [],
   "source": [
    "import matplotlib.pyplot as plt\n",
    "%matplotlib inline"
   ]
  },
  {
   "cell_type": "markdown",
   "metadata": {},
   "source": [
    "Typically, you'll create a single plot from a single cell"
   ]
  },
  {
   "cell_type": "code",
   "execution_count": 40,
   "metadata": {
    "collapsed": false
   },
   "outputs": [
    {
     "data": {
      "text/plain": [
       "(array([  12.,   28.,   67.,   95.,  100.,   94.,   68.,   19.,   13.,    4.]),\n",
       " array([-2.56560177, -1.99247094, -1.41934011, -0.84620928, -0.27307845,\n",
       "         0.30005238,  0.87318321,  1.44631404,  2.01944487,  2.5925757 ,\n",
       "         3.16570653]),\n",
       " <a list of 10 Patch objects>)"
      ]
     },
     "execution_count": 40,
     "metadata": {},
     "output_type": "execute_result"
    },
    {
     "data": {
      "image/png": "[encoded data removed]",
      "text/plain": [
       "<matplotlib.figure.Figure at 0x9aced68>"
      ]
     },
     "metadata": {},
     "output_type": "display_data"
    }
   ],
   "source": [
    "plt.hist(np.random.normal(size=500))"
   ]
  },
  {
   "cell_type": "markdown",
   "metadata": {},
   "source": [
    "... But the matplotlib subplots functionality allows you to create matrices of plots."
   ]
  },
  {
   "cell_type": "code",
   "execution_count": 51,
   "metadata": {
    "collapsed": false
   },
   "outputs": [
    {
     "data": {
      "image/png": "[encoded data removed]",
      "text/plain": [
       "<matplotlib.figure.Figure at 0x9405ac8>"
      ]
     },
     "metadata": {},
     "output_type": "display_data"
    }
   ],
   "source": [
    "methods=[np.random.uniform,np.random.normal,np.random.exponential]\n",
    "\n",
    "n=len(methods)\n",
    "\n",
    "# Create n sets of random numbers, where n is the number of methods specified\n",
    "random_sets = [method(size=1000) for method in methods]\n",
    "\n",
    "for i in range(n):\n",
    "    # Arrange subplots 2 rows x 3 columns\n",
    "    # Access the i'th column on the first row\n",
    "    ax = plt.subplot(2,3,i+1)\n",
    "    # Plot the random numbers\n",
    "    ax.plot(random_sets[i])\n",
    "    # Access the i'th column on the second row\n",
    "    ax = plt.subplot(2,3,n+i+1)\n",
    "    # Plot a histogram of the corresponding numbers\n",
    "    ax.hist(random_sets[i])"
   ]
  },
  {
   "cell_type": "code",
   "execution_count": 34,
   "metadata": {
    "collapsed": true
   },
   "outputs": [],
   "source": []
  },
  {
   "cell_type": "code",
   "execution_count": 45,
   "metadata": {
    "collapsed": true
   },
   "outputs": [],
   "source": []
  },
  {
   "cell_type": "code",
   "execution_count": null,
   "metadata": {
    "collapsed": true
   },
   "outputs": [],
   "source": []
  }
 ],
 "metadata": {
  "kernelspec": {
   "display_name": "Python 3",
   "language": "python",
   "name": "python3"
  },
  "language_info": {
   "codemirror_mode": {
    "name": "ipython",
    "version": 3
   },
   "file_extension": ".py",
   "mimetype": "text/x-python",
   "name": "python",
   "nbconvert_exporter": "python",
   "pygments_lexer": "ipython3",
   "version": "3.4.4"
  }
 },
 "nbformat": 4,
 "nbformat_minor": 0
}
