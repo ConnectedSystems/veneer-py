{
 "cells": [
  {
   "cell_type": "code",
   "execution_count": 1,
   "metadata": {
    "collapsed": false,
    "scrolled": true
   },
   "outputs": [],
   "source": [
    "# Putting the initialisation at the top now!\n",
    "import veneer\n",
    "%matplotlib inline\n",
    "import matplotlib.pyplot as plt\n",
    "import pandas as pd\n",
    "import numpy as np\n",
    "\n",
    "v = veneer.Veneer(port=9876)"
   ]
  },
  {
   "cell_type": "markdown",
   "metadata": {},
   "source": [
    "# Session 6 - Model Setup and Reconfiguration\n",
    "\n",
    "This session covers functionality in Veneer and veneer-py for making larger changes to model setup, including structural changes.\n",
    "\n",
    "Using this functionality, it is possible to:\n",
    "\n",
    "* Create (and remove) nodes and links\n",
    "* Change model algorithms, such as changing links from Straight Through Routing to Storage Routing\n",
    "* Assign input time series to model variables\n",
    "* Query and modify parameters across similar nodes/links/catchments/functional-units\n",
    "\n",
    "## Overview\n",
    "\n",
    "- (This is a Big topic)\n",
    "- Strengths and limitations of configuring from outside\n",
    "  - +ve repeatability\n",
    "  - +ve clarity around common elements - e.g. do one thing everywhere, parameterised by spatial data\n",
    "  - -ve feedback - need to query the system to find out what you need to do vs a GUI that displays it\n",
    "- Obvious and compelling use cases (worked examples)\n",
    "  - Catchments: Applying a constituent model everywhere and assigning parameters using spatial data\n",
    "  - Catchments: Climate data\n",
    "- How it works:\n",
    "  - The Python <-> IronPython bridge\n",
    "  - What’s happening under the hood\n",
    "  - Layers of helper functions\n",
    "  - How to discover parameters\n",
    "- Harder examples (not fully worked)\n",
    "  - Creating and configuring a storage from scratch\n",
    "- Extending the system\n",
    "\n",
    "\n",
    "**Note:** This session uses `ExampleProject/RiverModel2.rsproj`. You are welcome to work with your own model instead, however you will need to change the notebook text at certain points to reflect the names of nodes, links and functions in your model file.\n"
   ]
  },
  {
   "cell_type": "markdown",
   "metadata": {
    "collapsed": true
   },
   "source": [
    "## Warning: Big Topic\n",
    "\n",
    "This is a big topic and the material in this session will only touch on some of the possibilities.\n",
    "\n",
    "Furthermore, its an evolving area - so while there is general purpose functionality that is quite stable, making the functionality easy to use for particular tasks is a case by case basis that has been tackled on an as-needed basis. **There are lots of gaps!**"
   ]
  },
  {
   "cell_type": "markdown",
   "metadata": {},
   "source": [
    "## Motivations, Strengths and Limitations of Scripting configuration\n",
    "\n",
    "There are various motivations for the type of automation of Source model setup described here. Some of these motivations are more practical to achieve than others!\n",
    "\n",
    "### Automatically build a model from scratch, using an executable 'recipe'\n",
    "\n",
    "Could you build a complete Source model from scratch using a script?\n",
    "\n",
    "In theory, yes you could. However it is not practical at this point in time using Veneer. (Though the idea of building a catchments-style model is more foreseeable than building a complex river model).\n",
    "\n",
    "For some people, building a model from script would be desirable as it would have some similarities to configuring models in text files as was done with the previous generation of river models. A script would be more powerful though, because it has the ability to bring in adhoc data sources (GIS layers, CSV files, etc) to define the model structure. The scripting approach presented here wouldn't be the most convenient way to describe a model node-by-node, link-by-link - it would be quite cumbersome. However it would be possible to build a domain-specific language for describing models that makes use of the Python scripting.\n",
    "\n",
    "### Automate bulk changes to a model\n",
    "\n",
    "Most of the practical examples to date have involved applying some change across a model (whether that model is a catchments-style geographic model or a schematic style network). Examples include:\n",
    "\n",
    "* **Apply a new constituent generation model:** A new generation model was being tested and needed to be applied to every catchment in the model. Some of the parameters would subsequently be calibrated (using PEST), but others needed to be derived from spatial data.\n",
    "* **Add and configure nodes for point source inputs:** A series of point sources needed to be represented in the models. This involved adding inflow nodes for each point source, connecting those inflows to the most appropriate (and available) downstream node and computing and configuring time series inputs for the inflows.\n",
    "* **Bulk rename nodes and links based on a CSV file:** A complex model needed a large number of nodes and links renamed to introduce naming conventions that would allow automatic post-processing and visualisation. A CSV was created with old node/link names (extracted from Source using veneer-py). A second column in the CSV was then populated (by hand) with new node/link names. This CSV file was read into Python and used to apply new names to affected nodes/links.\n",
    "\n",
    "### Change multiple models in a consistent way\n",
    "\n",
    "* **Testing a plugin in multiple catchments:** A new plugin model was being tested across multiple catchments models, including calibration. A notebook was written to apply the plugin to a running Source model, parameterise the plugin and configure PEST. This notebook was then applied to each distinct Source model in turn.\n",
    "\n",
    "### Change a model without making the changes permanent\n",
    "\n",
    "There are several reasons for making changes to the Source model without wanting the changes to be permanently saved in the model.\n",
    "\n",
    "1. Testing an alternative setup, such as a different set of routing parameters. Automating the application of new parameters means you can test, and then re-test at a later date, without needing manual rework.\n",
    "2. Maintaining a single point-of-truth for a core model that needs to support different purposes and users.\n",
    "3. Persistence not available. In the earlier examples of testing new plugin models, the automated application of model setup allowed sophisticated testing, including calibration by PEST, to take place before the plugin was stable enough to be persisted using the Source data management system.\n"
   ]
  },
  {
   "cell_type": "code",
   "execution_count": null,
   "metadata": {
    "collapsed": true
   },
   "outputs": [],
   "source": []
  },
  {
   "cell_type": "markdown",
   "metadata": {},
   "source": [
    "## Example - Switching routing methods and configuring\n",
    "\n",
    "This example uses the earlier `RiverModel.rsproj` example file although it will work with other models.\n",
    "\n",
    "Here, we will convert all links to use Storage Routing except for links that lead to a water user.\n",
    "\n",
    "**Note:** To work through this example (and the others that follow), you will need to ensure the 'Allow Scripts' option is enabled in the Web Server Monitoring window."
   ]
  },
  {
   "cell_type": "code",
   "execution_count": null,
   "metadata": {
    "collapsed": true
   },
   "outputs": [],
   "source": []
  },
  {
   "cell_type": "markdown",
   "metadata": {},
   "source": [
    "### The `v.model` namepsace\n",
    "\n",
    "Most of our work in this session will involve the `v.model` namespace. This namespace contains functionality that provides query and modification of the model structure. Everything in `v.model` relies on the 'Allow Scripts' option.\n",
    "\n",
    "As with other parts of veneer-py (and Python packages in general), you can use `<tab>` completion to explore the available functions and the `help()` function (or the `?` suffix) to get help."
   ]
  },
  {
   "cell_type": "markdown",
   "metadata": {},
   "source": [
    "### Finding the current routing type\n",
    "\n",
    "We can use `v.model.link.routing.get_models()` to find the routing models used on each link"
   ]
  },
  {
   "cell_type": "code",
   "execution_count": 2,
   "metadata": {
    "collapsed": false
   },
   "outputs": [
    {
     "data": {
      "text/plain": [
       "['RiverSystem.Flow.StraightThroughRouting',\n",
       " 'RiverSystem.Flow.StraightThroughRouting',\n",
       " 'RiverSystem.Flow.LaggedFlowRoutingWrapper',\n",
       " 'RiverSystem.Flow.StraightThroughRouting',\n",
       " 'RiverSystem.Flow.StraightThroughRouting',\n",
       " 'RiverSystem.Flow.StraightThroughRouting',\n",
       " 'RiverSystem.Flow.StraightThroughRouting',\n",
       " 'RiverSystem.Flow.StraightThroughRouting',\n",
       " 'RiverSystem.Flow.StraightThroughRouting',\n",
       " 'RiverSystem.Flow.StraightThroughRouting',\n",
       " 'RiverSystem.Flow.StraightThroughRouting']"
      ]
     },
     "execution_count": 2,
     "metadata": {},
     "output_type": "execute_result"
    }
   ],
   "source": [
    "existing_models = v.model.link.routing.get_models()\n",
    "existing_models"
   ]
  },
  {
   "cell_type": "markdown",
   "metadata": {},
   "source": [
    "**Note:**\n",
    "\n",
    "* The `get_models()` functions is available in various places through the `v.model` namespace. For example, `v.model.catchments.runoff.get_models()` queries the rainfall runoff models in subcatchments (actually in functional units). There are other such methods, available in multiple places, including:\n",
    "  * `set_models`\n",
    "  * `get_param_values`\n",
    "  * `set_param_values`\n",
    "* Each of these functions accept parameters to restrict the search, such as only including links with certain names. These query parameters differ in different contexts (ie between runoff models and routing models), but they are consistent between the functions in a given context. Confused?\n",
    "* For example, in link routing you can look for links of certain names and you can do this with the different methods:\n",
    "```python\n",
    "v.model.link.routing.get_models(links='Default Link #3')\n",
    "v.model.link.routing.set_models('RiverSystem.Flow.LaggedFlowRoutingWrapper',links='Default Link #3')\n",
    "```\n",
    "Whereas, with runoff models, you can restrict by catchment or by fus:\n",
    "```python\n",
    "v.model.catchment.runoff.get_models(fus='Grazing')\n",
    "v.model.catchment.runoff.set_models('MyFancyRunoffModel',fus='Grazing')\n",
    "```\n",
    "* You can find out what query parameters are available by looking at the help, one level up:\n",
    "```python\n",
    "help(v.model.link.routing)\n",
    "```\n",
    "* The call to `get_models()` return a list of model names. Two observations about this:\n",
    "  1. The model name is the fully qualified class name as used internally in Source. This is a common pattern through the `v.model` namespace - it uses the terminology within Source. There are, however, help functions for finding what you need. For example:\n",
    "  ```python\n",
    "  v.model.find_model_type('gr4')\n",
    "  v.model.find_parameters('RiverSystem.Flow.LaggedFlowRoutingWrapper')\n",
    "  ```\n",
    "  2. Returning a list doesn't tell you which link has which model - so how are you going to determine which ones should be Storage Routing and which should stay as Straight Through? In general the `get_` functions return lists (although there is a `by_name` option being implemented) and the `set_` functions accept lists (unless you provide a single value in which case it is applied uniformly). It is up to you to interpret the lists returned by `get_*` and to provide `set_*` with a list in the right order. The way to get it right is to separately query for the _names_ of the relevant elements (nodes/links/catchments) and order accordingly. This will be demonstrated!"
   ]
  },
  {
   "cell_type": "markdown",
   "metadata": {},
   "source": [
    "### Identifying which link should stay as StraightThroughRouting\n",
    "\n",
    "We can ask for the names of each link in order to establish which ones should be Storage Routing and which should stay as Straight Through"
   ]
  },
  {
   "cell_type": "code",
   "execution_count": 3,
   "metadata": {
    "collapsed": false
   },
   "outputs": [
    {
     "data": {
      "text/plain": [
       "['Default Link #1',\n",
       " 'Default Link #2',\n",
       " 'Default Link #3',\n",
       " 'Default Link #4',\n",
       " 'Default Link #5',\n",
       " 'Default Link #6',\n",
       " 'Lake Outflow',\n",
       " 'Default Link #13',\n",
       " 'Default Link #14',\n",
       " 'Default Link #15',\n",
       " 'Default Link #11']"
      ]
     },
     "execution_count": 3,
     "metadata": {},
     "output_type": "execute_result"
    }
   ],
   "source": [
    "link_names_order = v.model.link.routing.names()\n",
    "link_names_order"
   ]
  },
  {
   "cell_type": "markdown",
   "metadata": {},
   "source": [
    "OK - that gives us the names - but it doesn't help directly. We could look at the model in Source to\n",
    "work out which one is connected to the Water User - but that's cheating!\n",
    "\n",
    "More generally, we can ask Veneer for the network and perform a topological query"
   ]
  },
  {
   "cell_type": "code",
   "execution_count": 4,
   "metadata": {
    "collapsed": true
   },
   "outputs": [],
   "source": [
    "network = v.network()"
   ]
  },
  {
   "cell_type": "markdown",
   "metadata": {},
   "source": [
    "Now that we've got the network, we want all the water users.\n",
    "\n",
    "Now, the information we've been returned regarding the network is in GeoJSON format and is intended for use in visualisation. It doesn't explicitly say 'this is a water user' at any point, but it does tell us indirectly tell us this by telling us about the icon in use:"
   ]
  },
  {
   "cell_type": "code",
   "execution_count": 5,
   "metadata": {
    "collapsed": false
   },
   "outputs": [
    {
     "data": {
      "text/plain": [
       "{'/resources/InjectedFlow',\n",
       " '/resources/ExtractionNodeModel',\n",
       " '/resources/WaterUserNodeModel',\n",
       " '/resources/GaugeNodeModel',\n",
       " '/resources/ConfluenceNodeModel',\n",
       " '/resources/MinimumFlowConstraintModel',\n",
       " None,\n",
       " '/resources/StorageNodeModel'}"
      ]
     },
     "execution_count": 5,
     "metadata": {},
     "output_type": "execute_result"
    }
   ],
   "source": [
    "network['features']._unique_values('icon')\n"
   ]
  },
  {
   "cell_type": "markdown",
   "metadata": {},
   "source": [
    "So, we can find all the water users in the network, by finding all the network features with `'/resources/WaterUserNodeModel'` as their icon!"
   ]
  },
  {
   "cell_type": "code",
   "execution_count": 6,
   "metadata": {
    "collapsed": false
   },
   "outputs": [
    {
     "data": {
      "text/plain": [
       "[{'type': 'Feature', 'properties': {'schematic_location': [329, 617], 'icon': '/resources/WaterUserNodeModel', 'name': 'Crop Fields', 'feature_type': 'node'}, 'id': '/network/nodes/94', 'geometry': {'type': 'Point', 'coordinates': [0, 0]}}]"
      ]
     },
     "execution_count": 6,
     "metadata": {},
     "output_type": "execute_result"
    }
   ],
   "source": [
    "water_users = network['features'].find_by_icon('/resources/WaterUserNodeModel')\n",
    "water_users"
   ]
  },
  {
   "cell_type": "markdown",
   "metadata": {},
   "source": [
    "Now, we can query the network for links upstream of each water user.\n",
    "\n",
    "We'll loop over the `water_users` list (just one in the sample model)"
   ]
  },
  {
   "cell_type": "code",
   "execution_count": 7,
   "metadata": {
    "collapsed": false
   },
   "outputs": [
    {
     "data": {
      "text/plain": [
       "[{'geometry': {'coordinates': [[0, 0], [0, 0]], 'type': 'LineString'},\n",
       "  'id': '/network/link/7',\n",
       "  'properties': {'feature_type': 'link',\n",
       "   'from_node': '/network/nodes/90',\n",
       "   'name': 'Default Link #13',\n",
       "   'to_node': '/network/nodes/94'},\n",
       "  'type': 'Feature'}]"
      ]
     },
     "execution_count": 7,
     "metadata": {},
     "output_type": "execute_result"
    }
   ],
   "source": [
    "links_upstream_of_water_users=[]\n",
    "for water_user in water_users:\n",
    "    links_upstream_of_water_users += network.upstream_links(water_user)\n",
    "links_upstream_of_water_users"
   ]
  },
  {
   "cell_type": "markdown",
   "metadata": {},
   "source": [
    "Just one link (to be expected) in the sample model. Its the name we care about though:"
   ]
  },
  {
   "cell_type": "code",
   "execution_count": 8,
   "metadata": {
    "collapsed": false
   },
   "outputs": [
    {
     "data": {
      "text/plain": [
       "['Default Link #13']"
      ]
     },
     "execution_count": 8,
     "metadata": {},
     "output_type": "execute_result"
    }
   ],
   "source": [
    "names_of_water_user_links = [link['properties']['name'] for link in links_upstream_of_water_users]\n",
    "names_of_water_user_links"
   ]
  },
  {
   "cell_type": "markdown",
   "metadata": {},
   "source": [
    "To recap, we now have:\n",
    "\n",
    "* `existing_models` - A list of routing models used on links\n",
    "* `link_names_order` - The name of each link, in the same order as for `existing_models`\n",
    "* `names_of_water_user_links` - The names of links immediately upstream of water users. These links need to stay as Straight Through Routing\n",
    "\n",
    "We're ultimately going to call\n",
    "\n",
    "```python\n",
    "v.model.link.routing.set_models(new_models,fromList=True)\n",
    "```\n",
    "\n",
    "so we need to construct `new_models`, which will be a list of model names to assign to links, with the right mix and order of storage routing and straight through. We'll want `new_models` to be the same length as `existing_models` so there is one entry per link. (There are cases where you my use `set_models` or `set_param_values` with shorter lists. You'll get R-style 'recycling' of values, but its more useful in catchments where you're iterating over catchments AND functional units)\n",
    "\n",
    "The entries in `new_models` need to be strings - those long, fully qualified class names from the Source world. We can find them using `v.model.find_model_type`"
   ]
  },
  {
   "cell_type": "code",
   "execution_count": 9,
   "metadata": {
    "collapsed": false
   },
   "outputs": [
    {
     "data": {
      "text/plain": [
       "['RiverSystem.Flow.StorageRouting']"
      ]
     },
     "execution_count": 9,
     "metadata": {},
     "output_type": "execute_result"
    }
   ],
   "source": [
    "v.model.find_model_type('StorageRo')"
   ]
  },
  {
   "cell_type": "code",
   "execution_count": 10,
   "metadata": {
    "collapsed": false
   },
   "outputs": [
    {
     "data": {
      "text/plain": [
       "['RiverSystem.Flow.StraightThroughRouting']"
      ]
     },
     "execution_count": 10,
     "metadata": {},
     "output_type": "execute_result"
    }
   ],
   "source": [
    "v.model.find_model_type('StraightThrough')"
   ]
  },
  {
   "cell_type": "markdown",
   "metadata": {},
   "source": [
    "We can construct our list using a list comprehension, this time with a bit of extra conditional logic thrown in"
   ]
  },
  {
   "cell_type": "code",
   "execution_count": 11,
   "metadata": {
    "collapsed": false
   },
   "outputs": [
    {
     "data": {
      "text/plain": [
       "['RiverSystem.Flow.StorageRouting',\n",
       " 'RiverSystem.Flow.StorageRouting',\n",
       " 'RiverSystem.Flow.StorageRouting',\n",
       " 'RiverSystem.Flow.StorageRouting',\n",
       " 'RiverSystem.Flow.StorageRouting',\n",
       " 'RiverSystem.Flow.StorageRouting',\n",
       " 'RiverSystem.Flow.StorageRouting',\n",
       " 'RiverSystem.Flow.StraightThroughRouting',\n",
       " 'RiverSystem.Flow.StorageRouting',\n",
       " 'RiverSystem.Flow.StorageRouting',\n",
       " 'RiverSystem.Flow.StorageRouting']"
      ]
     },
     "execution_count": 11,
     "metadata": {},
     "output_type": "execute_result"
    }
   ],
   "source": [
    "new_models = ['RiverSystem.Flow.StraightThroughRouting' if link_name in names_of_water_user_links\n",
    "              else 'RiverSystem.Flow.StorageRouting'\n",
    "              for link_name in link_names_order]\n",
    "new_models"
   ]
  },
  {
   "cell_type": "markdown",
   "metadata": {},
   "source": [
    "This is a more complex list comprehension than we've used before. It goes like this, reading from the end:\n",
    "\n",
    "* Iterate over all the link names. This will be the right number of elements - and it tells us which link we're dealling with\n",
    "```python\n",
    " for link_name in link_names_order]\n",
    "```\n",
    "* If the current `link_name` is present in the list of links upstream of water users, use straight through routing\n",
    "```python\n",
    "['RiverSystem.Flow.StraightThroughRouting' if link_name in names_of_water_user_links\n",
    "```\n",
    "* Otherwise use storage routing\n",
    "```python\n",
    " else 'RiverSystem.Flow.StorageRouting'\n",
    "```"
   ]
  },
  {
   "cell_type": "markdown",
   "metadata": {},
   "source": [
    "All that's left is to apply this to the model"
   ]
  },
  {
   "cell_type": "code",
   "execution_count": 12,
   "metadata": {
    "collapsed": false
   },
   "outputs": [
    {
     "data": {
      "text/plain": [
       "True"
      ]
     },
     "execution_count": 12,
     "metadata": {},
     "output_type": "execute_result"
    }
   ],
   "source": [
    "v.model.link.routing.set_models(new_models,fromList=True)"
   ]
  },
  {
   "cell_type": "markdown",
   "metadata": {},
   "source": [
    "**Notes:**\n",
    "\n",
    "* Source uses different line styles for different routing types - but it might not redraw until you prompt it - eg by resizing the window\n",
    "* The `fromList` parameter tells the `set_models` function that you want the list to be applied one element at a time."
   ]
  },
  {
   "cell_type": "markdown",
   "metadata": {},
   "source": [
    "Now that you have Storage Routing used in most links, you can start to parameterise the links from the script.\n",
    "\n",
    "To do so, you could use an input set, as per the previous session. To change parameters via input sets, you would first need to know the wording to use in the input set commands - and at this stage you need to find that wording in the Source user interface.\n",
    "\n",
    "Alternatively, you can set the parameters directly using `v.model.link.routing.set_param_values`, which expects the variable name as used internally by Source. You can query for the parameter names for a particular model, using `v.model.find_parameters(model_type)` and, if that doesn't work `v.model.find_properties(model_type)`.\n",
    "\n",
    "We'll start by using `find_parameters`:"
   ]
  },
  {
   "cell_type": "code",
   "execution_count": 13,
   "metadata": {
    "collapsed": false
   },
   "outputs": [
    {
     "data": {
      "text/plain": [
       "['InflowBias',\n",
       " 'LossGainFlux',\n",
       " 'NetEvaporation',\n",
       " 'RoutingConstant',\n",
       " 'RoutingPower',\n",
       " 'TimeSeriesFlux']"
      ]
     },
     "execution_count": 13,
     "metadata": {},
     "output_type": "execute_result"
    }
   ],
   "source": [
    "v.model.find_parameters('RiverSystem.Flow.StorageRouting')"
   ]
  },
  {
   "cell_type": "markdown",
   "metadata": {},
   "source": [
    "The function `v.model.find_parameters`, accepts a model type (actually, you can give it a list of model types) and it returns a list of parameters.\n",
    "\n",
    "This list is determined by the internal code of Source - a parameter will only be returned if it has a `[Parameter]` tag in the C\\# code.\n",
    "\n",
    "From the list above, we see some parameters that we expect to see, but not all of the parameters for a Storage Routing reach. For example, the list of parameters doesn't seem to say how we'd switch from Generic to Piecewise routing mode. This is because the model property in question (`IsGeneric`) doesn't have a `[Property]` attribute.\n",
    "\n",
    "We can find a list of all fields and properties of the model using `v.model.find_properties`. It's a lot more information, but it can be helpful:"
   ]
  },
  {
   "cell_type": "code",
   "execution_count": 14,
   "metadata": {
    "collapsed": false,
    "scrolled": false
   },
   "outputs": [
    {
     "data": {
      "text/plain": [
       "{'AllowDeactivation': 'Boolean',\n",
       " 'AverageRegFlow': 'Double',\n",
       " 'Divisions': 'Int32',\n",
       " 'DownstreamFlow': 'Double',\n",
       " 'Inflow': 'Double',\n",
       " 'InflowBias': 'Double',\n",
       " 'InitFlow': 'Double',\n",
       " 'InitStorage': 'Double',\n",
       " 'IsGeneric': 'Boolean',\n",
       " 'IsInitFlow': 'Boolean',\n",
       " 'LateralInflow': 'Double',\n",
       " 'LiveStorage': 'Double',\n",
       " 'LossGainFlux': 'Double',\n",
       " 'LossReports': 'List`1',\n",
       " 'MappedTravelTime': 'Int32',\n",
       " 'Name': 'String',\n",
       " 'NetEvaporation': 'Double',\n",
       " 'ObserverCount': 'Int32',\n",
       " 'Observers': 'IList`1',\n",
       " 'Outflow': 'Double',\n",
       " 'OutflowVolumeOverridden': 'Boolean',\n",
       " 'Piecewises': 'IList`1',\n",
       " 'PreOverrideOutflowVolume': 'Double',\n",
       " 'PreOverrideStorageVolume': 'Double',\n",
       " 'PreviousInflow': 'Double',\n",
       " 'PreviousLateralInflow': 'Double',\n",
       " 'PreviousOutflow': 'Double',\n",
       " 'PreviousStorage': 'Double',\n",
       " 'ReachLength': 'Double',\n",
       " 'RoutingConstant': 'Double',\n",
       " 'RoutingPower': 'Double',\n",
       " 'Storage': 'Double',\n",
       " 'StorageAtStartOfTs': 'Double',\n",
       " 'StorageRoutingName': 'String',\n",
       " 'StorageVolumeOverridden': 'Boolean',\n",
       " 'TimeSeriesFlux': 'Double',\n",
       " 'UpstreamFlow': 'Double',\n",
       " 'UseAnalyticalSolution': 'Boolean',\n",
       " '_outflow': 'Double',\n",
       " 'id': 'Int32',\n",
       " 'link': 'Link',\n",
       " 'silence': 'Boolean',\n",
       " 'simulationNow': 'DateTime',\n",
       " 'subjectState': 'SubjectState',\n",
       " 'timeStepDuration': 'TimeSpan',\n",
       " 'timeStepInSeconds': 'Double'}"
      ]
     },
     "execution_count": 14,
     "metadata": {},
     "output_type": "execute_result"
    }
   ],
   "source": [
    "v.model.find_properties('RiverSystem.Flow.StorageRouting')"
   ]
  },
  {
   "cell_type": "markdown",
   "metadata": {},
   "source": [
    "Lets apply an initial parameter set to every Storage Routing link by setting:\n",
    "\n",
    "* `RoutingConstant` to 86400, and\n",
    "* `RoutingPower` to 1\n",
    "\n",
    "We will call `set_param_values`"
   ]
  },
  {
   "cell_type": "code",
   "execution_count": 15,
   "metadata": {
    "collapsed": false
   },
   "outputs": [
    {
     "name": "stdout",
     "output_type": "stream",
     "text": [
      "Help on method set_param_values in module veneer.server_side:\n",
      "\n",
      "set_param_values(parameter, values, literal=False, fromList=False, instantiate=False, **kwargs) method of veneer.server_side.VeneerLinkRoutingActions instance\n",
      "    Set the values of a particular parameter used in a particular context\n",
      "\n"
     ]
    }
   ],
   "source": [
    "help(v.model.link.routing.set_param_values)"
   ]
  },
  {
   "cell_type": "code",
   "execution_count": 16,
   "metadata": {
    "collapsed": false
   },
   "outputs": [
    {
     "data": {
      "text/plain": [
       "True"
      ]
     },
     "execution_count": 16,
     "metadata": {},
     "output_type": "execute_result"
    }
   ],
   "source": [
    "v.model.link.routing.set_param_values('RoutingConstant',86400.0)"
   ]
  },
  {
   "cell_type": "code",
   "execution_count": 17,
   "metadata": {
    "collapsed": false
   },
   "outputs": [
    {
     "data": {
      "text/plain": [
       "True"
      ]
     },
     "execution_count": 17,
     "metadata": {},
     "output_type": "execute_result"
    }
   ],
   "source": [
    "v.model.link.routing.set_param_values('RoutingPower',1.0)"
   ]
  },
  {
   "cell_type": "markdown",
   "metadata": {},
   "source": [
    "You can check in the Source user interface to see that the parameters have been applied"
   ]
  },
  {
   "cell_type": "markdown",
   "metadata": {},
   "source": [
    "### Setting parameters as a function of other values\n",
    "\n",
    "Often, you will want to calculate model parameters based on some other information, either within the model or from some external data source.\n",
    "\n",
    "The `set_param_values` can accept a list of values, where each item in the list is applied, in turn, to the corresponding models - in much the same way that we used the known link order to set the routing type.\n",
    "\n",
    "The list of values can be computed in your Python script based on any available information. A common use case is to compute catchment or functional unit parameters based on spatial data.\n",
    "\n",
    "We will demonstrate the list functionality here with a contrived example!\n",
    "\n",
    "We will set a different value of `RoutingPower` for each link. We will compute a different value of `RoutingPower` from 1.0 down to >0, based on the number of storage routing links"
   ]
  },
  {
   "cell_type": "code",
   "execution_count": 23,
   "metadata": {
    "collapsed": false
   },
   "outputs": [],
   "source": [
    "number_of_links = len(new_models) - len(names_of_water_user_links)"
   ]
  },
  {
   "cell_type": "code",
   "execution_count": 29,
   "metadata": {
    "collapsed": false
   },
   "outputs": [
    {
     "data": {
      "text/plain": [
       "array([ 1. ,  0.9,  0.8,  0.7,  0.6,  0.5,  0.4,  0.3,  0.2,  0.1])"
      ]
     },
     "execution_count": 29,
     "metadata": {},
     "output_type": "execute_result"
    }
   ],
   "source": [
    "power_vals = np.arange(1.0,0.0,-1.0/number_of_links)\n",
    "power_vals"
   ]
  },
  {
   "cell_type": "code",
   "execution_count": 30,
   "metadata": {
    "collapsed": false
   },
   "outputs": [
    {
     "data": {
      "text/plain": [
       "True"
      ]
     },
     "execution_count": 30,
     "metadata": {},
     "output_type": "execute_result"
    }
   ],
   "source": [
    "v.model.link.routing.set_param_values('RoutingPower',power_vals,fromList=True)"
   ]
  },
  {
   "cell_type": "markdown",
   "metadata": {},
   "source": [
    "If you open the Feature Table for storage routing, you'll now see these values propagated.\n",
    "\n",
    "The `fromList` option has another characteristic that can be useful - particularly for catchments models with multiple functional units: value recycling.\n",
    "\n",
    "If you provide a list with few values than are required, the system will start again from the start of the list.\n",
    "\n",
    "So, for example, the following code will assign the three values: `[0.5,0.75,1.0]`"
   ]
  },
  {
   "cell_type": "code",
   "execution_count": 28,
   "metadata": {
    "collapsed": false
   },
   "outputs": [
    {
     "data": {
      "text/plain": [
       "True"
      ]
     },
     "execution_count": 28,
     "metadata": {},
     "output_type": "execute_result"
    }
   ],
   "source": [
    "v.model.link.routing.set_param_values('RoutingPower',[0.5,0.75,1.0],fromList=True)"
   ]
  },
  {
   "cell_type": "markdown",
   "metadata": {},
   "source": [
    "Check the Feature Table to see the effect.\n",
    "\n",
    "**Note:** You can run these scripts with the Feature Table open and the model will be updated - but the feature table won't reflect the new values until you Cancel the feature table and reopen it."
   ]
  },
  {
   "cell_type": "code",
   "execution_count": null,
   "metadata": {
    "collapsed": true
   },
   "outputs": [],
   "source": []
  },
  {
   "cell_type": "markdown",
   "metadata": {},
   "source": [
    "## How it Works\n",
    "\n",
    "As mentioned, everything under `v.model` works by sending an IronPython script to Source to be run within the Source software itself.\n",
    "\n",
    "IronPython is a native, .NET, version of Python and hence can access all the classes and objects that make up Source.\n",
    "\n",
    "When you call a function witnin `v.model`, veneer-py is *generating* an IronPython script for Source. \n",
    "\n",
    "To this point, we haven't seen what these IronPython scripts look like - they are hidden from view. We can see the scripts that get sent to Source by setting the option `veneer.general.PRINT_SCRIPTS=True`\n"
   ]
  },
  {
   "cell_type": "code",
   "execution_count": 47,
   "metadata": {
    "collapsed": false
   },
   "outputs": [
    {
     "name": "stdout",
     "output_type": "stream",
     "text": [
      "# Generated Script\n",
      "import clr\n",
      "import System\n",
      "import FlowMatters.Source.Veneer.RemoteScripting.ScriptHelpers as H\n",
      "clr.ImportExtensions(System.Linq)\n",
      "result = []\n",
      "have_succeeded = False\n",
      "ignoreExceptions = True\n",
      "for i_0 in scenario.Network.Links.Where(lambda l:l.DisplayName in ['Default Link #3', 'Default Link #4']):\n",
      "    try:\n",
      "        result.append(i_0.FlowRouting.GetType().FullName)\n",
      "        have_succeeded = True\n",
      "    except:\n",
      "      if not ignoreExceptions: raise\n",
      "\n"
     ]
    },
    {
     "data": {
      "text/plain": [
       "['RiverSystem.Flow.StorageRouting', 'RiverSystem.Flow.StorageRouting']"
      ]
     },
     "execution_count": 47,
     "metadata": {},
     "output_type": "execute_result"
    }
   ],
   "source": [
    "veneer.general.PRINT_SCRIPTS=True\n",
    "v.model.link.routing.get_models(links=['Default Link #3','Default Link #4'])"
   ]
  },
  {
   "cell_type": "code",
   "execution_count": 48,
   "metadata": {
    "collapsed": true
   },
   "outputs": [],
   "source": [
    "veneer.general.PRINT_SCRIPTS=False"
   ]
  },
  {
   "cell_type": "markdown",
   "metadata": {},
   "source": [
    "*Writing these IronPython scripts from scratch requires an understanding of the internal data structures of Source. The functions under `v.model` are designed to shield you from these details.*\n",
    "\n",
    "That said, if you have an idea of the data structures, you may wish to try writing IronPython scripts, OR, try working with some of the lower-level functionality offered in `v.model`.\n",
    "\n",
    "Most of the `v.model` functions that we've used, are ultimately based upon two, low level thems:\n",
    "\n",
    "* `v.model.get` and\n",
    "* `v.model.set`\n",
    "\n",
    "Both `get` and `set` expect a query to perform on a Source scenario object. Structuring this query is where an understanding of Source data structures comes in.\n",
    "\n",
    "For example, the following query will return the number of nodes in the network. (We'll use the PRINT_SCRIPTS option to show how the query translates to a script):"
   ]
  },
  {
   "cell_type": "code",
   "execution_count": 49,
   "metadata": {
    "collapsed": false
   },
   "outputs": [
    {
     "name": "stdout",
     "output_type": "stream",
     "text": [
      "# Generated Script\n",
      "import clr\n",
      "import System\n",
      "import FlowMatters.Source.Veneer.RemoteScripting.ScriptHelpers as H\n",
      "clr.ImportExtensions(System.Linq)\n",
      "result = scenario.Network.Nodes.Count()\n",
      "\n"
     ]
    },
    {
     "data": {
      "text/plain": [
       "12"
      ]
     },
     "execution_count": 49,
     "metadata": {},
     "output_type": "execute_result"
    }
   ],
   "source": [
    "veneer.general.PRINT_SCRIPTS=True\n",
    "num_nodes = v.model.get('scenario.Network.Nodes.Count()')\n",
    "num_nodes"
   ]
  },
  {
   "cell_type": "markdown",
   "metadata": {},
   "source": [
    "The follow example returns the names of each node in the network. The `.*` notation tells veneer-py to loop over every element in a collection"
   ]
  },
  {
   "cell_type": "code",
   "execution_count": 56,
   "metadata": {
    "collapsed": false
   },
   "outputs": [
    {
     "name": "stdout",
     "output_type": "stream",
     "text": [
      "# Generated Script\n",
      "import clr\n",
      "import System\n",
      "import FlowMatters.Source.Veneer.RemoteScripting.ScriptHelpers as H\n",
      "clr.ImportExtensions(System.Linq)\n",
      "result = []\n",
      "have_succeeded = False\n",
      "ignoreExceptions = True\n",
      "for i_0 in scenario.Network.Nodes:\n",
      "    try:\n",
      "        result.append(i_0.Name)\n",
      "        have_succeeded = True\n",
      "    except:\n",
      "      if not ignoreExceptions: raise\n",
      "\n"
     ]
    },
    {
     "data": {
      "text/plain": [
       "['Crab Creek',\n",
       " 'Fish Creek',\n",
       " 'Fish Creek Confluence',\n",
       " 'Shell Creek',\n",
       " 'Middle Gauge',\n",
       " 'Shell Creek Confluence',\n",
       " 'Lower Gauge',\n",
       " 'Evaluation Gauge',\n",
       " 'Recreational Lake',\n",
       " 'Lake Release',\n",
       " 'Supply Point 13',\n",
       " 'Crop Fields']"
      ]
     },
     "execution_count": 56,
     "metadata": {},
     "output_type": "execute_result"
    }
   ],
   "source": [
    "node_names = v.model.get('scenario.Network.Nodes.*Name')\n",
    "node_names"
   ]
  },
  {
   "cell_type": "markdown",
   "metadata": {},
   "source": [
    "You can see from the script output that veneer-py has generated a Python for loop to iterate over the nodes:\n",
    "\n",
    "```python\n",
    "for i_0 in scenario.Network.Nodes:\n",
    "```\n",
    "\n",
    "There are other characteristics in there, such as ignoring exceptions - this is a common default used in `v.model` to silently skip nodes/links/catchments/etc that don't have a particular property."
   ]
  },
  {
   "cell_type": "markdown",
   "metadata": {},
   "source": [
    "The same query approach can work for `set`, which can set a particular property (on one or more objects) to a particular value (which can be the same value everywhere, or drawn from a list)"
   ]
  },
  {
   "cell_type": "code",
   "execution_count": 60,
   "metadata": {
    "collapsed": false
   },
   "outputs": [
    {
     "data": {
      "text/plain": [
       "['New Name 0',\n",
       " 'New Name 1',\n",
       " 'New Name 2',\n",
       " 'New Name 3',\n",
       " 'New Name 4',\n",
       " 'New Name 5',\n",
       " 'New Name 6',\n",
       " 'New Name 7',\n",
       " 'New Name 8',\n",
       " 'New Name 9',\n",
       " 'New Name 10',\n",
       " 'New Name 11']"
      ]
     },
     "execution_count": 60,
     "metadata": {},
     "output_type": "execute_result"
    }
   ],
   "source": [
    "# Generate a new name for each node (based on num_nodes)\n",
    "names = ['New Name %d'%i for i in range(num_nodes)]\n",
    "names"
   ]
  },
  {
   "cell_type": "code",
   "execution_count": 61,
   "metadata": {
    "collapsed": false
   },
   "outputs": [
    {
     "name": "stdout",
     "output_type": "stream",
     "text": [
      "# Generated Script\n",
      "import clr\n",
      "import System\n",
      "import FlowMatters.Source.Veneer.RemoteScripting.ScriptHelpers as H\n",
      "clr.ImportExtensions(System.Linq)\n",
      "origNewVal = ['New Name 0','New Name 1','New Name 2','New Name 3','New Name 4','New Name 5','New Name 6','New Name 7','New Name 8','New Name 9','New Name 10','New Name 11']\n",
      "origNewVal.reverse()\n",
      "newVal = origNewVal[:]\n",
      "have_succeeded = False\n",
      "ignoreExceptions = True\n",
      "for i_0 in scenario.Network.Nodes:\n",
      "    try:\n",
      "        ignoreExceptions = True\n",
      "        checkValueExists = i_0.Name\n",
      "        ignoreExceptions = False\n",
      "        i_0.Name = newVal.pop()\n",
      "        if len(newVal)==0: newVal = origNewVal[:]\n",
      "        \n",
      "        have_succeeded = True\n",
      "    except:\n",
      "      if not ignoreExceptions: raise\n",
      "result = have_succeeded\n",
      "\n"
     ]
    },
    {
     "data": {
      "text/plain": [
       "True"
      ]
     },
     "execution_count": 61,
     "metadata": {},
     "output_type": "execute_result"
    }
   ],
   "source": [
    "v.model.set('scenario.Network.Nodes.*Name',names,fromList=True,literal=True)"
   ]
  },
  {
   "cell_type": "markdown",
   "metadata": {},
   "source": [
    "If you look at the Source model now (you may need to trigger a redraw by resizing the window), all the nodes have been renamed.\n",
    "\n",
    "(Lets reset the names - note how we saved `node_names` earlier on!)"
   ]
  },
  {
   "cell_type": "code",
   "execution_count": 62,
   "metadata": {
    "collapsed": false
   },
   "outputs": [
    {
     "name": "stdout",
     "output_type": "stream",
     "text": [
      "# Generated Script\n",
      "import clr\n",
      "import System\n",
      "import FlowMatters.Source.Veneer.RemoteScripting.ScriptHelpers as H\n",
      "clr.ImportExtensions(System.Linq)\n",
      "origNewVal = ['Crab Creek','Fish Creek','Fish Creek Confluence','Shell Creek','Middle Gauge','Shell Creek Confluence','Lower Gauge','Evaluation Gauge','Recreational Lake','Lake Release','Supply Point 13','Crop Fields']\n",
      "origNewVal.reverse()\n",
      "newVal = origNewVal[:]\n",
      "have_succeeded = False\n",
      "ignoreExceptions = True\n",
      "for i_0 in scenario.Network.Nodes:\n",
      "    try:\n",
      "        ignoreExceptions = True\n",
      "        checkValueExists = i_0.Name\n",
      "        ignoreExceptions = False\n",
      "        i_0.Name = newVal.pop()\n",
      "        if len(newVal)==0: newVal = origNewVal[:]\n",
      "        \n",
      "        have_succeeded = True\n",
      "    except:\n",
      "      if not ignoreExceptions: raise\n",
      "result = have_succeeded\n",
      "\n"
     ]
    },
    {
     "data": {
      "text/plain": [
       "True"
      ]
     },
     "execution_count": 62,
     "metadata": {},
     "output_type": "execute_result"
    }
   ],
   "source": [
    "v.model.set('scenario.Network.Nodes.*Name',node_names,fromList=True,literal=True)"
   ]
  },
  {
   "cell_type": "markdown",
   "metadata": {},
   "source": [
    "**Note:** The `literal=True` option is currently necessary setting text properties using `v.model.set`. This tells the IronPython generator to wrap the strings in quotes in the final script. Otherwise, IronPython would be looking for symbols (eg classes) with the same names"
   ]
  },
  {
   "cell_type": "markdown",
   "metadata": {},
   "source": [
    "The examples of `v.model.get` and `v.model.set` illustrate some of the low level functionality for manipulating the source model.\n",
    "\n",
    "The earlier, high-level, functions (eg `v.model.link.routing.set_param_values`) take care of computing the query string for you, including context dependent code such as searching for links of a particular name, or nodes of a particular type. They then call the lower level functions, which takes care of generating the actual IronPython script.\n",
    "\n",
    "The `v.model` namespace is gradually expanding with new capabilities and functions - but at their essence, most new functions provide a high level wrapper, around `v.model.get` and `v.model.set` for some new area of the Source data structures. So, for example, you could envisage a `v.model.resource_assessment` which provides high level wrappers around resource assessment functionality.\n"
   ]
  },
  {
   "cell_type": "markdown",
   "metadata": {},
   "source": [
    "### Exploring the system\n",
    "\n",
    "Writing the high level wrappers (as with writing the query strings for `v.model.get/set`) requires an understanding of the internal data structures of Source. You can get this from the C# code for Source, or, to a degree, from a help function `v.model.sourceHelp`.\n",
    "\n",
    "Lets say you want to discover how to change the description of the scenario (say, to automatically add a note about the changes made by your script)\n",
    "\n",
    "Start, by asking for help on `'scenario'` and explore from there"
   ]
  },
  {
   "cell_type": "code",
   "execution_count": 5,
   "metadata": {
    "collapsed": false
   },
   "outputs": [
    {
     "data": {
      "text/plain": [
       "['AddConfiguration',\n",
       " 'AllPluginDataModels',\n",
       " 'AuxiliaryInformation',\n",
       " 'AvailableDateRanges',\n",
       " 'BoundariesForCatchments',\n",
       " 'BoundaryForCatchment',\n",
       " 'CatchmentForBoundary',\n",
       " 'CompareTo',\n",
       " 'ContainsName',\n",
       " 'CreateContainer',\n",
       " 'CropStore',\n",
       " 'CrossSections',\n",
       " 'CurrentConfiguration',\n",
       " 'CurrentRiverSystemConfiguration',\n",
       " 'DEM',\n",
       " 'DefaultNodeAngle',\n",
       " 'DefaultScenarioView',\n",
       " 'Description',\n",
       " 'DescriptionChanged',\n",
       " 'DisplayGrid',\n",
       " 'Dispose',\n",
       " 'Equals',\n",
       " 'FU_CATEGORIES',\n",
       " 'FU_MAP',\n",
       " 'FU_POLYGONS',\n",
       " 'FeatureProxy',\n",
       " 'GaugeLocationLookup',\n",
       " 'GeographicData',\n",
       " 'GetAutoName',\n",
       " 'GetCurrentRunConfiguration',\n",
       " 'GetHashCode',\n",
       " 'GetPluginModel',\n",
       " 'GetScenarioConfiguration',\n",
       " 'GetScenarioContainer',\n",
       " 'GetType',\n",
       " 'GetUniqueName',\n",
       " 'GridSize',\n",
       " 'INTERSECTED_FU_POLYGONS',\n",
       " 'INTERSECTED_SCFU_POLYGONS',\n",
       " 'INTERSECTED_SC_POLYGONS',\n",
       " 'IPokeContext',\n",
       " 'IconCategory',\n",
       " 'InitialiseRiverOperator',\n",
       " 'LinkAdded',\n",
       " 'LinkRemoved',\n",
       " 'LoadRuntimePluginDataModels',\n",
       " 'MemberwiseClone',\n",
       " 'ModelRunOrder',\n",
       " 'Name',\n",
       " 'NameChanged',\n",
       " 'Network',\n",
       " 'NodeAdded',\n",
       " 'NodeCount',\n",
       " 'NodeRemoved',\n",
       " 'OperationsForecastManager',\n",
       " 'OperationsMaster',\n",
       " 'POINTER_MAP',\n",
       " 'PluginDataModels',\n",
       " 'Poke',\n",
       " 'Poked',\n",
       " 'PokedEventArgs',\n",
       " 'PostCopy',\n",
       " 'PrepareScenarioForRun',\n",
       " 'Project',\n",
       " 'ProjectViewRows',\n",
       " 'ProjectViewTable',\n",
       " 'ReasonsForNotRunning',\n",
       " 'ReferenceEquals',\n",
       " 'ReloadInputData',\n",
       " 'RenameCatchment',\n",
       " 'RestrictionCurveSets',\n",
       " 'RiverSystemProject',\n",
       " 'RunManager',\n",
       " 'RuntimePluginDataModels',\n",
       " 'STREAM_DEFINE',\n",
       " 'STREAM_MAP',\n",
       " 'STREAM_THRESHOLD',\n",
       " 'SUBCATCHMENT_MAP',\n",
       " 'SUBCATCHMENT_OUTLINE',\n",
       " 'SelectFeature',\n",
       " 'ShowFakeLinks',\n",
       " 'ShowLinkLabel',\n",
       " 'ShowNodeLabel',\n",
       " 'ShowStraightLines',\n",
       " 'ShowTrack',\n",
       " 'Silent',\n",
       " 'SnapNodesToGrid',\n",
       " 'SystemConfiguration',\n",
       " 'SystemFunctionalUnitConfiguration',\n",
       " 'TabularColumnFormattingManager',\n",
       " 'ToString',\n",
       " '__class__',\n",
       " '__delattr__',\n",
       " '__doc__',\n",
       " '__enter__',\n",
       " '__exit__',\n",
       " '__format__',\n",
       " '__getattribute__',\n",
       " '__hash__',\n",
       " '__init__',\n",
       " '__new__',\n",
       " '__reduce__',\n",
       " '__reduce_ex__',\n",
       " '__repr__',\n",
       " '__setattr__',\n",
       " '__sizeof__',\n",
       " '__str__',\n",
       " '__subclasshook__',\n",
       " 'auxiliaryInformation',\n",
       " 'id',\n",
       " 'plugInDataModels',\n",
       " 'project',\n",
       " 'uncertainty']"
      ]
     },
     "execution_count": 5,
     "metadata": {},
     "output_type": "execute_result"
    }
   ],
   "source": [
    "veneer.general.PRINT_SCRIPTS=False\n",
    "v.model.sourceHelp('scenario')"
   ]
  },
  {
   "cell_type": "markdown",
   "metadata": {},
   "source": [
    "This tells you everything that is available on a Source scenario. It's a lot, but `Description` looks promising:"
   ]
  },
  {
   "cell_type": "code",
   "execution_count": 4,
   "metadata": {
    "collapsed": false
   },
   "outputs": [],
   "source": [
    "existing_description = v.model.get('scenario.Description')\n",
    "existing_description"
   ]
  },
  {
   "cell_type": "markdown",
   "metadata": {},
   "source": [
    "OK. It looks like there is no description in the existing scenario. Lets set one"
   ]
  },
  {
   "cell_type": "code",
   "execution_count": 5,
   "metadata": {
    "collapsed": false
   },
   "outputs": [
    {
     "data": {
      "text/plain": [
       "True"
      ]
     },
     "execution_count": 5,
     "metadata": {},
     "output_type": "execute_result"
    }
   ],
   "source": [
    "v.model.set('scenario.Description','Model modified by script',literal=True)"
   ]
  },
  {
   "cell_type": "code",
   "execution_count": null,
   "metadata": {
    "collapsed": true
   },
   "outputs": [],
   "source": []
  },
  {
   "cell_type": "markdown",
   "metadata": {},
   "source": [
    "## Harder examples\n",
    "\n",
    "Lets look at a simple model building example.\n",
    "\n",
    "We will test out different routing parameters, by setting up a scenario with several parallel networks. Each network will consist of an Inflow Node and a Gauge Node, joined by a Storage Routing link.\n",
    "\n",
    "The inflows will all use the same time series of flows, so the only difference will be the routing parameters.\n",
    "\n",
    "To proceed, \n",
    "\n",
    "1. Start a new copy of Source (in the following code, I've assumed that you're leaving the existing copy open)\n",
    "2. Create a new schematic model - but don't add any nodes or links\n",
    "3. Open Tools|Web Server Monitoring\n",
    "4. Once Veneer has started, make a note of what port number it is using - it will probably be 9877 if you've left the other copy of Source open.\n",
    "\n",
    "TODO - Setting schematic location?\n",
    "\n",
    "Now, create a new veneer client (creatively called `v2` here)"
   ]
  },
  {
   "cell_type": "code",
   "execution_count": 2,
   "metadata": {
    "collapsed": true
   },
   "outputs": [],
   "source": [
    "v2 = veneer.Veneer(port=9877)"
   ]
  },
  {
   "cell_type": "markdown",
   "metadata": {},
   "source": [
    "And check that the network has nothing in it at the moment"
   ]
  },
  {
   "cell_type": "code",
   "execution_count": 3,
   "metadata": {
    "collapsed": false
   },
   "outputs": [
    {
     "data": {
      "text/plain": [
       "{'features': [{'id': '/network/nodes/0', 'geometry': {'type': 'Point', 'coordinates': [1, 10]}, 'type': 'Feature', 'properties': {'name': 'Inflow 1', 'schematic_location': [0, 0], 'icon': '/resources/InjectedFlow', 'feature_type': 'node'}}, {'id': '/network/nodes/0', 'geometry': {'type': 'Point', 'coordinates': [1, 0]}, 'type': 'Feature', 'properties': {'name': 'Gauge 1', 'schematic_location': [0, 0], 'icon': '/resources/GaugeNodeModel', 'feature_type': 'node'}}, {'id': '/network/nodes/0', 'geometry': {'type': 'Point', 'coordinates': [2, 10]}, 'type': 'Feature', 'properties': {'name': 'Inflow 2', 'schematic_location': [0, 0], 'icon': '/resources/InjectedFlow', 'feature_type': 'node'}}, {'id': '/network/nodes/0', 'geometry': {'type': 'Point', 'coordinates': [2, 0]}, 'type': 'Feature', 'properties': {'name': 'Gauge 2', 'schematic_location': [0, 0], 'icon': '/resources/GaugeNodeModel', 'feature_type': 'node'}}, {'id': '/network/nodes/0', 'geometry': {'type': 'Point', 'coordinates': [3, 10]}, 'type': 'Feature', 'properties': {'name': 'Inflow 3', 'schematic_location': [0, 0], 'icon': '/resources/InjectedFlow', 'feature_type': 'node'}}, {'id': '/network/nodes/0', 'geometry': {'type': 'Point', 'coordinates': [3, 0]}, 'type': 'Feature', 'properties': {'name': 'Gauge 3', 'schematic_location': [0, 0], 'icon': '/resources/GaugeNodeModel', 'feature_type': 'node'}}, {'id': '/network/nodes/0', 'geometry': {'type': 'Point', 'coordinates': [4, 10]}, 'type': 'Feature', 'properties': {'name': 'Inflow 4', 'schematic_location': [0, 0], 'icon': '/resources/InjectedFlow', 'feature_type': 'node'}}, {'id': '/network/nodes/0', 'geometry': {'type': 'Point', 'coordinates': [4, 0]}, 'type': 'Feature', 'properties': {'name': 'Gauge 4', 'schematic_location': [0, 0], 'icon': '/resources/GaugeNodeModel', 'feature_type': 'node'}}, {'id': '/network/nodes/0', 'geometry': {'type': 'Point', 'coordinates': [5, 10]}, 'type': 'Feature', 'properties': {'name': 'Inflow 5', 'schematic_location': [0, 0], 'icon': '/resources/InjectedFlow', 'feature_type': 'node'}}, {'id': '/network/nodes/0', 'geometry': {'type': 'Point', 'coordinates': [5, 0]}, 'type': 'Feature', 'properties': {'name': 'Gauge 5', 'schematic_location': [0, 0], 'icon': '/resources/GaugeNodeModel', 'feature_type': 'node'}}, {'id': '/network/nodes/0', 'geometry': {'type': 'Point', 'coordinates': [6, 10]}, 'type': 'Feature', 'properties': {'name': 'Inflow 6', 'schematic_location': [0, 0], 'icon': '/resources/InjectedFlow', 'feature_type': 'node'}}, {'id': '/network/nodes/0', 'geometry': {'type': 'Point', 'coordinates': [6, 0]}, 'type': 'Feature', 'properties': {'name': 'Gauge 6', 'schematic_location': [0, 0], 'icon': '/resources/GaugeNodeModel', 'feature_type': 'node'}}, {'id': '/network/nodes/0', 'geometry': {'type': 'Point', 'coordinates': [7, 10]}, 'type': 'Feature', 'properties': {'name': 'Inflow 7', 'schematic_location': [0, 0], 'icon': '/resources/InjectedFlow', 'feature_type': 'node'}}, {'id': '/network/nodes/0', 'geometry': {'type': 'Point', 'coordinates': [7, 0]}, 'type': 'Feature', 'properties': {'name': 'Gauge 7', 'schematic_location': [0, 0], 'icon': '/resources/GaugeNodeModel', 'feature_type': 'node'}}, {'id': '/network/nodes/0', 'geometry': {'type': 'Point', 'coordinates': [8, 10]}, 'type': 'Feature', 'properties': {'name': 'Inflow 8', 'schematic_location': [0, 0], 'icon': '/resources/InjectedFlow', 'feature_type': 'node'}}, {'id': '/network/nodes/0', 'geometry': {'type': 'Point', 'coordinates': [8, 0]}, 'type': 'Feature', 'properties': {'name': 'Gauge 8', 'schematic_location': [0, 0], 'icon': '/resources/GaugeNodeModel', 'feature_type': 'node'}}, {'id': '/network/nodes/0', 'geometry': {'type': 'Point', 'coordinates': [9, 10]}, 'type': 'Feature', 'properties': {'name': 'Inflow 9', 'schematic_location': [0, 0], 'icon': '/resources/InjectedFlow', 'feature_type': 'node'}}, {'id': '/network/nodes/0', 'geometry': {'type': 'Point', 'coordinates': [9, 0]}, 'type': 'Feature', 'properties': {'name': 'Gauge 9', 'schematic_location': [0, 0], 'icon': '/resources/GaugeNodeModel', 'feature_type': 'node'}}, {'id': '/network/nodes/0', 'geometry': {'type': 'Point', 'coordinates': [10, 10]}, 'type': 'Feature', 'properties': {'name': 'Inflow 10', 'schematic_location': [0, 0], 'icon': '/resources/InjectedFlow', 'feature_type': 'node'}}, {'id': '/network/nodes/0', 'geometry': {'type': 'Point', 'coordinates': [10, 0]}, 'type': 'Feature', 'properties': {'name': 'Gauge 10', 'schematic_location': [0, 0], 'icon': '/resources/GaugeNodeModel', 'feature_type': 'node'}}, {'id': '/network/nodes/0', 'geometry': {'type': 'Point', 'coordinates': [11, 10]}, 'type': 'Feature', 'properties': {'name': 'Inflow 11', 'schematic_location': [0, 0], 'icon': '/resources/InjectedFlow', 'feature_type': 'node'}}, {'id': '/network/nodes/0', 'geometry': {'type': 'Point', 'coordinates': [11, 0]}, 'type': 'Feature', 'properties': {'name': 'Gauge 11', 'schematic_location': [0, 0], 'icon': '/resources/GaugeNodeModel', 'feature_type': 'node'}}, {'id': '/network/nodes/0', 'geometry': {'type': 'Point', 'coordinates': [12, 10]}, 'type': 'Feature', 'properties': {'name': 'Inflow 12', 'schematic_location': [0, 0], 'icon': '/resources/InjectedFlow', 'feature_type': 'node'}}, {'id': '/network/nodes/0', 'geometry': {'type': 'Point', 'coordinates': [12, 0]}, 'type': 'Feature', 'properties': {'name': 'Gauge 12', 'schematic_location': [0, 0], 'icon': '/resources/GaugeNodeModel', 'feature_type': 'node'}}, {'id': '/network/nodes/0', 'geometry': {'type': 'Point', 'coordinates': [13, 10]}, 'type': 'Feature', 'properties': {'name': 'Inflow 13', 'schematic_location': [0, 0], 'icon': '/resources/InjectedFlow', 'feature_type': 'node'}}, {'id': '/network/nodes/0', 'geometry': {'type': 'Point', 'coordinates': [13, 0]}, 'type': 'Feature', 'properties': {'name': 'Gauge 13', 'schematic_location': [0, 0], 'icon': '/resources/GaugeNodeModel', 'feature_type': 'node'}}, {'id': '/network/nodes/0', 'geometry': {'type': 'Point', 'coordinates': [14, 10]}, 'type': 'Feature', 'properties': {'name': 'Inflow 14', 'schematic_location': [0, 0], 'icon': '/resources/InjectedFlow', 'feature_type': 'node'}}, {'id': '/network/nodes/0', 'geometry': {'type': 'Point', 'coordinates': [14, 0]}, 'type': 'Feature', 'properties': {'name': 'Gauge 14', 'schematic_location': [0, 0], 'icon': '/resources/GaugeNodeModel', 'feature_type': 'node'}}, {'id': '/network/nodes/0', 'geometry': {'type': 'Point', 'coordinates': [15, 10]}, 'type': 'Feature', 'properties': {'name': 'Inflow 15', 'schematic_location': [0, 0], 'icon': '/resources/InjectedFlow', 'feature_type': 'node'}}, {'id': '/network/nodes/0', 'geometry': {'type': 'Point', 'coordinates': [15, 0]}, 'type': 'Feature', 'properties': {'name': 'Gauge 15', 'schematic_location': [0, 0], 'icon': '/resources/GaugeNodeModel', 'feature_type': 'node'}}, {'id': '/network/nodes/0', 'geometry': {'type': 'Point', 'coordinates': [16, 10]}, 'type': 'Feature', 'properties': {'name': 'Inflow 16', 'schematic_location': [0, 0], 'icon': '/resources/InjectedFlow', 'feature_type': 'node'}}, {'id': '/network/nodes/0', 'geometry': {'type': 'Point', 'coordinates': [16, 0]}, 'type': 'Feature', 'properties': {'name': 'Gauge 16', 'schematic_location': [0, 0], 'icon': '/resources/GaugeNodeModel', 'feature_type': 'node'}}, {'id': '/network/nodes/0', 'geometry': {'type': 'Point', 'coordinates': [17, 10]}, 'type': 'Feature', 'properties': {'name': 'Inflow 17', 'schematic_location': [0, 0], 'icon': '/resources/InjectedFlow', 'feature_type': 'node'}}, {'id': '/network/nodes/0', 'geometry': {'type': 'Point', 'coordinates': [17, 0]}, 'type': 'Feature', 'properties': {'name': 'Gauge 17', 'schematic_location': [0, 0], 'icon': '/resources/GaugeNodeModel', 'feature_type': 'node'}}, {'id': '/network/nodes/0', 'geometry': {'type': 'Point', 'coordinates': [18, 10]}, 'type': 'Feature', 'properties': {'name': 'Inflow 18', 'schematic_location': [0, 0], 'icon': '/resources/InjectedFlow', 'feature_type': 'node'}}, {'id': '/network/nodes/0', 'geometry': {'type': 'Point', 'coordinates': [18, 0]}, 'type': 'Feature', 'properties': {'name': 'Gauge 18', 'schematic_location': [0, 0], 'icon': '/resources/GaugeNodeModel', 'feature_type': 'node'}}, {'id': '/network/nodes/0', 'geometry': {'type': 'Point', 'coordinates': [19, 10]}, 'type': 'Feature', 'properties': {'name': 'Inflow 19', 'schematic_location': [0, 0], 'icon': '/resources/InjectedFlow', 'feature_type': 'node'}}, {'id': '/network/nodes/0', 'geometry': {'type': 'Point', 'coordinates': [19, 0]}, 'type': 'Feature', 'properties': {'name': 'Gauge 19', 'schematic_location': [0, 0], 'icon': '/resources/GaugeNodeModel', 'feature_type': 'node'}}, {'id': '/network/nodes/0', 'geometry': {'type': 'Point', 'coordinates': [20, 10]}, 'type': 'Feature', 'properties': {'name': 'Inflow 20', 'schematic_location': [0, 0], 'icon': '/resources/InjectedFlow', 'feature_type': 'node'}}, {'id': '/network/nodes/0', 'geometry': {'type': 'Point', 'coordinates': [20, 0]}, 'type': 'Feature', 'properties': {'name': 'Gauge 20', 'schematic_location': [0, 0], 'icon': '/resources/GaugeNodeModel', 'feature_type': 'node'}}, {'id': '/network/link/0', 'geometry': {'type': 'LineString', 'coordinates': [[1, 10], [1, 0]]}, 'type': 'Feature', 'properties': {'to_node': '/network/nodes/0', 'name': 'Link 1', 'from_node': '/network/nodes/0', 'feature_type': 'link'}}, {'id': '/network/link/1', 'geometry': {'type': 'LineString', 'coordinates': [[2, 10], [2, 0]]}, 'type': 'Feature', 'properties': {'to_node': '/network/nodes/0', 'name': 'Link 2', 'from_node': '/network/nodes/0', 'feature_type': 'link'}}, {'id': '/network/link/2', 'geometry': {'type': 'LineString', 'coordinates': [[3, 10], [3, 0]]}, 'type': 'Feature', 'properties': {'to_node': '/network/nodes/0', 'name': 'Link 3', 'from_node': '/network/nodes/0', 'feature_type': 'link'}}, {'id': '/network/link/3', 'geometry': {'type': 'LineString', 'coordinates': [[4, 10], [4, 0]]}, 'type': 'Feature', 'properties': {'to_node': '/network/nodes/0', 'name': 'Link 4', 'from_node': '/network/nodes/0', 'feature_type': 'link'}}, {'id': '/network/link/4', 'geometry': {'type': 'LineString', 'coordinates': [[5, 10], [5, 0]]}, 'type': 'Feature', 'properties': {'to_node': '/network/nodes/0', 'name': 'Link 5', 'from_node': '/network/nodes/0', 'feature_type': 'link'}}, {'id': '/network/link/5', 'geometry': {'type': 'LineString', 'coordinates': [[6, 10], [6, 0]]}, 'type': 'Feature', 'properties': {'to_node': '/network/nodes/0', 'name': 'Link 6', 'from_node': '/network/nodes/0', 'feature_type': 'link'}}, {'id': '/network/link/6', 'geometry': {'type': 'LineString', 'coordinates': [[7, 10], [7, 0]]}, 'type': 'Feature', 'properties': {'to_node': '/network/nodes/0', 'name': 'Link 7', 'from_node': '/network/nodes/0', 'feature_type': 'link'}}, {'id': '/network/link/7', 'geometry': {'type': 'LineString', 'coordinates': [[8, 10], [8, 0]]}, 'type': 'Feature', 'properties': {'to_node': '/network/nodes/0', 'name': 'Link 8', 'from_node': '/network/nodes/0', 'feature_type': 'link'}}, {'id': '/network/link/8', 'geometry': {'type': 'LineString', 'coordinates': [[9, 10], [9, 0]]}, 'type': 'Feature', 'properties': {'to_node': '/network/nodes/0', 'name': 'Link 9', 'from_node': '/network/nodes/0', 'feature_type': 'link'}}, {'id': '/network/link/9', 'geometry': {'type': 'LineString', 'coordinates': [[10, 10], [10, 0]]}, 'type': 'Feature', 'properties': {'to_node': '/network/nodes/0', 'name': 'Link 10', 'from_node': '/network/nodes/0', 'feature_type': 'link'}}, {'id': '/network/link/10', 'geometry': {'type': 'LineString', 'coordinates': [[11, 10], [11, 0]]}, 'type': 'Feature', 'properties': {'to_node': '/network/nodes/0', 'name': 'Link 11', 'from_node': '/network/nodes/0', 'feature_type': 'link'}}, {'id': '/network/link/11', 'geometry': {'type': 'LineString', 'coordinates': [[12, 10], [12, 0]]}, 'type': 'Feature', 'properties': {'to_node': '/network/nodes/0', 'name': 'Link 12', 'from_node': '/network/nodes/0', 'feature_type': 'link'}}, {'id': '/network/link/12', 'geometry': {'type': 'LineString', 'coordinates': [[13, 10], [13, 0]]}, 'type': 'Feature', 'properties': {'to_node': '/network/nodes/0', 'name': 'Link 13', 'from_node': '/network/nodes/0', 'feature_type': 'link'}}, {'id': '/network/link/13', 'geometry': {'type': 'LineString', 'coordinates': [[14, 10], [14, 0]]}, 'type': 'Feature', 'properties': {'to_node': '/network/nodes/0', 'name': 'Link 14', 'from_node': '/network/nodes/0', 'feature_type': 'link'}}, {'id': '/network/link/14', 'geometry': {'type': 'LineString', 'coordinates': [[15, 10], [15, 0]]}, 'type': 'Feature', 'properties': {'to_node': '/network/nodes/0', 'name': 'Link 15', 'from_node': '/network/nodes/0', 'feature_type': 'link'}}, {'id': '/network/link/15', 'geometry': {'type': 'LineString', 'coordinates': [[16, 10], [16, 0]]}, 'type': 'Feature', 'properties': {'to_node': '/network/nodes/0', 'name': 'Link 16', 'from_node': '/network/nodes/0', 'feature_type': 'link'}}, {'id': '/network/link/16', 'geometry': {'type': 'LineString', 'coordinates': [[17, 10], [17, 0]]}, 'type': 'Feature', 'properties': {'to_node': '/network/nodes/0', 'name': 'Link 17', 'from_node': '/network/nodes/0', 'feature_type': 'link'}}, {'id': '/network/link/17', 'geometry': {'type': 'LineString', 'coordinates': [[18, 10], [18, 0]]}, 'type': 'Feature', 'properties': {'to_node': '/network/nodes/0', 'name': 'Link 18', 'from_node': '/network/nodes/0', 'feature_type': 'link'}}, {'id': '/network/link/18', 'geometry': {'type': 'LineString', 'coordinates': [[19, 10], [19, 0]]}, 'type': 'Feature', 'properties': {'to_node': '/network/nodes/0', 'name': 'Link 19', 'from_node': '/network/nodes/0', 'feature_type': 'link'}}, {'id': '/network/link/19', 'geometry': {'type': 'LineString', 'coordinates': [[20, 10], [20, 0]]}, 'type': 'Feature', 'properties': {'to_node': '/network/nodes/0', 'name': 'Link 20', 'from_node': '/network/nodes/0', 'feature_type': 'link'}}], 'type': 'FeatureCollection'}"
      ]
     },
     "execution_count": 3,
     "metadata": {},
     "output_type": "execute_result"
    }
   ],
   "source": [
    "v2.network()"
   ]
  },
  {
   "cell_type": "markdown",
   "metadata": {},
   "source": [
    "We can create nodes with `v.model.node.create`"
   ]
  },
  {
   "cell_type": "code",
   "execution_count": 6,
   "metadata": {
    "collapsed": false
   },
   "outputs": [
    {
     "name": "stdout",
     "output_type": "stream",
     "text": [
      "Help on method create in module veneer.server_side:\n",
      "\n",
      "create(name, node_type, location=None, schematic_location=None) method of veneer.server_side.VeneerNodeActions instance\n",
      "\n"
     ]
    }
   ],
   "source": [
    "help(v2.model.node.create)"
   ]
  },
  {
   "cell_type": "markdown",
   "metadata": {},
   "source": [
    "One of the main things we need is `node_type`, which has to match a type name expected in Source.\n",
    "\n",
    "We want to add Inflow Nodes and Gauge Nodes.\n",
    "\n",
    "Gauge nodes are easy enough to find:"
   ]
  },
  {
   "cell_type": "code",
   "execution_count": 7,
   "metadata": {
    "collapsed": false
   },
   "outputs": [
    {
     "name": "stdout",
     "output_type": "stream",
     "text": [
      "# Generated Script\n",
      "import TIME.Management.Finder as Finder\n",
      "import clr\n",
      "import System\n",
      "import FlowMatters.Source.Veneer.RemoteScripting.ScriptHelpers as H\n",
      "clr.ImportExtensions(System.Linq)\n",
      "import TIME.Core.Model as Model\n",
      "f = Finder(Model)\n",
      "types = f.types()\n",
      "s = \"Gauge\"\n",
      "result = types.Where(lambda t:t.Name.ToLower().Contains(s.ToLower())).Select(lambda tt:tt.FullName)\n",
      "\n"
     ]
    },
    {
     "data": {
      "text/plain": [
       "['RiverSystem.Nodes.Gauge.GaugeNodeModel',\n",
       " 'RiverSystem.Controls.Nodes.Storages.ViewModel.StorageGaugedLevelViewModel']"
      ]
     },
     "execution_count": 7,
     "metadata": {},
     "output_type": "execute_result"
    }
   ],
   "source": [
    "v2.model.find_model_type('Gauge')\n"
   ]
  },
  {
   "cell_type": "markdown",
   "metadata": {},
   "source": [
    "Looks like `'RiverSystem.Nodes.Gauge.GaugeNodeModel'` is the go there.\n",
    "\n",
    "What about Inflow Nodes?"
   ]
  },
  {
   "cell_type": "code",
   "execution_count": 8,
   "metadata": {
    "collapsed": false
   },
   "outputs": [
    {
     "name": "stdout",
     "output_type": "stream",
     "text": [
      "# Generated Script\n",
      "import TIME.Management.Finder as Finder\n",
      "import clr\n",
      "import System\n",
      "import FlowMatters.Source.Veneer.RemoteScripting.ScriptHelpers as H\n",
      "clr.ImportExtensions(System.Linq)\n",
      "import TIME.Core.Model as Model\n",
      "f = Finder(Model)\n",
      "types = f.types()\n",
      "s = \"Inflow\"\n",
      "result = types.Where(lambda t:t.Name.ToLower().Contains(s.ToLower())).Select(lambda tt:tt.FullName)\n",
      "\n"
     ]
    },
    {
     "data": {
      "text/plain": [
       "[]"
      ]
     },
     "execution_count": 8,
     "metadata": {},
     "output_type": "execute_result"
    }
   ],
   "source": [
    "v2.model.find_model_type('Inflow')"
   ]
  },
  {
   "cell_type": "markdown",
   "metadata": {},
   "source": [
    "Not so lucky.\n",
    "\n",
    "Since we have another Source model open (and available via `v`) we can ask there:"
   ]
  },
  {
   "cell_type": "code",
   "execution_count": 9,
   "metadata": {
    "collapsed": false
   },
   "outputs": [
    {
     "name": "stdout",
     "output_type": "stream",
     "text": [
      "# Generated Script\n",
      "import clr\n",
      "import System\n",
      "import FlowMatters.Source.Veneer.RemoteScripting.ScriptHelpers as H\n",
      "clr.ImportExtensions(System.Linq)\n",
      "result = []\n",
      "have_succeeded = False\n",
      "ignoreExceptions = True\n",
      "for i_0 in scenario.Network.Nodes:\n",
      "    try:\n",
      "        result.append(i_0.NodeModel.GetType().FullName)\n",
      "        have_succeeded = True\n",
      "    except:\n",
      "      if not ignoreExceptions: raise\n",
      "\n"
     ]
    },
    {
     "data": {
      "text/plain": [
       "['RiverSystem.Nodes.Inflow.InjectedFlow',\n",
       " 'RiverSystem.Nodes.Inflow.InjectedFlow',\n",
       " 'RiverSystem.Nodes.Confluence.ConfluenceNodeModel',\n",
       " 'RiverSystem.Nodes.Inflow.InjectedFlow',\n",
       " 'RiverSystem.Nodes.Gauge.GaugeNodeModel',\n",
       " 'RiverSystem.Nodes.Confluence.ConfluenceNodeModel',\n",
       " 'RiverSystem.Nodes.Gauge.GaugeNodeModel',\n",
       " 'RiverSystem.Nodes.Gauge.GaugeNodeModel',\n",
       " 'RiverSystem.Nodes.StorageNodeModel',\n",
       " 'RiverSystem.Nodes.MinimumFlow.MinimumFlowConstraintModel',\n",
       " 'RiverSystem.Nodes.SupplyPoint.ExtractionNodeModel',\n",
       " 'RiverSystem.Nodes.WaterUser.WaterUserNodeModel']"
      ]
     },
     "execution_count": 9,
     "metadata": {},
     "output_type": "execute_result"
    }
   ],
   "source": [
    "v.model.node.get_models()"
   ]
  },
  {
   "cell_type": "markdown",
   "metadata": {},
   "source": [
    "Aha - `'RiverSystem.Nodes.Inflow.InjectedFlow'` looks like its what we need\n"
   ]
  },
  {
   "cell_type": "markdown",
   "metadata": {},
   "source": [
    "First, we'll do a bit of a test run. Ultimately, we'll want to create a number of such networks - and the nodes will definitely need unique names then"
   ]
  },
  {
   "cell_type": "code",
   "execution_count": null,
   "metadata": {
    "collapsed": false
   },
   "outputs": [],
   "source": []
  },
  {
   "cell_type": "code",
   "execution_count": 27,
   "metadata": {
    "collapsed": true
   },
   "outputs": [],
   "source": [
    "veneer.general.PRINT_SCRIPTS=False"
   ]
  },
  {
   "cell_type": "code",
   "execution_count": 18,
   "metadata": {
    "collapsed": false
   },
   "outputs": [
    {
     "name": "stdout",
     "output_type": "stream",
     "text": [
      "# Generated Script\n",
      "import RiverSystem.Nodes.Inflow\n",
      "import clr\n",
      "import System\n",
      "import FlowMatters.Source.Veneer.RemoteScripting.ScriptHelpers as H\n",
      "clr.ImportExtensions(System.Linq)\n",
      "import RiverSystem.E2ShapeProperties as E2ShapeProperties\n",
      "network = scenario.Network\n",
      "new_node = RiverSystem.Node()\n",
      "new_node.location.E = 10.000000\n",
      "new_node.location.N = 10.000000\n",
      "new_node.Name = \"The Inflow\"\n",
      "new_node.NodeModel = RiverSystem.Nodes.Inflow.InjectedFlow()\n",
      "network.Add.Overloads[RiverSystem.INetworkElement](new_node)\n",
      "schematic = H.GetSchematic(scenario)\n",
      "if schematic:\n",
      "  shp = E2ShapeProperties()\n",
      "  shp.Feature = new_node\n",
      "  shp.Location.X = 10.000000\n",
      "  shp.Location.Y = 10.000000\n",
      "  schematic.ExistingFeatureShapeProperties.Add(shp)\n",
      "  print(\"Set location\")\n",
      "result = new_node\n",
      "\n"
     ]
    },
    {
     "data": {
      "text/plain": [
       "{'Exception': None,\n",
       " 'Response': {'Value': 'The Inflow',\n",
       "  '__type': 'StringResponse:#FlowMatters.Source.Veneer.ExchangeObjects'},\n",
       " 'StandardError': '',\n",
       " 'StandardOut': 'Set location\\r\\n'}"
      ]
     },
     "execution_count": 18,
     "metadata": {},
     "output_type": "execute_result"
    }
   ],
   "source": [
    "loc = [10,10]\n",
    "v2.model.node.create('The Inflow','RiverSystem.Nodes.Inflow.InjectedFlow',schematic_location=loc,location=loc)"
   ]
  },
  {
   "cell_type": "code",
   "execution_count": 21,
   "metadata": {
    "collapsed": false
   },
   "outputs": [
    {
     "name": "stdout",
     "output_type": "stream",
     "text": [
      "# Generated Script\n",
      "import RiverSystem.Nodes.Gauge\n",
      "import clr\n",
      "import System\n",
      "import FlowMatters.Source.Veneer.RemoteScripting.ScriptHelpers as H\n",
      "clr.ImportExtensions(System.Linq)\n",
      "import RiverSystem.E2ShapeProperties as E2ShapeProperties\n",
      "network = scenario.Network\n",
      "new_node = RiverSystem.Node()\n",
      "new_node.location.E = 20.000000\n",
      "new_node.location.N = 10.000000\n",
      "new_node.Name = \"The Gauge\"\n",
      "new_node.NodeModel = RiverSystem.Nodes.Gauge.GaugeNodeModel()\n",
      "network.Add.Overloads[RiverSystem.INetworkElement](new_node)\n",
      "schematic = H.GetSchematic(scenario)\n",
      "if schematic:\n",
      "  shp = E2ShapeProperties()\n",
      "  shp.Feature = new_node\n",
      "  shp.Location.X = 20.000000\n",
      "  shp.Location.Y = 10.000000\n",
      "  schematic.ExistingFeatureShapeProperties.Add(shp)\n",
      "  print(\"Set location\")\n",
      "result = new_node\n",
      "\n"
     ]
    },
    {
     "data": {
      "text/plain": [
       "{'Exception': None,\n",
       " 'Response': {'Value': 'The Gauge',\n",
       "  '__type': 'StringResponse:#FlowMatters.Source.Veneer.ExchangeObjects'},\n",
       " 'StandardError': '',\n",
       " 'StandardOut': 'Set location\\r\\n'}"
      ]
     },
     "execution_count": 21,
     "metadata": {},
     "output_type": "execute_result"
    }
   ],
   "source": [
    "loc = [20,10]\n",
    "v2.model.node.create('The Gauge','RiverSystem.Nodes.Gauge.GaugeNodeModel',schematic_location=loc,location=loc)"
   ]
  },
  {
   "cell_type": "markdown",
   "metadata": {},
   "source": [
    "**Note:** At this stage (and after some frustration) we can't set the location of the node on the schematic. We can set the 'geographic' location - which doesn't have to be true geographic coordinates, so that's what we'll do here."
   ]
  },
  {
   "cell_type": "markdown",
   "metadata": {},
   "source": [
    "Creating a link can be done with `v2.model.link.create`"
   ]
  },
  {
   "cell_type": "code",
   "execution_count": 23,
   "metadata": {
    "collapsed": false
   },
   "outputs": [
    {
     "name": "stdout",
     "output_type": "stream",
     "text": [
      "Help on method create in module veneer.server_side:\n",
      "\n",
      "create(from_node, to_node, name=None) method of veneer.server_side.VeneerLinkActions instance\n",
      "\n"
     ]
    }
   ],
   "source": [
    "help(v2.model.link.create)"
   ]
  },
  {
   "cell_type": "code",
   "execution_count": 24,
   "metadata": {
    "collapsed": false
   },
   "outputs": [
    {
     "name": "stdout",
     "output_type": "stream",
     "text": [
      "# Generated Script\n",
      "import clr\n",
      "import System\n",
      "import FlowMatters.Source.Veneer.RemoteScripting.ScriptHelpers as H\n",
      "clr.ImportExtensions(System.Linq)\n",
      "# Generated Script\n",
      "import clr\n",
      "import System\n",
      "import FlowMatters.Source.Veneer.RemoteScripting.ScriptHelpers as H\n",
      "clr.ImportExtensions(System.Linq)\n",
      "def find_feature_by_name(searchTerm,exact=False):\n",
      "  for n in scenario.Network.Nodes:\n",
      "    if n.Name == searchTerm:\n",
      "      return n\n",
      "    if not exact and n.Name.startswith(searchTerm):\n",
      "      return n\n",
      "  for l in scenario.Network.Links:\n",
      "    if l.Name == searchTerm:\n",
      "      return l\n",
      "    if not exact and l.Name.startswith(searchTerm):\n",
      "      return l\n",
      "  return None\n",
      "\n",
      "n1 = find_feature_by_name(\"The Inflow\",exact=True)\n",
      "n2 = find_feature_by_name(\"The Gauge\",exact=True)\n",
      "result = scenario.Network.Connect(n1,n2)\n",
      "result.Name = \"The Link\"\n"
     ]
    },
    {
     "data": {
      "text/plain": [
       "{'Exception': None,\n",
       " 'Response': {'Value': 'The Link',\n",
       "  '__type': 'StringResponse:#FlowMatters.Source.Veneer.ExchangeObjects'},\n",
       " 'StandardError': '',\n",
       " 'StandardOut': ''}"
      ]
     },
     "execution_count": 24,
     "metadata": {},
     "output_type": "execute_result"
    }
   ],
   "source": [
    "v2.model.link.create('The Inflow','The Gauge','The Link')"
   ]
  },
  {
   "cell_type": "markdown",
   "metadata": {},
   "source": [
    "Now, lets look at the information from `v2.network()` to see that it's all there. (We should also see the model in the geographic view)"
   ]
  },
  {
   "cell_type": "code",
   "execution_count": 26,
   "metadata": {
    "collapsed": false
   },
   "outputs": [
    {
     "data": {
      "text/html": [
       "<div>\n",
       "<table border=\"1\" class=\"dataframe\">\n",
       "  <thead>\n",
       "    <tr style=\"text-align: right;\">\n",
       "      <th></th>\n",
       "      <th>feature_type</th>\n",
       "      <th>from_node</th>\n",
       "      <th>geometry</th>\n",
       "      <th>icon</th>\n",
       "      <th>name</th>\n",
       "      <th>schematic_location</th>\n",
       "      <th>to_node</th>\n",
       "      <th>id</th>\n",
       "    </tr>\n",
       "  </thead>\n",
       "  <tbody>\n",
       "    <tr>\n",
       "      <th>0</th>\n",
       "      <td>node</td>\n",
       "      <td>NaN</td>\n",
       "      <td>POINT (10 10)</td>\n",
       "      <td>/resources/InjectedFlow</td>\n",
       "      <td>The Inflow</td>\n",
       "      <td>[0, 0]</td>\n",
       "      <td>NaN</td>\n",
       "      <td>/network/nodes/0</td>\n",
       "    </tr>\n",
       "    <tr>\n",
       "      <th>1</th>\n",
       "      <td>node</td>\n",
       "      <td>NaN</td>\n",
       "      <td>POINT (20 10)</td>\n",
       "      <td>/resources/GaugeNodeModel</td>\n",
       "      <td>The Gauge</td>\n",
       "      <td>[0, 0]</td>\n",
       "      <td>NaN</td>\n",
       "      <td>/network/nodes/0</td>\n",
       "    </tr>\n",
       "    <tr>\n",
       "      <th>2</th>\n",
       "      <td>node</td>\n",
       "      <td>NaN</td>\n",
       "      <td>POINT (20 10)</td>\n",
       "      <td>/resources/GaugeNodeModel</td>\n",
       "      <td>The Gauge</td>\n",
       "      <td>[0, 0]</td>\n",
       "      <td>NaN</td>\n",
       "      <td>/network/nodes/0</td>\n",
       "    </tr>\n",
       "    <tr>\n",
       "      <th>3</th>\n",
       "      <td>link</td>\n",
       "      <td>/network/nodes/0</td>\n",
       "      <td>LINESTRING (10 10, 20 10)</td>\n",
       "      <td>NaN</td>\n",
       "      <td>The Link</td>\n",
       "      <td>NaN</td>\n",
       "      <td>/network/nodes/0</td>\n",
       "      <td>/network/link/0</td>\n",
       "    </tr>\n",
       "  </tbody>\n",
       "</table>\n",
       "</div>"
      ],
      "text/plain": [
       "  feature_type         from_node                   geometry  \\\n",
       "0         node               NaN              POINT (10 10)   \n",
       "1         node               NaN              POINT (20 10)   \n",
       "2         node               NaN              POINT (20 10)   \n",
       "3         link  /network/nodes/0  LINESTRING (10 10, 20 10)   \n",
       "\n",
       "                        icon        name schematic_location           to_node  \\\n",
       "0    /resources/InjectedFlow  The Inflow             [0, 0]               NaN   \n",
       "1  /resources/GaugeNodeModel   The Gauge             [0, 0]               NaN   \n",
       "2  /resources/GaugeNodeModel   The Gauge             [0, 0]               NaN   \n",
       "3                        NaN    The Link                NaN  /network/nodes/0   \n",
       "\n",
       "                 id  \n",
       "0  /network/nodes/0  \n",
       "1  /network/nodes/0  \n",
       "2  /network/nodes/0  \n",
       "3   /network/link/0  "
      ]
     },
     "execution_count": 26,
     "metadata": {},
     "output_type": "execute_result"
    }
   ],
   "source": [
    "v2.network().as_dataframe()"
   ]
  },
  {
   "cell_type": "markdown",
   "metadata": {},
   "source": [
    "Now, after all that, we'll delete everything we've created and then recreate it all in a loop to give us parallel networks"
   ]
  },
  {
   "cell_type": "code",
   "execution_count": 29,
   "metadata": {
    "collapsed": false
   },
   "outputs": [
    {
     "data": {
      "text/plain": [
       "{'Exception': None, 'Response': None, 'StandardError': '', 'StandardOut': ''}"
      ]
     },
     "execution_count": 29,
     "metadata": {},
     "output_type": "execute_result"
    }
   ],
   "source": [
    "v2.model.node.remove('The Inflow')\n",
    "v2.model.node.remove('The Gauge')"
   ]
  },
  {
   "cell_type": "markdown",
   "metadata": {},
   "source": [
    "So, now we can create (and delete) nodes and links, lets create multiple parallel networks, to test out our flow routing parameters. We'll create 20, because we can!\n"
   ]
  },
  {
   "cell_type": "code",
   "execution_count": null,
   "metadata": {
    "collapsed": true
   },
   "outputs": [],
   "source": []
  },
  {
   "cell_type": "code",
   "execution_count": 25,
   "metadata": {
    "collapsed": true
   },
   "outputs": [],
   "source": [
    "num_networks=20"
   ]
  },
  {
   "cell_type": "code",
   "execution_count": 35,
   "metadata": {
    "collapsed": false
   },
   "outputs": [
    {
     "name": "stdout",
     "output_type": "stream",
     "text": [
      "Creating network 1\n",
      "Creating network 2\n",
      "Creating network 3\n",
      "Creating network 4\n",
      "Creating network 5\n",
      "Creating network 6\n",
      "Creating network 7\n",
      "Creating network 8\n",
      "Creating network 9\n",
      "Creating network 10\n",
      "Creating network 11\n",
      "Creating network 12\n",
      "Creating network 13\n",
      "Creating network 14\n",
      "Creating network 15\n",
      "Creating network 16\n",
      "Creating network 17\n",
      "Creating network 18\n",
      "Creating network 19\n",
      "Creating network 20\n"
     ]
    }
   ],
   "source": [
    "for i in range(1,num_networks+1): # Loop from 1 to 20\n",
    "    veneer.log('Creating network %d'%i)\n",
    "    x = i\n",
    "    loc_inflow = [i,10]\n",
    "    loc_gauge = [i,0]\n",
    "    \n",
    "    name_inflow = 'Inflow %d'%i\n",
    "    name_gauge = 'Gauge %d'%i\n",
    "    \n",
    "    v2.model.node.create(name_inflow,'RiverSystem.Nodes.Inflow.InjectedFlow',location=loc_inflow,schematic_location=loc_inflow)\n",
    "    \n",
    "    v2.model.node.create(name_gauge,'RiverSystem.Nodes.Gauge.GaugeNodeModel',location=loc_gauge,schematic_location=loc_gauge)\n",
    "    \n",
    "    # Create the link\n",
    "    name_link = 'Link %d'%i\n",
    "    v2.model.link.create(name_inflow,name_gauge,name_link)\n",
    "    \n",
    "    # Set the routing type to storage routing (we *could* do this at the end, outside the loop)\n",
    "    v2.model.link.routing.set_models('RiverSystem.Flow.StorageRouting',links=name_link)\n"
   ]
  },
  {
   "cell_type": "markdown",
   "metadata": {},
   "source": [
    "We'll use one of the flow files from the earlier model to drive each of our inflow nodes. We need to know where that data is. Here, I'm assuming its in the `ExampleProject` directory within the same directory as this notebook. We'll need the absolute path for Source, and the Python `os` package helps with this type of filesystem operation"
   ]
  },
  {
   "cell_type": "code",
   "execution_count": 3,
   "metadata": {
    "collapsed": true
   },
   "outputs": [],
   "source": [
    "import os"
   ]
  },
  {
   "cell_type": "code",
   "execution_count": 4,
   "metadata": {
    "collapsed": false
   },
   "outputs": [
    {
     "data": {
      "text/plain": [
       "True"
      ]
     },
     "execution_count": 4,
     "metadata": {},
     "output_type": "execute_result"
    }
   ],
   "source": [
    "os.path.exists('ExampleProject/Fish_G_flow.csv')"
   ]
  },
  {
   "cell_type": "code",
   "execution_count": 5,
   "metadata": {
    "collapsed": false
   },
   "outputs": [
    {
     "data": {
      "text/plain": [
       "'D:\\\\src\\\\projects\\\\veneer-py\\\\doc\\\\training\\\\ExampleProject\\\\Fish_G_flow.csv'"
      ]
     },
     "execution_count": 5,
     "metadata": {},
     "output_type": "execute_result"
    }
   ],
   "source": [
    "absolute_path = os.path.abspath('ExampleProject/Fish_G_flow.csv')\n",
    "absolute_path"
   ]
  },
  {
   "cell_type": "code",
   "execution_count": null,
   "metadata": {
    "collapsed": true
   },
   "outputs": [],
   "source": []
  },
  {
   "cell_type": "markdown",
   "metadata": {},
   "source": [
    "We can use `v.model.node.assign_time_series` to attach a time series of inflows to the inflow node. We could have done this in the for loop, one node at a time, but, like `set_param_values` we can assign time series to multiple nodes at once.\n",
    "\n",
    "One thing that we do need to know is the parameter that we're assigning the time series to (because, after all, this could be any type of node - veneer-py doesn't know at this stage). We can check `v.model.find_parameters` and, if that doesn't work, `v.model.find_inputs`:"
   ]
  },
  {
   "cell_type": "code",
   "execution_count": 18,
   "metadata": {
    "collapsed": false
   },
   "outputs": [
    {
     "data": {
      "text/plain": [
       "['ReplaceFlow']"
      ]
     },
     "execution_count": 18,
     "metadata": {},
     "output_type": "execute_result"
    }
   ],
   "source": [
    "v2.model.find_parameters('RiverSystem.Nodes.Inflow.InjectedFlow')"
   ]
  },
  {
   "cell_type": "code",
   "execution_count": 22,
   "metadata": {
    "collapsed": false
   },
   "outputs": [
    {
     "data": {
      "text/plain": [
       "['Flow']"
      ]
     },
     "execution_count": 22,
     "metadata": {},
     "output_type": "execute_result"
    }
   ],
   "source": [
    "v2.model.find_inputs('RiverSystem.Nodes.Inflow.InjectedFlow')"
   ]
  },
  {
   "cell_type": "markdown",
   "metadata": {},
   "source": [
    "So `'Flow'` it is!"
   ]
  },
  {
   "cell_type": "code",
   "execution_count": 23,
   "metadata": {
    "collapsed": false
   },
   "outputs": [
    {
     "data": {
      "text/plain": [
       "True"
      ]
     },
     "execution_count": 23,
     "metadata": {},
     "output_type": "execute_result"
    }
   ],
   "source": [
    "v2.model.node.assign_time_series('Flow',absolute_path,'Inflows')"
   ]
  },
  {
   "cell_type": "markdown",
   "metadata": {
    "collapsed": false
   },
   "source": [
    "Almost there.\n",
    "\n",
    "Now, lets set a range of storage routing parameters (much like we did before)"
   ]
  },
  {
   "cell_type": "code",
   "execution_count": 26,
   "metadata": {
    "collapsed": false
   },
   "outputs": [
    {
     "data": {
      "text/plain": [
       "array([ 1.  ,  0.95,  0.9 ,  0.85,  0.8 ,  0.75,  0.7 ,  0.65,  0.6 ,\n",
       "        0.55,  0.5 ,  0.45,  0.4 ,  0.35,  0.3 ,  0.25,  0.2 ,  0.15,\n",
       "        0.1 ,  0.05])"
      ]
     },
     "execution_count": 26,
     "metadata": {},
     "output_type": "execute_result"
    }
   ],
   "source": [
    "power_vals = np.arange(1.0,0.0,-1.0/num_networks)\n",
    "power_vals"
   ]
  },
  {
   "cell_type": "markdown",
   "metadata": {},
   "source": [
    "And assign those to the links"
   ]
  },
  {
   "cell_type": "code",
   "execution_count": 29,
   "metadata": {
    "collapsed": false
   },
   "outputs": [
    {
     "data": {
      "text/plain": [
       "True"
      ]
     },
     "execution_count": 29,
     "metadata": {},
     "output_type": "execute_result"
    }
   ],
   "source": [
    "v2.model.link.routing.set_param_values('RoutingConstant',86400.0)\n",
    "v2.model.link.routing.set_param_values('RoutingPower',power_vals,fromList=True)"
   ]
  },
  {
   "cell_type": "markdown",
   "metadata": {},
   "source": [
    "Now, configure recording"
   ]
  },
  {
   "cell_type": "code",
   "execution_count": 30,
   "metadata": {
    "collapsed": true
   },
   "outputs": [],
   "source": [
    "v2.configure_recording(disable=[{}],enable=[{'RecordingVariable':'Downstream Flow Volume'}])"
   ]
  },
  {
   "cell_type": "markdown",
   "metadata": {},
   "source": [
    "And one last thing - work out the time period for the run from the inflow time series"
   ]
  },
  {
   "cell_type": "code",
   "execution_count": 41,
   "metadata": {
    "collapsed": false
   },
   "outputs": [
    {
     "data": {
      "text/plain": [
       "('11/01/1998', '31/12/2013')"
      ]
     },
     "execution_count": 41,
     "metadata": {},
     "output_type": "execute_result"
    }
   ],
   "source": [
    "inflow_ts = pd.read_csv(absolute_path,index_col=0)\n",
    "start,end=inflow_ts.index[[0,-1]]\n",
    "start,end"
   ]
  },
  {
   "cell_type": "markdown",
   "metadata": {},
   "source": [
    "That looks a bit much. Lets run for a year"
   ]
  },
  {
   "cell_type": "code",
   "execution_count": 42,
   "metadata": {
    "collapsed": false
   },
   "outputs": [
    {
     "data": {
      "text/plain": [
       "(302, 'runs/4')"
      ]
     },
     "execution_count": 42,
     "metadata": {},
     "output_type": "execute_result"
    }
   ],
   "source": [
    "v2.run_model(start='01/01/1999',end='31/12/1999')"
   ]
  },
  {
   "cell_type": "markdown",
   "metadata": {},
   "source": [
    "Now, we can retrieve some results. Because we used a naming convention for all the nodes, its possible to grab relevant results using those conventions"
   ]
  },
  {
   "cell_type": "code",
   "execution_count": 43,
   "metadata": {
    "collapsed": false
   },
   "outputs": [],
   "source": [
    "upstream = v2.retrieve_multiple_time_series(criteria={'RecordingVariable':'Downstream Flow Volume','NetworkElement':'Inflow.*'})\n",
    "downstream = v2.retrieve_multiple_time_series(criteria={'RecordingVariable':'Downstream Flow Volume','NetworkElement':'Gauge.*'})"
   ]
  },
  {
   "cell_type": "code",
   "execution_count": 52,
   "metadata": {
    "collapsed": false
   },
   "outputs": [
    {
     "data": {
      "text/plain": [
       "<matplotlib.axes._subplots.AxesSubplot at 0xc181e80>"
      ]
     },
     "execution_count": 52,
     "metadata": {},
     "output_type": "execute_result"
    },
    {
     "data": {
      "image/png": "[encoded data removed]",
      "text/plain": [
       "<matplotlib.figure.Figure at 0xc189f98>"
      ]
     },
     "metadata": {},
     "output_type": "display_data"
    }
   ],
   "source": [
    "downstream[['Gauge 1:Downstream Flow Volume','Gauge 20:Downstream Flow Volume']].plot(figsize=(10,10))"
   ]
  },
  {
   "cell_type": "markdown",
   "metadata": {},
   "source": [
    "If you'd like to change and rerun this example, the following code block can be used to delete all the existing nodes. (Or, just start a new project in Source)"
   ]
  },
  {
   "cell_type": "code",
   "execution_count": 53,
   "metadata": {
    "collapsed": true
   },
   "outputs": [],
   "source": [
    "#nodes = v2.network()['features'].find_by_feature_type('node')._all_values('name')\n",
    "#for n in nodes:\n",
    "#    v2.model.node.remove(n)"
   ]
  },
  {
   "cell_type": "markdown",
   "metadata": {},
   "source": [
    "## Conclusion\n",
    "\n",
    "This session has looked at structural modifications of Source using Veneer, veneer-py and the use of IronPython scripts that run within Source.\n",
    "\n",
    "Writing IronPython scripts requires a knowledge of internal Source data structures, but there is a growing collection of helper functions, under the `v.model` namespace to assist."
   ]
  },
  {
   "cell_type": "code",
   "execution_count": null,
   "metadata": {
    "collapsed": true
   },
   "outputs": [],
   "source": []
  },
  {
   "cell_type": "code",
   "execution_count": null,
   "metadata": {
    "collapsed": true
   },
   "outputs": [],
   "source": []
  },
  {
   "cell_type": "code",
   "execution_count": null,
   "metadata": {
    "collapsed": true
   },
   "outputs": [],
   "source": []
  }
 ],
 "metadata": {
  "kernelspec": {
   "display_name": "Python 3",
   "language": "python",
   "name": "python3"
  },
  "language_info": {
   "codemirror_mode": {
    "name": "ipython",
    "version": 3
   },
   "file_extension": ".py",
   "mimetype": "text/x-python",
   "name": "python",
   "nbconvert_exporter": "python",
   "pygments_lexer": "ipython3",
   "version": "3.4.4"
  }
 },
 "nbformat": 4,
 "nbformat_minor": 0
}
