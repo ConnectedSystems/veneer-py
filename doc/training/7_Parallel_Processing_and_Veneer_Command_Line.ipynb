{
 "cells": [
  {
   "cell_type": "markdown",
   "metadata": {},
   "source": [
    "# Session 7 - PEST, Parallel Processing and the Veneer command line\n",
    "\n",
    "This session looks at options for parallel processing with Veneer - that is, by running multiple copies of Source, each with a Veneer server running, and giving instructions to each running copy in parallel.\n",
    "\n",
    "You can establish multiple copies of Source/Veneer by running multiple copies of the Source application, loading a project and starting the Web Server Monitoring window on each one. Alternatively, you can use the Vener Command Line, which has presents the same interface to Python and other systems, without the overheads of the user interface.\n",
    "\n",
    "This session also looks briefly at one of the main use cases for parallel processing with Veneer - model calibration - and some basic functionality available for using PEST with Source/Veneer.\n",
    "\n",
    "## Overview\n",
    "\n",
    "- Launching multiple copies of Veneer command line using veneer-py\n",
    "- Running simulations in parallel\n",
    "- The typical pattern of using PEST with Veneer\n",
    "- Describing the PEST ‘job'\n",
    "  - Veneer/Source end-point(s)\n",
    "  - Getting the model ‘ready’ for optimisation\n",
    "  - Describing the calibration parameters\n",
    "  - Describing the objective and any observed data\n",
    "  - What veneer-py is taking care of\n",
    "- Running PEST, feedback\n",
    "- Limitations"
   ]
  },
  {
   "cell_type": "code",
   "execution_count": null,
   "metadata": {
    "collapsed": true
   },
   "outputs": [],
   "source": []
  },
  {
   "cell_type": "markdown",
   "metadata": {},
   "source": [
    "## The Veneer Command Line\n",
    "\n",
    "The Veneer command line is a standalone executable program that runs the Source engine and exposes the Veneer network interface, without the main Source user interface.\n",
    "\n",
    "The program is distributed with Veneer, although the setup process is a little different.\n",
    "\n",
    "Where the Veneer plugin DLL can be used from any directory, the command line needs access to all the main DLLs supplied with Source. So, to setup the command line, you can either (a) copy the program and the other files supplied with Veneer, into your main Source installation directory, or (b) copy ALL of the files from the main Source directory into a common directory with Veneer.\n",
    "\n",
    "Once you've done so, you should be able to run the Veneer command line. You can launch the Veneer command line directory from a Windows command prompt. Alternatively, you can start one or more copies directly from Python using `veneer.manage.start`:"
   ]
  },
  {
   "cell_type": "code",
   "execution_count": 1,
   "metadata": {
    "collapsed": false
   },
   "outputs": [],
   "source": [
    "from veneer.manage import start"
   ]
  },
  {
   "cell_type": "code",
   "execution_count": 2,
   "metadata": {
    "collapsed": false
   },
   "outputs": [
    {
     "name": "stdout",
     "output_type": "stream",
     "text": [
      "Help on function start in module veneer.manage:\n",
      "\n",
      "start(project_fn, n_instances=1, ports=9876, debug=False, remote=True, script=True, veneer_exe=None)\n",
      "    Start one or more copies of the Veneer command line progeram with a given project file\n",
      "    \n",
      "    Parameters:\n",
      "    \n",
      "    - project_fn - Path to a Source project file (.rsproj)\n",
      "    \n",
      "    - n_instances - Number of copies of the Veneer command line to start (default: 1)\n",
      "    \n",
      "    - ports - A single port number, indicating the port number of the first copy of the Veneer command line,\n",
      "              OR a list of ports, in which case len(ports)==n_instances  (default: 9876)\n",
      "    \n",
      "    - debug - Set to True to echo all output from Veneer Command Line during startup\n",
      "    \n",
      "    - remote - Allow remote connections (requires registration)\n",
      "    \n",
      "    - script - Allow IronPython scripts\n",
      "    \n",
      "    - veneer_exe - Optional (but often required) path to the Veneer Command Line. If not provided,\n",
      "                   veneer-py will attempt to identify the version of Veneer Command Line to invoke.\n",
      "                   If there is a source_version.txt file in the same directory as the project file,\n",
      "                   this text file will be consulted to identify the version of Source.\n",
      "\n"
     ]
    }
   ],
   "source": [
    "help(start)"
   ]
  },
  {
   "cell_type": "markdown",
   "metadata": {},
   "source": [
    "The main things you need, in order to call `start` are a Source project file (a path to the `.rsproj` file) and a path to the Veneer command line exe.\n",
    "\n",
    "In the following block, you will need to, at very least, update the `veneer_exe` variable to reflect where you have stored the Veneer command line program.\n",
    "\n",
    "(Now is a good time to explore the assistance that Jupyter can give in navigating the file system. When you start typing a literal string - eg `'D:/'` and press `<tab>` it will present you with a list of filesystem completions. Very handy - unless you have spaces in your path!)\n"
   ]
  },
  {
   "cell_type": "code",
   "execution_count": 3,
   "metadata": {
    "collapsed": true
   },
   "outputs": [],
   "source": [
    "project='ExampleProject/RiverModel.rsproj'\n",
    "veneer_exe='D:\\\\src\\\\projects\\\\Veneer\\\\Compiled\\\\Source 4.1.0.4334 (public version) FULL\\\\FlowMatters.Source.VeneerCmd.exe'\n"
   ]
  },
  {
   "cell_type": "markdown",
   "metadata": {},
   "source": [
    "We can now start up a number of Veneer command line 'servers'.\n",
    "\n",
    "We'll specify how many we want using `num_copies` - Its a good idea to set this based on the number of CPU cores available.\n",
    "\n",
    "We also set `first_port` - Which is used for the first server. This number is incremented by one for each extra server."
   ]
  },
  {
   "cell_type": "code",
   "execution_count": 4,
   "metadata": {
    "collapsed": false
   },
   "outputs": [
    {
     "name": "stdout",
     "output_type": "stream",
     "text": [
      "Starting D:\\src\\projects\\Veneer\\Compiled\\Source 4.1.0.4334 (public version) FULL\\FlowMatters.Source.VeneerCmd.exe -p 9880 -r -s  D:\\src\\projects\\veneer-py\\doc\\training\\ExampleProject\\RiverModel.rsproj\n",
      "Starting D:\\src\\projects\\Veneer\\Compiled\\Source 4.1.0.4334 (public version) FULL\\FlowMatters.Source.VeneerCmd.exe -p 9881 -r -s  D:\\src\\projects\\veneer-py\\doc\\training\\ExampleProject\\RiverModel.rsproj\n",
      "Starting D:\\src\\projects\\Veneer\\Compiled\\Source 4.1.0.4334 (public version) FULL\\FlowMatters.Source.VeneerCmd.exe -p 9882 -r -s  D:\\src\\projects\\veneer-py\\doc\\training\\ExampleProject\\RiverModel.rsproj\n",
      "Starting D:\\src\\projects\\Veneer\\Compiled\\Source 4.1.0.4334 (public version) FULL\\FlowMatters.Source.VeneerCmd.exe -p 9883 -r -s  D:\\src\\projects\\veneer-py\\doc\\training\\ExampleProject\\RiverModel.rsproj\n",
      "[2] Loading plugins\n",
      "\n",
      "[3] Loading plugins\n",
      "\n",
      "[0] Loading plugins\n",
      "\n",
      "[0] Loaded D:\\src\\projects\\Veneer\\Compiled\\Source 4.1.0.4334 (public version)\\FlowMatters.Source.Veneer.dll\n",
      "\n",
      "[0] Loaded C:\\Program Files\\eWater\\Source 4.1.0.4334 (public version)\\Plugins\\RiverSystem.Plugins.PerfectGWLag.dll\n",
      "\n",
      "[0] Loaded D:\\src\\projects\\ACARP\\catchmentsalinity\\Compiled\\Source 4.1.0.4334 (public version)\\CatchmentSalinity.dll\n",
      "\n",
      "[0] Plugins loaded (3/3)\n",
      "\n",
      "[1] Loading plugins\n",
      "\n",
      "[1] Loaded D:\\src\\projects\\Veneer\\Compiled\\Source 4.1.0.4334 (public version)\\FlowMatters.Source.Veneer.dll\n",
      "\n",
      "[1] Loaded C:\\Program Files\\eWater\\Source 4.1.0.4334 (public version)\\Plugins\\RiverSystem.Plugins.PerfectGWLag.dll\n",
      "\n",
      "[1] Loaded D:\\src\\projects\\ACARP\\catchmentsalinity\\Compiled\\Source 4.1.0.4334 (public version)\\CatchmentSalinity.dll\n",
      "\n",
      "[1] Plugins loaded (3/3)\n",
      "\n",
      "[2] Loaded D:\\src\\projects\\Veneer\\Compiled\\Source 4.1.0.4334 (public version)\\FlowMatters.Source.Veneer.dll\n",
      "\n",
      "[2] Loaded C:\\Program Files\\eWater\\Source 4.1.0.4334 (public version)\\Plugins\\RiverSystem.Plugins.PerfectGWLag.dll\n",
      "\n",
      "[2] Loaded D:\\src\\projects\\ACARP\\catchmentsalinity\\Compiled\\Source 4.1.0.4334 (public version)\\CatchmentSalinity.dll\n",
      "\n",
      "[2] Plugins loaded (3/3)\n",
      "\n",
      "[3] Loaded D:\\src\\projects\\Veneer\\Compiled\\Source 4.1.0.4334 (public version)\\FlowMatters.Source.Veneer.dll\n",
      "\n",
      "[3] Loaded C:\\Program Files\\eWater\\Source 4.1.0.4334 (public version)\\Plugins\\RiverSystem.Plugins.PerfectGWLag.dll\n",
      "\n",
      "[3] Loaded D:\\src\\projects\\ACARP\\catchmentsalinity\\Compiled\\Source 4.1.0.4334 (public version)\\CatchmentSalinity.dll\n",
      "\n",
      "[3] Plugins loaded (3/3)\n",
      "\n",
      "[1] Opening project file: D:\\src\\projects\\veneer-py\\doc\\training\\ExampleProject\\RiverModel.rsproj\n",
      "\n",
      "[2] Opening project file: D:\\src\\projects\\veneer-py\\doc\\training\\ExampleProject\\RiverModel.rsproj\n",
      "\n",
      "[0] Opening project file: D:\\src\\projects\\veneer-py\\doc\\training\\ExampleProject\\RiverModel.rsproj\n",
      "\n",
      "ERROR[1] log4net:ERROR Failed to find configuration section 'log4net' in the application's .config file. Check your .config file for the <log4net> and <configSections> elements. The configuration section should look like: <section name=\"log4net\" type=\"log4net.Config.Log4NetConfigurationSectionHandler,log4net\" />\n",
      "\n",
      "ERROR[2] log4net:ERROR Failed to find configuration section 'log4net' in the application's .config file. Check your .config file for the <log4net> and <configSections> elements. The configuration section should look like: <section name=\"log4net\" type=\"log4net.Config.Log4NetConfigurationSectionHandler,log4net\" />\n",
      "\n",
      "[3] Opening project file: D:\\src\\projects\\veneer-py\\doc\\training\\ExampleProject\\RiverModel.rsproj\n",
      "\n",
      "ERROR[0] log4net:ERROR Failed to find configuration section 'log4net' in the application's .config file. Check your .config file for the <log4net> and <configSections> elements. The configuration section should look like: <section name=\"log4net\" type=\"log4net.Config.Log4NetConfigurationSectionHandler,log4net\" />\n",
      "\n",
      "ERROR[3] log4net:ERROR Failed to find configuration section 'log4net' in the application's .config file. Check your .config file for the <log4net> and <configSections> elements. The configuration section should look like: <section name=\"log4net\" type=\"log4net.Config.Log4NetConfigurationSectionHandler,log4net\" />\n",
      "\n",
      "[1] Loading project\n",
      "\n",
      "[2] Loading project\n",
      "\n",
      "[3] Loading project\n",
      "\n",
      "[0] Loading project\n",
      "\n",
      "[1] Project Loaded\n",
      "\n",
      "[1] River\n",
      "\n",
      "[1] WaterBalance\n",
      "\n",
      "[1] [11:43:43 AM] Veneer, by Flow Matters: http://www.flowmatters.com.au\n",
      "\n",
      "[1] [11:43:43 AM] Started Source RESTful Service on port:9881\n",
      "\n",
      "Server 1 on port 9881 is ready\n",
      "[1] Server started. Ctrl-C to exit, or POST /shutdown command\n",
      "\n",
      "[3] Project Loaded\n",
      "\n",
      "[3] River\n",
      "\n",
      "[3] WaterBalance\n",
      "\n",
      "[0] Project Loaded\n",
      "\n",
      "[0] River\n",
      "\n",
      "[0] WaterBalance\n",
      "\n",
      "[2] Project Loaded\n",
      "\n",
      "[2] River\n",
      "\n",
      "[2] WaterBalance\n",
      "\n",
      "[3] [11:43:43 AM] Veneer, by Flow Matters: http://www.flowmatters.com.au\n",
      "\n",
      "[3] [11:43:43 AM] Started Source RESTful Service on port:9883\n",
      "\n",
      "Server 3 on port 9883 is ready\n",
      "[3] Server started. Ctrl-C to exit, or POST /shutdown command\n",
      "\n",
      "[0] [11:43:43 AM] Veneer, by Flow Matters: http://www.flowmatters.com.au\n",
      "\n",
      "[0] [11:43:43 AM] Started Source RESTful Service on port:9880\n",
      "\n",
      "Server 0 on port 9880 is ready\n",
      "[0] Server started. Ctrl-C to exit, or POST /shutdown command\n",
      "\n",
      "[2] [11:43:43 AM] Veneer, by Flow Matters: http://www.flowmatters.com.au\n",
      "\n",
      "[2] [11:43:43 AM] Started Source RESTful Service on port:9882\n",
      "\n",
      "Server 2 on port 9882 is ready\n",
      "[2] Server started. Ctrl-C to exit, or POST /shutdown command\n",
      "\n"
     ]
    },
    {
     "data": {
      "text/plain": [
       "([<subprocess.Popen at 0x53b1b38>,\n",
       "  <subprocess.Popen at 0x53b1be0>,\n",
       "  <subprocess.Popen at 0x53b1ac8>,\n",
       "  <subprocess.Popen at 0x53b1ba8>],\n",
       " [9880, 9881, 9882, 9883])"
      ]
     },
     "execution_count": 4,
     "metadata": {},
     "output_type": "execute_result"
    }
   ],
   "source": [
    "num_copies=4\n",
    "first_port=9880\n",
    "start(project,n_instances=num_copies,ports=9880,debug=True,veneer_exe=veneer_exe)"
   ]
  },
  {
   "cell_type": "markdown",
   "metadata": {},
   "source": [
    "You should see a number of lines along the lines of `[3] Server started. Ctrl-C to exit...` indicating that the servers have started.\n",
    "\n",
    "These servers will now run until your current python session ends. (To make that happen, without closing the notebook, use the `Kernel|Restart` menu option in Jupyter)\n"
   ]
  },
  {
   "cell_type": "markdown",
   "metadata": {},
   "source": [
    "## Parallel Simulations\n",
    "\n",
    "You can now work with each of these Veneer servers in the same way that you worked with a single server in the earlier sessions.\n",
    "\n",
    "You will need an instance of the Veneer client object - one for each instance.\n",
    "\n",
    "Here, we'll create a list of Veneer clients, each connected to a different instance based on the port number"
   ]
  },
  {
   "cell_type": "code",
   "execution_count": 5,
   "metadata": {
    "collapsed": true
   },
   "outputs": [],
   "source": [
    "import veneer"
   ]
  },
  {
   "cell_type": "code",
   "execution_count": 6,
   "metadata": {
    "collapsed": false
   },
   "outputs": [
    {
     "data": {
      "text/plain": [
       "[9880, 9881, 9882, 9883]"
      ]
     },
     "execution_count": 6,
     "metadata": {},
     "output_type": "execute_result"
    }
   ],
   "source": [
    "all_ports = list(range(first_port,first_port+num_copies))\n",
    "all_ports"
   ]
  },
  {
   "cell_type": "code",
   "execution_count": 7,
   "metadata": {
    "collapsed": false
   },
   "outputs": [],
   "source": [
    "vs = [veneer.Veneer(port=p) for p in all_ports]"
   ]
  },
  {
   "cell_type": "markdown",
   "metadata": {},
   "source": [
    "You can now ask one of these servers to run a model for you:"
   ]
  },
  {
   "cell_type": "code",
   "execution_count": 8,
   "metadata": {
    "collapsed": false
   },
   "outputs": [
    {
     "data": {
      "text/html": [
       "<div>\n",
       "<table border=\"1\" class=\"dataframe\">\n",
       "  <thead>\n",
       "    <tr style=\"text-align: right;\">\n",
       "      <th></th>\n",
       "      <th>Confluence: Fish Creek Confluence: Downstream Flow Volume</th>\n",
       "      <th>Confluence: Shell Creek Confluence: Downstream Flow Volume</th>\n",
       "      <th>Gauge: Evaluation Gauge: Downstream Flow Volume</th>\n",
       "      <th>Gauge: Lower Gauge: Downstream Flow Volume</th>\n",
       "      <th>Gauge: Middle Gauge: Downstream Flow Volume</th>\n",
       "      <th>Inflow: Crab Creek: Downstream Flow Volume</th>\n",
       "      <th>Inflow: Fish Creek: Downstream Flow Volume</th>\n",
       "      <th>Inflow: Shell Creek: Downstream Flow Volume</th>\n",
       "      <th>Lagged Flow Routing: Default Link #3: Downstream Flow Volume</th>\n",
       "      <th>Minimum Flow Requirement: Lake Release: Downstream Flow Volume</th>\n",
       "      <th>...</th>\n",
       "      <th>Straight-Through Routing: Default Link #14: Downstream Flow Volume</th>\n",
       "      <th>Straight-Through Routing: Default Link #15: Downstream Flow Volume</th>\n",
       "      <th>Straight-Through Routing: Default Link #1: Downstream Flow Volume</th>\n",
       "      <th>Straight-Through Routing: Default Link #2: Downstream Flow Volume</th>\n",
       "      <th>Straight-Through Routing: Default Link #4: Downstream Flow Volume</th>\n",
       "      <th>Straight-Through Routing: Default Link #5: Downstream Flow Volume</th>\n",
       "      <th>Straight-Through Routing: Default Link #6: Downstream Flow Volume</th>\n",
       "      <th>Straight-Through Routing: Lake Outflow: Downstream Flow Volume</th>\n",
       "      <th>Supply Point: Supply Point 13: Downstream Flow Volume</th>\n",
       "      <th>Water User: Crop Fields: Downstream Flow Volume</th>\n",
       "    </tr>\n",
       "  </thead>\n",
       "  <tbody>\n",
       "    <tr>\n",
       "      <th>1998-01-11</th>\n",
       "      <td>0.0</td>\n",
       "      <td>0.0</td>\n",
       "      <td>0.0</td>\n",
       "      <td>0.0</td>\n",
       "      <td>0.0</td>\n",
       "      <td>0.0</td>\n",
       "      <td>0.0</td>\n",
       "      <td>0.0</td>\n",
       "      <td>0.0</td>\n",
       "      <td>0.0</td>\n",
       "      <td>...</td>\n",
       "      <td>0.0</td>\n",
       "      <td>0.0</td>\n",
       "      <td>0.0</td>\n",
       "      <td>0.0</td>\n",
       "      <td>0.0</td>\n",
       "      <td>0.0</td>\n",
       "      <td>0.0</td>\n",
       "      <td>0.0</td>\n",
       "      <td>0.0</td>\n",
       "      <td>0</td>\n",
       "    </tr>\n",
       "    <tr>\n",
       "      <th>1998-01-12</th>\n",
       "      <td>0.0</td>\n",
       "      <td>0.0</td>\n",
       "      <td>0.0</td>\n",
       "      <td>0.0</td>\n",
       "      <td>0.0</td>\n",
       "      <td>0.0</td>\n",
       "      <td>0.0</td>\n",
       "      <td>0.0</td>\n",
       "      <td>0.0</td>\n",
       "      <td>0.0</td>\n",
       "      <td>...</td>\n",
       "      <td>0.0</td>\n",
       "      <td>0.0</td>\n",
       "      <td>0.0</td>\n",
       "      <td>0.0</td>\n",
       "      <td>0.0</td>\n",
       "      <td>0.0</td>\n",
       "      <td>0.0</td>\n",
       "      <td>0.0</td>\n",
       "      <td>0.0</td>\n",
       "      <td>0</td>\n",
       "    </tr>\n",
       "    <tr>\n",
       "      <th>1998-01-13</th>\n",
       "      <td>0.0</td>\n",
       "      <td>0.0</td>\n",
       "      <td>0.0</td>\n",
       "      <td>0.0</td>\n",
       "      <td>0.0</td>\n",
       "      <td>0.0</td>\n",
       "      <td>0.0</td>\n",
       "      <td>0.0</td>\n",
       "      <td>0.0</td>\n",
       "      <td>0.0</td>\n",
       "      <td>...</td>\n",
       "      <td>0.0</td>\n",
       "      <td>0.0</td>\n",
       "      <td>0.0</td>\n",
       "      <td>0.0</td>\n",
       "      <td>0.0</td>\n",
       "      <td>0.0</td>\n",
       "      <td>0.0</td>\n",
       "      <td>0.0</td>\n",
       "      <td>0.0</td>\n",
       "      <td>0</td>\n",
       "    </tr>\n",
       "    <tr>\n",
       "      <th>1998-01-14</th>\n",
       "      <td>0.0</td>\n",
       "      <td>0.0</td>\n",
       "      <td>0.0</td>\n",
       "      <td>0.0</td>\n",
       "      <td>0.0</td>\n",
       "      <td>0.0</td>\n",
       "      <td>0.0</td>\n",
       "      <td>0.0</td>\n",
       "      <td>0.0</td>\n",
       "      <td>0.0</td>\n",
       "      <td>...</td>\n",
       "      <td>0.0</td>\n",
       "      <td>0.0</td>\n",
       "      <td>0.0</td>\n",
       "      <td>0.0</td>\n",
       "      <td>0.0</td>\n",
       "      <td>0.0</td>\n",
       "      <td>0.0</td>\n",
       "      <td>0.0</td>\n",
       "      <td>0.0</td>\n",
       "      <td>0</td>\n",
       "    </tr>\n",
       "    <tr>\n",
       "      <th>1998-01-15</th>\n",
       "      <td>0.0</td>\n",
       "      <td>0.0</td>\n",
       "      <td>0.0</td>\n",
       "      <td>0.0</td>\n",
       "      <td>0.0</td>\n",
       "      <td>0.0</td>\n",
       "      <td>0.0</td>\n",
       "      <td>0.0</td>\n",
       "      <td>0.0</td>\n",
       "      <td>0.0</td>\n",
       "      <td>...</td>\n",
       "      <td>0.0</td>\n",
       "      <td>0.0</td>\n",
       "      <td>0.0</td>\n",
       "      <td>0.0</td>\n",
       "      <td>0.0</td>\n",
       "      <td>0.0</td>\n",
       "      <td>0.0</td>\n",
       "      <td>0.0</td>\n",
       "      <td>0.0</td>\n",
       "      <td>0</td>\n",
       "    </tr>\n",
       "    <tr>\n",
       "      <th>1998-01-16</th>\n",
       "      <td>0.0</td>\n",
       "      <td>0.0</td>\n",
       "      <td>0.0</td>\n",
       "      <td>0.0</td>\n",
       "      <td>0.0</td>\n",
       "      <td>0.0</td>\n",
       "      <td>0.0</td>\n",
       "      <td>0.0</td>\n",
       "      <td>0.0</td>\n",
       "      <td>0.0</td>\n",
       "      <td>...</td>\n",
       "      <td>0.0</td>\n",
       "      <td>0.0</td>\n",
       "      <td>0.0</td>\n",
       "      <td>0.0</td>\n",
       "      <td>0.0</td>\n",
       "      <td>0.0</td>\n",
       "      <td>0.0</td>\n",
       "      <td>0.0</td>\n",
       "      <td>0.0</td>\n",
       "      <td>0</td>\n",
       "    </tr>\n",
       "    <tr>\n",
       "      <th>1998-01-17</th>\n",
       "      <td>0.0</td>\n",
       "      <td>0.0</td>\n",
       "      <td>0.0</td>\n",
       "      <td>0.0</td>\n",
       "      <td>0.0</td>\n",
       "      <td>0.0</td>\n",
       "      <td>0.0</td>\n",
       "      <td>0.0</td>\n",
       "      <td>0.0</td>\n",
       "      <td>0.0</td>\n",
       "      <td>...</td>\n",
       "      <td>0.0</td>\n",
       "      <td>0.0</td>\n",
       "      <td>0.0</td>\n",
       "      <td>0.0</td>\n",
       "      <td>0.0</td>\n",
       "      <td>0.0</td>\n",
       "      <td>0.0</td>\n",
       "      <td>0.0</td>\n",
       "      <td>0.0</td>\n",
       "      <td>0</td>\n",
       "    </tr>\n",
       "    <tr>\n",
       "      <th>1998-01-18</th>\n",
       "      <td>0.0</td>\n",
       "      <td>0.0</td>\n",
       "      <td>0.0</td>\n",
       "      <td>0.0</td>\n",
       "      <td>0.0</td>\n",
       "      <td>0.0</td>\n",
       "      <td>0.0</td>\n",
       "      <td>0.0</td>\n",
       "      <td>0.0</td>\n",
       "      <td>0.0</td>\n",
       "      <td>...</td>\n",
       "      <td>0.0</td>\n",
       "      <td>0.0</td>\n",
       "      <td>0.0</td>\n",
       "      <td>0.0</td>\n",
       "      <td>0.0</td>\n",
       "      <td>0.0</td>\n",
       "      <td>0.0</td>\n",
       "      <td>0.0</td>\n",
       "      <td>0.0</td>\n",
       "      <td>0</td>\n",
       "    </tr>\n",
       "    <tr>\n",
       "      <th>1998-01-19</th>\n",
       "      <td>0.0</td>\n",
       "      <td>0.0</td>\n",
       "      <td>0.0</td>\n",
       "      <td>0.0</td>\n",
       "      <td>0.0</td>\n",
       "      <td>0.0</td>\n",
       "      <td>0.0</td>\n",
       "      <td>0.0</td>\n",
       "      <td>0.0</td>\n",
       "      <td>0.0</td>\n",
       "      <td>...</td>\n",
       "      <td>0.0</td>\n",
       "      <td>0.0</td>\n",
       "      <td>0.0</td>\n",
       "      <td>0.0</td>\n",
       "      <td>0.0</td>\n",
       "      <td>0.0</td>\n",
       "      <td>0.0</td>\n",
       "      <td>0.0</td>\n",
       "      <td>0.0</td>\n",
       "      <td>0</td>\n",
       "    </tr>\n",
       "    <tr>\n",
       "      <th>1998-01-20</th>\n",
       "      <td>0.0</td>\n",
       "      <td>0.0</td>\n",
       "      <td>0.0</td>\n",
       "      <td>0.0</td>\n",
       "      <td>0.0</td>\n",
       "      <td>0.0</td>\n",
       "      <td>0.0</td>\n",
       "      <td>0.0</td>\n",
       "      <td>0.0</td>\n",
       "      <td>0.0</td>\n",
       "      <td>...</td>\n",
       "      <td>0.0</td>\n",
       "      <td>0.0</td>\n",
       "      <td>0.0</td>\n",
       "      <td>0.0</td>\n",
       "      <td>0.0</td>\n",
       "      <td>0.0</td>\n",
       "      <td>0.0</td>\n",
       "      <td>0.0</td>\n",
       "      <td>0.0</td>\n",
       "      <td>0</td>\n",
       "    </tr>\n",
       "  </tbody>\n",
       "</table>\n",
       "<p>10 rows × 29 columns</p>\n",
       "</div>"
      ],
      "text/plain": [
       "            Confluence: Fish Creek Confluence: Downstream Flow Volume  \\\n",
       "1998-01-11                                                0.0           \n",
       "1998-01-12                                                0.0           \n",
       "1998-01-13                                                0.0           \n",
       "1998-01-14                                                0.0           \n",
       "1998-01-15                                                0.0           \n",
       "1998-01-16                                                0.0           \n",
       "1998-01-17                                                0.0           \n",
       "1998-01-18                                                0.0           \n",
       "1998-01-19                                                0.0           \n",
       "1998-01-20                                                0.0           \n",
       "\n",
       "            Confluence: Shell Creek Confluence: Downstream Flow Volume  \\\n",
       "1998-01-11                                                0.0            \n",
       "1998-01-12                                                0.0            \n",
       "1998-01-13                                                0.0            \n",
       "1998-01-14                                                0.0            \n",
       "1998-01-15                                                0.0            \n",
       "1998-01-16                                                0.0            \n",
       "1998-01-17                                                0.0            \n",
       "1998-01-18                                                0.0            \n",
       "1998-01-19                                                0.0            \n",
       "1998-01-20                                                0.0            \n",
       "\n",
       "            Gauge: Evaluation Gauge: Downstream Flow Volume  \\\n",
       "1998-01-11                                              0.0   \n",
       "1998-01-12                                              0.0   \n",
       "1998-01-13                                              0.0   \n",
       "1998-01-14                                              0.0   \n",
       "1998-01-15                                              0.0   \n",
       "1998-01-16                                              0.0   \n",
       "1998-01-17                                              0.0   \n",
       "1998-01-18                                              0.0   \n",
       "1998-01-19                                              0.0   \n",
       "1998-01-20                                              0.0   \n",
       "\n",
       "            Gauge: Lower Gauge: Downstream Flow Volume  \\\n",
       "1998-01-11                                         0.0   \n",
       "1998-01-12                                         0.0   \n",
       "1998-01-13                                         0.0   \n",
       "1998-01-14                                         0.0   \n",
       "1998-01-15                                         0.0   \n",
       "1998-01-16                                         0.0   \n",
       "1998-01-17                                         0.0   \n",
       "1998-01-18                                         0.0   \n",
       "1998-01-19                                         0.0   \n",
       "1998-01-20                                         0.0   \n",
       "\n",
       "            Gauge: Middle Gauge: Downstream Flow Volume  \\\n",
       "1998-01-11                                          0.0   \n",
       "1998-01-12                                          0.0   \n",
       "1998-01-13                                          0.0   \n",
       "1998-01-14                                          0.0   \n",
       "1998-01-15                                          0.0   \n",
       "1998-01-16                                          0.0   \n",
       "1998-01-17                                          0.0   \n",
       "1998-01-18                                          0.0   \n",
       "1998-01-19                                          0.0   \n",
       "1998-01-20                                          0.0   \n",
       "\n",
       "            Inflow: Crab Creek: Downstream Flow Volume  \\\n",
       "1998-01-11                                         0.0   \n",
       "1998-01-12                                         0.0   \n",
       "1998-01-13                                         0.0   \n",
       "1998-01-14                                         0.0   \n",
       "1998-01-15                                         0.0   \n",
       "1998-01-16                                         0.0   \n",
       "1998-01-17                                         0.0   \n",
       "1998-01-18                                         0.0   \n",
       "1998-01-19                                         0.0   \n",
       "1998-01-20                                         0.0   \n",
       "\n",
       "            Inflow: Fish Creek: Downstream Flow Volume  \\\n",
       "1998-01-11                                         0.0   \n",
       "1998-01-12                                         0.0   \n",
       "1998-01-13                                         0.0   \n",
       "1998-01-14                                         0.0   \n",
       "1998-01-15                                         0.0   \n",
       "1998-01-16                                         0.0   \n",
       "1998-01-17                                         0.0   \n",
       "1998-01-18                                         0.0   \n",
       "1998-01-19                                         0.0   \n",
       "1998-01-20                                         0.0   \n",
       "\n",
       "            Inflow: Shell Creek: Downstream Flow Volume  \\\n",
       "1998-01-11                                          0.0   \n",
       "1998-01-12                                          0.0   \n",
       "1998-01-13                                          0.0   \n",
       "1998-01-14                                          0.0   \n",
       "1998-01-15                                          0.0   \n",
       "1998-01-16                                          0.0   \n",
       "1998-01-17                                          0.0   \n",
       "1998-01-18                                          0.0   \n",
       "1998-01-19                                          0.0   \n",
       "1998-01-20                                          0.0   \n",
       "\n",
       "            Lagged Flow Routing: Default Link #3: Downstream Flow Volume  \\\n",
       "1998-01-11                                                0.0              \n",
       "1998-01-12                                                0.0              \n",
       "1998-01-13                                                0.0              \n",
       "1998-01-14                                                0.0              \n",
       "1998-01-15                                                0.0              \n",
       "1998-01-16                                                0.0              \n",
       "1998-01-17                                                0.0              \n",
       "1998-01-18                                                0.0              \n",
       "1998-01-19                                                0.0              \n",
       "1998-01-20                                                0.0              \n",
       "\n",
       "            Minimum Flow Requirement: Lake Release: Downstream Flow Volume  \\\n",
       "1998-01-11                                                0.0                \n",
       "1998-01-12                                                0.0                \n",
       "1998-01-13                                                0.0                \n",
       "1998-01-14                                                0.0                \n",
       "1998-01-15                                                0.0                \n",
       "1998-01-16                                                0.0                \n",
       "1998-01-17                                                0.0                \n",
       "1998-01-18                                                0.0                \n",
       "1998-01-19                                                0.0                \n",
       "1998-01-20                                                0.0                \n",
       "\n",
       "                                 ...                         \\\n",
       "1998-01-11                       ...                          \n",
       "1998-01-12                       ...                          \n",
       "1998-01-13                       ...                          \n",
       "1998-01-14                       ...                          \n",
       "1998-01-15                       ...                          \n",
       "1998-01-16                       ...                          \n",
       "1998-01-17                       ...                          \n",
       "1998-01-18                       ...                          \n",
       "1998-01-19                       ...                          \n",
       "1998-01-20                       ...                          \n",
       "\n",
       "            Straight-Through Routing: Default Link #14: Downstream Flow Volume  \\\n",
       "1998-01-11                                                0.0                    \n",
       "1998-01-12                                                0.0                    \n",
       "1998-01-13                                                0.0                    \n",
       "1998-01-14                                                0.0                    \n",
       "1998-01-15                                                0.0                    \n",
       "1998-01-16                                                0.0                    \n",
       "1998-01-17                                                0.0                    \n",
       "1998-01-18                                                0.0                    \n",
       "1998-01-19                                                0.0                    \n",
       "1998-01-20                                                0.0                    \n",
       "\n",
       "            Straight-Through Routing: Default Link #15: Downstream Flow Volume  \\\n",
       "1998-01-11                                                0.0                    \n",
       "1998-01-12                                                0.0                    \n",
       "1998-01-13                                                0.0                    \n",
       "1998-01-14                                                0.0                    \n",
       "1998-01-15                                                0.0                    \n",
       "1998-01-16                                                0.0                    \n",
       "1998-01-17                                                0.0                    \n",
       "1998-01-18                                                0.0                    \n",
       "1998-01-19                                                0.0                    \n",
       "1998-01-20                                                0.0                    \n",
       "\n",
       "            Straight-Through Routing: Default Link #1: Downstream Flow Volume  \\\n",
       "1998-01-11                                                0.0                   \n",
       "1998-01-12                                                0.0                   \n",
       "1998-01-13                                                0.0                   \n",
       "1998-01-14                                                0.0                   \n",
       "1998-01-15                                                0.0                   \n",
       "1998-01-16                                                0.0                   \n",
       "1998-01-17                                                0.0                   \n",
       "1998-01-18                                                0.0                   \n",
       "1998-01-19                                                0.0                   \n",
       "1998-01-20                                                0.0                   \n",
       "\n",
       "            Straight-Through Routing: Default Link #2: Downstream Flow Volume  \\\n",
       "1998-01-11                                                0.0                   \n",
       "1998-01-12                                                0.0                   \n",
       "1998-01-13                                                0.0                   \n",
       "1998-01-14                                                0.0                   \n",
       "1998-01-15                                                0.0                   \n",
       "1998-01-16                                                0.0                   \n",
       "1998-01-17                                                0.0                   \n",
       "1998-01-18                                                0.0                   \n",
       "1998-01-19                                                0.0                   \n",
       "1998-01-20                                                0.0                   \n",
       "\n",
       "            Straight-Through Routing: Default Link #4: Downstream Flow Volume  \\\n",
       "1998-01-11                                                0.0                   \n",
       "1998-01-12                                                0.0                   \n",
       "1998-01-13                                                0.0                   \n",
       "1998-01-14                                                0.0                   \n",
       "1998-01-15                                                0.0                   \n",
       "1998-01-16                                                0.0                   \n",
       "1998-01-17                                                0.0                   \n",
       "1998-01-18                                                0.0                   \n",
       "1998-01-19                                                0.0                   \n",
       "1998-01-20                                                0.0                   \n",
       "\n",
       "            Straight-Through Routing: Default Link #5: Downstream Flow Volume  \\\n",
       "1998-01-11                                                0.0                   \n",
       "1998-01-12                                                0.0                   \n",
       "1998-01-13                                                0.0                   \n",
       "1998-01-14                                                0.0                   \n",
       "1998-01-15                                                0.0                   \n",
       "1998-01-16                                                0.0                   \n",
       "1998-01-17                                                0.0                   \n",
       "1998-01-18                                                0.0                   \n",
       "1998-01-19                                                0.0                   \n",
       "1998-01-20                                                0.0                   \n",
       "\n",
       "            Straight-Through Routing: Default Link #6: Downstream Flow Volume  \\\n",
       "1998-01-11                                                0.0                   \n",
       "1998-01-12                                                0.0                   \n",
       "1998-01-13                                                0.0                   \n",
       "1998-01-14                                                0.0                   \n",
       "1998-01-15                                                0.0                   \n",
       "1998-01-16                                                0.0                   \n",
       "1998-01-17                                                0.0                   \n",
       "1998-01-18                                                0.0                   \n",
       "1998-01-19                                                0.0                   \n",
       "1998-01-20                                                0.0                   \n",
       "\n",
       "            Straight-Through Routing: Lake Outflow: Downstream Flow Volume  \\\n",
       "1998-01-11                                                0.0                \n",
       "1998-01-12                                                0.0                \n",
       "1998-01-13                                                0.0                \n",
       "1998-01-14                                                0.0                \n",
       "1998-01-15                                                0.0                \n",
       "1998-01-16                                                0.0                \n",
       "1998-01-17                                                0.0                \n",
       "1998-01-18                                                0.0                \n",
       "1998-01-19                                                0.0                \n",
       "1998-01-20                                                0.0                \n",
       "\n",
       "            Supply Point: Supply Point 13: Downstream Flow Volume  \\\n",
       "1998-01-11                                                0.0       \n",
       "1998-01-12                                                0.0       \n",
       "1998-01-13                                                0.0       \n",
       "1998-01-14                                                0.0       \n",
       "1998-01-15                                                0.0       \n",
       "1998-01-16                                                0.0       \n",
       "1998-01-17                                                0.0       \n",
       "1998-01-18                                                0.0       \n",
       "1998-01-19                                                0.0       \n",
       "1998-01-20                                                0.0       \n",
       "\n",
       "            Water User: Crop Fields: Downstream Flow Volume  \n",
       "1998-01-11                                                0  \n",
       "1998-01-12                                                0  \n",
       "1998-01-13                                                0  \n",
       "1998-01-14                                                0  \n",
       "1998-01-15                                                0  \n",
       "1998-01-16                                                0  \n",
       "1998-01-17                                                0  \n",
       "1998-01-18                                                0  \n",
       "1998-01-19                                                0  \n",
       "1998-01-20                                                0  \n",
       "\n",
       "[10 rows x 29 columns]"
      ]
     },
     "execution_count": 8,
     "metadata": {},
     "output_type": "execute_result"
    }
   ],
   "source": [
    "vs[0].run_model()\n",
    "vs[0].retrieve_multiple_time_series(criteria={'RecordingVariable':'Downstream Flow Volume'})[0:10]"
   ]
  },
  {
   "cell_type": "markdown",
   "metadata": {
    "collapsed": false,
    "scrolled": true
   },
   "source": [
    "You could run a model on each server using a for loop:"
   ]
  },
  {
   "cell_type": "code",
   "execution_count": 9,
   "metadata": {
    "collapsed": false
   },
   "outputs": [
    {
     "name": "stdout",
     "output_type": "stream",
     "text": [
      "Running on port 9880\n",
      "Running on port 9881\n",
      "Running on port 9882\n",
      "Running on port 9883\n",
      "All runs finished\n"
     ]
    }
   ],
   "source": [
    "for v in vs:\n",
    "    veneer.log('Running on port %d'%v.port)\n",
    "    v.run_model()\n",
    "print('All runs finished')"
   ]
  },
  {
   "cell_type": "markdown",
   "metadata": {
    "collapsed": true
   },
   "source": [
    "But that is a sequential run - One run won't start until the previous run has finished.\n",
    "\n",
    "The `async` option on `v.run_model` will trigger the run on the server and then allow Python to continue:\n"
   ]
  },
  {
   "cell_type": "code",
   "execution_count": 10,
   "metadata": {
    "collapsed": false
   },
   "outputs": [
    {
     "name": "stdout",
     "output_type": "stream",
     "text": [
      "Running on port 9880\n",
      "Running on port 9881\n",
      "Running on port 9882\n",
      "Running on port 9883\n",
      "All runs started... But when will they finish? And how will we know?\n"
     ]
    }
   ],
   "source": [
    "for v in vs:\n",
    "    veneer.log('Running on port %d'%v.port)\n",
    "    v.run_model(async=True)\n",
    "print('All runs started... But when will they finish? And how will we know?')"
   ]
  },
  {
   "cell_type": "markdown",
   "metadata": {},
   "source": [
    "The above code block flies through quickly, because it doesn't wait for the simulation to finish. But how will we know when the run has finished, so that we can continue our script?\n",
    "\n",
    "When run with `async=True`, `v.run_model` returns a HTTP connection object, that can be queried for the success code of the run. We can use this to block for a particular run to finish. Assuming we don't want to do anything else in our script until ALL runs are finished, this is a good approach:"
   ]
  },
  {
   "cell_type": "code",
   "execution_count": 11,
   "metadata": {
    "collapsed": false
   },
   "outputs": [
    {
     "name": "stdout",
     "output_type": "stream",
     "text": [
      "Running on port 9880\n",
      "Running on port 9881\n",
      "Running on port 9882\n",
      "Running on port 9883\n",
      "All runs started... Now we'll wait when until they finish\n",
      "Run finished on port 9880. Returned a HTTP 302 code\n",
      "Run finished on port 9881. Returned a HTTP 302 code\n",
      "Run finished on port 9882. Returned a HTTP 302 code\n",
      "Run finished on port 9883. Returned a HTTP 302 code\n"
     ]
    }
   ],
   "source": [
    "responses = []\n",
    "for v in vs:\n",
    "    veneer.log('Running on port %d'%v.port)\n",
    "    responses.append(v.run_model(async=True))\n",
    "\n",
    "veneer.log(\"All runs started... Now we'll wait when until they finish\")\n",
    "\n",
    "for r,v in zip(responses,vs):\n",
    "    code = r.getresponse().getcode()\n",
    "    veneer.log('Run finished on port %d. Returned a HTTP %d code'%(v.port,code))"
   ]
  },
  {
   "cell_type": "markdown",
   "metadata": {},
   "source": [
    "You can use this the `async` approach to run multiple, parallel simulations, from a notebook.\n",
    "\n",
    "An alternate use of the Veneer command line is to use an external program to trigger the runs on each of the servers."
   ]
  },
  {
   "cell_type": "markdown",
   "metadata": {},
   "source": [
    "## Using PEST with Veneer\n",
    "\n",
    "[PEST](http://www.pesthomepage.org/) is a model independent tool for parameterising models and for uncertainty analysis.\n",
    "\n",
    "To proceed, download PEST and unzip it to a location on your system.\n",
    "\n",
    "We will switch to a catchments model in order to perform rainfall runoff calibration"
   ]
  },
  {
   "cell_type": "code",
   "execution_count": 12,
   "metadata": {
    "collapsed": true
   },
   "outputs": [],
   "source": [
    "catchment_project='ExampleProject/CalibrationExample.rsproj'"
   ]
  },
  {
   "cell_type": "code",
   "execution_count": 13,
   "metadata": {
    "collapsed": false
   },
   "outputs": [
    {
     "name": "stdout",
     "output_type": "stream",
     "text": [
      "Starting D:\\src\\projects\\Veneer\\Compiled\\Source 4.1.0.4334 (public version) FULL\\FlowMatters.Source.VeneerCmd.exe -p 9885 -r -s  D:\\src\\projects\\veneer-py\\doc\\training\\ExampleProject\\CalibrationExample.rsproj\n",
      "Starting D:\\src\\projects\\Veneer\\Compiled\\Source 4.1.0.4334 (public version) FULL\\FlowMatters.Source.VeneerCmd.exe -p 9886 -r -s  D:\\src\\projects\\veneer-py\\doc\\training\\ExampleProject\\CalibrationExample.rsproj\n",
      "Starting D:\\src\\projects\\Veneer\\Compiled\\Source 4.1.0.4334 (public version) FULL\\FlowMatters.Source.VeneerCmd.exe -p 9887 -r -s  D:\\src\\projects\\veneer-py\\doc\\training\\ExampleProject\\CalibrationExample.rsproj\n",
      "Starting D:\\src\\projects\\Veneer\\Compiled\\Source 4.1.0.4334 (public version) FULL\\FlowMatters.Source.VeneerCmd.exe -p 9888 -r -s  D:\\src\\projects\\veneer-py\\doc\\training\\ExampleProject\\CalibrationExample.rsproj\n",
      "[2] Loading plugins\n",
      "\n",
      "[3] Loading plugins\n",
      "\n",
      "[0] Loading plugins\n",
      "\n",
      "[1] Loading plugins\n",
      "\n",
      "[1] Loaded D:\\src\\projects\\Veneer\\Compiled\\Source 4.1.0.4334 (public version)\\FlowMatters.Source.Veneer.dll\n",
      "\n",
      "[1] Loaded C:\\Program Files\\eWater\\Source 4.1.0.4334 (public version)\\Plugins\\RiverSystem.Plugins.PerfectGWLag.dll\n",
      "\n",
      "[1] Loaded D:\\src\\projects\\ACARP\\catchmentsalinity\\Compiled\\Source 4.1.0.4334 (public version)\\CatchmentSalinity.dll\n",
      "\n",
      "[1] Plugins loaded (3/3)\n",
      "\n",
      "[2] Loaded D:\\src\\projects\\Veneer\\Compiled\\Source 4.1.0.4334 (public version)\\FlowMatters.Source.Veneer.dll\n",
      "\n",
      "[2] Loaded C:\\Program Files\\eWater\\Source 4.1.0.4334 (public version)\\Plugins\\RiverSystem.Plugins.PerfectGWLag.dll\n",
      "\n",
      "[2] Loaded D:\\src\\projects\\ACARP\\catchmentsalinity\\Compiled\\Source 4.1.0.4334 (public version)\\CatchmentSalinity.dll\n",
      "\n",
      "[2] Plugins loaded (3/3)\n",
      "\n",
      "[3] Loaded D:\\src\\projects\\Veneer\\Compiled\\Source 4.1.0.4334 (public version)\\FlowMatters.Source.Veneer.dll\n",
      "\n",
      "[3] Loaded C:\\Program Files\\eWater\\Source 4.1.0.4334 (public version)\\Plugins\\RiverSystem.Plugins.PerfectGWLag.dll\n",
      "\n",
      "[3] Loaded D:\\src\\projects\\ACARP\\catchmentsalinity\\Compiled\\Source 4.1.0.4334 (public version)\\CatchmentSalinity.dll\n",
      "\n",
      "[3] Plugins loaded (3/3)\n",
      "\n",
      "[0] Loaded D:\\src\\projects\\Veneer\\Compiled\\Source 4.1.0.4334 (public version)\\FlowMatters.Source.Veneer.dll\n",
      "\n",
      "[0] Loaded C:\\Program Files\\eWater\\Source 4.1.0.4334 (public version)\\Plugins\\RiverSystem.Plugins.PerfectGWLag.dll\n",
      "\n",
      "[0] Loaded D:\\src\\projects\\ACARP\\catchmentsalinity\\Compiled\\Source 4.1.0.4334 (public version)\\CatchmentSalinity.dll\n",
      "\n",
      "[0] Plugins loaded (3/3)\n",
      "\n",
      "[3] Opening project file: D:\\src\\projects\\veneer-py\\doc\\training\\ExampleProject\\CalibrationExample.rsproj\n",
      "\n",
      "[0] Opening project file: D:\\src\\projects\\veneer-py\\doc\\training\\ExampleProject\\CalibrationExample.rsproj\n",
      "\n",
      "[1] Opening project file: D:\\src\\projects\\veneer-py\\doc\\training\\ExampleProject\\CalibrationExample.rsproj\n",
      "\n",
      "[2] Opening project file: D:\\src\\projects\\veneer-py\\doc\\training\\ExampleProject\\CalibrationExample.rsproj\n",
      "\n",
      "ERROR[0] log4net:ERROR Failed to find configuration section 'log4net' in the application's .config file. Check your .config file for the <log4net> and <configSections> elements. The configuration section should look like: <section name=\"log4net\" type=\"log4net.Config.Log4NetConfigurationSectionHandler,log4net\" />\n",
      "\n",
      "ERROR[1] log4net:ERROR Failed to find configuration section 'log4net' in the application's .config file. Check your .config file for the <log4net> and <configSections> elements. The configuration section should look like: <section name=\"log4net\" type=\"log4net.Config.Log4NetConfigurationSectionHandler,log4net\" />\n",
      "\n",
      "ERROR[2] log4net:ERROR Failed to find configuration section 'log4net' in the application's .config file. Check your .config file for the <log4net> and <configSections> elements. The configuration section should look like: <section name=\"log4net\" type=\"log4net.Config.Log4NetConfigurationSectionHandler,log4net\" />\n",
      "\n",
      "ERROR[3] log4net:ERROR Failed to find configuration section 'log4net' in the application's .config file. Check your .config file for the <log4net> and <configSections> elements. The configuration section should look like: <section name=\"log4net\" type=\"log4net.Config.Log4NetConfigurationSectionHandler,log4net\" />\n",
      "\n",
      "[3] Loading project\n",
      "\n",
      "[0] Loading project\n",
      "\n",
      "[1] Loading project\n",
      "\n",
      "[2] Loading project\n",
      "\n",
      "[1] Project Loaded\n",
      "\n",
      "[1] New Project\n",
      "\n",
      "[1] Scenario 1\n",
      "\n",
      "[3] Project Loaded\n",
      "\n",
      "[3] New Project\n",
      "\n",
      "[3] Scenario 1\n",
      "\n",
      "[0] Project Loaded\n",
      "\n",
      "[0] New Project\n",
      "\n",
      "[0] Scenario 1\n",
      "\n",
      "[1] [11:44:27 AM] Veneer, by Flow Matters: http://www.flowmatters.com.au\n",
      "\n",
      "[1] [11:44:27 AM] Started Source RESTful Service on port:9886\n",
      "\n",
      "Server 1 on port 9886 is ready\n",
      "[1] Server started. Ctrl-C to exit, or POST /shutdown command\n",
      "\n",
      "[2] Project Loaded\n",
      "\n",
      "[2] New Project\n",
      "\n",
      "[2] Scenario 1\n",
      "\n",
      "[3] [11:44:27 AM] Veneer, by Flow Matters: http://www.flowmatters.com.au\n",
      "\n",
      "[3] [11:44:27 AM] Started Source RESTful Service on port:9888\n",
      "\n",
      "Server 3 on port 9888 is ready\n",
      "[3] Server started. Ctrl-C to exit, or POST /shutdown command\n",
      "\n",
      "[0] [11:44:27 AM] Veneer, by Flow Matters: http://www.flowmatters.com.au\n",
      "\n",
      "[0] [11:44:27 AM] Started Source RESTful Service on port:9885\n",
      "\n",
      "Server 0 on port 9885 is ready\n",
      "[0] Server started. Ctrl-C to exit, or POST /shutdown command\n",
      "\n",
      "[2] [11:44:27 AM] Veneer, by Flow Matters: http://www.flowmatters.com.au\n",
      "\n",
      "[2] [11:44:27 AM] Started Source RESTful Service on port:9887\n",
      "\n",
      "Server 2 on port 9887 is ready\n",
      "[2] Server started. Ctrl-C to exit, or POST /shutdown command\n",
      "\n"
     ]
    },
    {
     "data": {
      "text/plain": [
       "([<subprocess.Popen at 0xa2125f8>,\n",
       "  <subprocess.Popen at 0xa212048>,\n",
       "  <subprocess.Popen at 0xa212ba8>,\n",
       "  <subprocess.Popen at 0xa212208>],\n",
       " [9885, 9886, 9887, 9888])"
      ]
     },
     "execution_count": 13,
     "metadata": {},
     "output_type": "execute_result"
    }
   ],
   "source": [
    "num_copies=4\n",
    "first_port=9885\n",
    "start(catchment_project,n_instances=num_copies,ports=first_port,debug=True,veneer_exe=veneer_exe)"
   ]
  },
  {
   "cell_type": "code",
   "execution_count": 14,
   "metadata": {
    "collapsed": false
   },
   "outputs": [
    {
     "data": {
      "text/plain": [
       "[9885, 9886, 9887, 9888]"
      ]
     },
     "execution_count": 14,
     "metadata": {},
     "output_type": "execute_result"
    }
   ],
   "source": [
    "all_ports = list(range(first_port,first_port+num_copies))\n",
    "all_ports"
   ]
  },
  {
   "cell_type": "code",
   "execution_count": 15,
   "metadata": {
    "collapsed": true
   },
   "outputs": [],
   "source": [
    "vs = [veneer.Veneer(port=p) for p in all_ports]"
   ]
  },
  {
   "cell_type": "markdown",
   "metadata": {},
   "source": [
    "If you have the `geopandas` package installed, we can visualise the network to see what we're dealling with. (Alternatively, open the project file in the Source application to see the network)"
   ]
  },
  {
   "cell_type": "code",
   "execution_count": 16,
   "metadata": {
    "collapsed": false
   },
   "outputs": [
    {
     "data": {
      "text/plain": [
       "<matplotlib.axes._subplots.AxesSubplot at 0x8611ac8>"
      ]
     },
     "execution_count": 16,
     "metadata": {},
     "output_type": "execute_result"
    },
    {
     "data": {
      "image/png": "[encoded data removed]",
      "text/plain": [
       "<matplotlib.figure.Figure at 0x860ab70>"
      ]
     },
     "metadata": {},
     "output_type": "display_data"
    }
   ],
   "source": [
    "%matplotlib inline\n",
    "v = vs[0]\n",
    "v.network().as_dataframe().plot()"
   ]
  },
  {
   "cell_type": "code",
   "execution_count": null,
   "metadata": {
    "collapsed": true
   },
   "outputs": [],
   "source": []
  },
  {
   "cell_type": "code",
   "execution_count": null,
   "metadata": {
    "collapsed": true
   },
   "outputs": [],
   "source": []
  },
  {
   "cell_type": "markdown",
   "metadata": {},
   "source": [
    "## Describing the PEST 'Job'\n",
    "\n",
    "When configuring PEST to work with a particular model, you 'teach' PEST how to communicate with the model by describing the format of one or more text input files expected by the model and one or more text output files produced by the model. PEST will then generate updated input files for each simulation and read the updated output files that result from the simulation.\n",
    "\n",
    "veneer-py has some basic functionality for setting up PEST runs that avoids the need to directly edit the PEST configuration files.\n",
    "\n",
    "With veneer-py, you can describe a PEST job in Python, including describing the Source model parameters that you want to calibrate and the outputs that you want to calibrate against.\n",
    "\n",
    "veneer-py will then write out the following PEST configuration files and invoke PEST:\n",
    "\n",
    "* **PTF:** A PEST Template File, which describes how to run the model, including setting relevant model parameters and ensuring that the required model outputs are produced. PEST will substitute model parameters into this file, based on the configuration in the PCF. In the case of veneer-py, the PTF is a template of a Python script, which uses veneer-py to connect to a Source/Veneer server, sets parameters, runs the model and then compares results using defined statistics.\n",
    "* **PIF:** A PEST Instruction File, which tells PEST where to find the observations that it needs for evaluating a simulation. In the case of veneer-py, these outputs are produced by the logic in the PTF.\n",
    "* **PCF:** A PEST Control File, which desribes the parameters to be optimised and the observations to optimise to, as well as how to run the model.\n",
    "* **PRF:** (OPTIONAL), used when performing a parallel calibration with more than one Veneer/Source server. Describes where (on the filesystem) to run the model from.\n",
    "\n",
    "To establish all these files and run a PEST job, you can use functionality in veneer-py to describe a PEST 'Case'.\n",
    "\n",
    "The 'Case' will ultimately know everything about the calibration\n",
    "\n",
    "* what parameters you are calibrating and how they are constrained,\n",
    "* what you are calibrating to,\n",
    "* how many Source servers you have at your disposal\n",
    "* any options related to PEST, such as which optimisation routine to use"
   ]
  },
  {
   "cell_type": "code",
   "execution_count": 17,
   "metadata": {
    "collapsed": true
   },
   "outputs": [],
   "source": [
    "from veneer.pest import Case"
   ]
  },
  {
   "cell_type": "markdown",
   "metadata": {},
   "source": [
    "At very least, we need to give a Case a `name` - which is the basis for all the filenames that will be written out.\n",
    "\n",
    "You can also specify:\n",
    "\n",
    "* an optimiser (the default is `pest`, but the PEST software also comes several others)\n",
    "* a list of Veneer/Source servers, described as a list of ports\n",
    "* a random number seed in order to either make the optimisation deterministic or allow random variation\n"
   ]
  },
  {
   "cell_type": "code",
   "execution_count": 18,
   "metadata": {
    "collapsed": true
   },
   "outputs": [],
   "source": [
    "calibration = Case('CalibrationCase',optimiser='cmaes_p',model_servers=all_ports)"
   ]
  },
  {
   "cell_type": "markdown",
   "metadata": {},
   "source": [
    "PEST has many options - most of which we leave at default. One option that we currently need is to put PEST into single precision mode. This is because PEST, in double precision mode, uses a syntax for floating point literals that is not valid Python:"
   ]
  },
  {
   "cell_type": "code",
   "execution_count": 19,
   "metadata": {
    "collapsed": false
   },
   "outputs": [],
   "source": [
    "calibration.options['PRECIS']='single' "
   ]
  },
  {
   "cell_type": "markdown",
   "metadata": {},
   "source": [
    "### Configuring the calibration parameters\n",
    "\n",
    "PEST needs to be told about the calibration parameters\n",
    "\n",
    "This is a two step process:\n",
    "* Specify how to apply the parameter (using a statement as you would in Veneer. eg `model.catchment.runoff.set_param_values('baseflowCoefficient',0.5,fus=list(fu_types))` but with the actual value (`0.5`) changed to the PEST parameter name, with markers (eg `@v_bfCoeff@`). This information forms part of a dynamically generated Python script that PEST will modify and run for each simulation\n",
    "* Tell PEST about the parameter, including its range.\n",
    "  * This forms part of the PEST control file\n",
    "  * In addition to the range, we also specify the initial value.\n",
    "  * We take the initial value from the parameters set above, unless that values is close to the lower or upper bound. In that case, we change the initial value to be halfway between the min and max - to prevent PEST getting 'stuck'\n",
    "\n",
    "\n",
    "We're performing a rainfall runoff calibration, with GR4J used in the model\n",
    "\n",
    "We're going to perform a lumped calibration - ie one parameter set everywhere - but we could, alternatively, calibrate distinct parameters by functional unit type, or similar."
   ]
  },
  {
   "cell_type": "code",
   "execution_count": 20,
   "metadata": {
    "collapsed": false
   },
   "outputs": [
    {
     "data": {
      "text/plain": [
       "['TIME.Models.RainfallRunoff.GR4J.GR4J']"
      ]
     },
     "execution_count": 20,
     "metadata": {},
     "output_type": "execute_result"
    }
   ],
   "source": [
    "v.model.find_model_type('GR4J')"
   ]
  },
  {
   "cell_type": "code",
   "execution_count": 21,
   "metadata": {
    "collapsed": false
   },
   "outputs": [
    {
     "data": {
      "text/plain": [
       "['C', 'k', 'x1', 'x2', 'x3', 'x4']"
      ]
     },
     "execution_count": 21,
     "metadata": {},
     "output_type": "execute_result"
    }
   ],
   "source": [
    "params = v.model.find_parameters('TIME.Models.RainfallRunoff.GR4J.GR4J')\n",
    "params"
   ]
  },
  {
   "cell_type": "markdown",
   "metadata": {
    "collapsed": true
   },
   "source": [
    "We only want to calibrate `x1`-`x4` - (`C` and `k` are specific to the eWater version of GR4J - they provide a baseflow filter)"
   ]
  },
  {
   "cell_type": "code",
   "execution_count": 22,
   "metadata": {
    "collapsed": false
   },
   "outputs": [
    {
     "data": {
      "text/plain": [
       "['x1', 'x2', 'x3', 'x4']"
      ]
     },
     "execution_count": 22,
     "metadata": {},
     "output_type": "execute_result"
    }
   ],
   "source": [
    "params = params[2:]\n",
    "params"
   ]
  },
  {
   "cell_type": "markdown",
   "metadata": {},
   "source": [
    "We need to assign ranges to each of these. The model implementation in Source has metadata about suitable ranges - but at this stage, there isn't an easy way to interrogate that information from veneer-py. You can check in the Source user interface (`Edit|Rainfall Runoff Models`) to see the ranges.\n",
    "\n",
    "Having done that, we'll construct a Python dictionary of parameter ranges"
   ]
  },
  {
   "cell_type": "code",
   "execution_count": 23,
   "metadata": {
    "collapsed": false
   },
   "outputs": [
    {
     "data": {
      "text/plain": [
       "{'x1': [1.0, 1500.0], 'x2': [-10.0, 5.0], 'x3': [1.0, 500.0], 'x4': [0.5, 4.0]}"
      ]
     },
     "execution_count": 23,
     "metadata": {},
     "output_type": "execute_result"
    }
   ],
   "source": [
    "ranges = {\n",
    "    'x1':[1.0,1500.0],\n",
    "    'x2':[-10.0,5.0],\n",
    "    'x3':[1.0,500.0],\n",
    "    'x4':[0.5,4.0]\n",
    "}\n",
    "ranges"
   ]
  },
  {
   "cell_type": "markdown",
   "metadata": {},
   "source": [
    "Now, we can loop over each parameter and 'teach' PEST about it - ie tell PEST how to modify the parameter and tell PEST what range we want to calibrate over:"
   ]
  },
  {
   "cell_type": "code",
   "execution_count": 24,
   "metadata": {
    "collapsed": false
   },
   "outputs": [
    {
     "name": "stdout",
     "output_type": "stream",
     "text": [
      "Configuring x2\n",
      "Configuring x4\n",
      "Configuring x1\n",
      "Configuring x3\n"
     ]
    }
   ],
   "source": [
    "for param,param_range in ranges.items():\n",
    "    print('Configuring %s'%param)\n",
    "\n",
    "    pest_pname = '$'+param+'$'\n",
    "\n",
    "    # 1. Tell PEST how to set the parameter\n",
    "    calibration.parameters.model.catchment.runoff.set_param_values(param,pest_pname)\n",
    "\n",
    "    # 2. Details of the PEST parameter. name, starting value, min, max\n",
    "\n",
    "    # Decide what to use for the initial value... half way between min and max!\n",
    "    initial = 0.5*(param_range[0]+param_range[1])\n",
    "    \n",
    "    calibration.parameters.describe(pest_pname,initial,param_range[0],param_range[1])"
   ]
  },
  {
   "cell_type": "markdown",
   "metadata": {},
   "source": [
    "**Note:** When we tell PEST how to set the parameter in the model, we use a Python statement that looks similar to statements from earlier sessions:\n",
    "```python\n",
    "calibration.parameters.model.catchment.runoff.set_param_values(param,pest_pname)\n",
    "# is similar to\n",
    "v.model.catchment.runoff.set_param_values(param,value)\n",
    "```\n",
    "The instructions to PEST will in fact translate to instructions to a Veneer client (`v`). So everything after `.parameter.` should be something you can call on a Veneer client. The other main difference is that, instead of passing in an actual value at this point, you pass `pest_pname`, which will be something like `$x1$` and will get translated to an actual value at runtime.\n"
   ]
  },
  {
   "cell_type": "markdown",
   "metadata": {},
   "source": [
    "The previous code has gone some way towards configuring the PEST job. We can get a preview of what has been achieved by asking to see the configuration as it stands.\n",
    "\n",
    "First, the state of the PTF (PEST Template File). You can see that it looks very much like a Python script, except where it has references to things like `$x1$` and the like"
   ]
  },
  {
   "cell_type": "code",
   "execution_count": 25,
   "metadata": {
    "collapsed": false
   },
   "outputs": [
    {
     "name": "stdout",
     "output_type": "stream",
     "text": [
      "ptf $\n",
      "from veneer.pest_runtime import *\n",
      "from veneer import Veneer\n",
      "from veneer.stats import * \n",
      "import pandas as pd\n",
      "from veneer import general\n",
      "\n",
      "general.PRINT_URLS=False\n",
      "veneer_port=find_port()\n",
      "v = Veneer(port=veneer_port)\n",
      "v.model.catchment.runoff.set_param_values('x2',$x2$)\n",
      "v.model.catchment.runoff.set_param_values('x4',$x4$)\n",
      "v.model.catchment.runoff.set_param_values('x1',$x1$)\n",
      "v.model.catchment.runoff.set_param_values('x3',$x3$)\n",
      "# Run Model\n",
      "v.drop_all_runs()\n",
      "v.run_model(**{})\n",
      "\n",
      "observed_ts={}\n",
      "pest_observations=[]\n",
      "\n",
      "# Get results\n",
      "run_results = v.retrieve_run()\n",
      "\n",
      "# Compute stats\n",
      "\n",
      "\n",
      "\n",
      "# Write summary results\n",
      "print(pest_observations)\n",
      "write_outputs(pest_observations,'_CalibrationCase_output.txt')\n",
      "write_outputs(pest_observations,'__outputs_to_keep.txt')\n",
      "\n"
     ]
    }
   ],
   "source": [
    "print(calibration.ptf_text())"
   ]
  },
  {
   "cell_type": "markdown",
   "metadata": {},
   "source": [
    "There are still gaps in the PTF - eg the `# Compute Stats` section - that will come as we describe the outputs and observations.\n",
    "\n",
    "The PCF (PEST Control File) is also partly complete:"
   ]
  },
  {
   "cell_type": "code",
   "execution_count": 26,
   "metadata": {
    "collapsed": false
   },
   "outputs": [
    {
     "name": "stdout",
     "output_type": "stream",
     "text": [
      "pcf\n",
      "* control data\n",
      "restart estimation\n",
      "4 0 1 0 1  \n",
      "1 1 single point    \n",
      "10.0 2.0 0.3 0.03 8   \n",
      "10.0 10.0 0.001   \n",
      "0.1     \n",
      "50 0.005 4 4 0.005 4   \n",
      "1 1 1       \n",
      "* singular value decomposition\n",
      "1\n",
      "4 5e-07\n",
      "0\n",
      "* parameter groups\n",
      "default_pg relative 0.01 0.001 switch 1.5 parabolic   \n",
      "* parameter data\n",
      "x2 none factor -2.5 -10.0 5.0 default_pg 1.0 0.0 1\n",
      "x4 none factor 2.25 0.5 4.0 default_pg 1.0 0.0 1\n",
      "x1 none factor 750.5 1.0 1500.0 default_pg 1.0 0.0 1\n",
      "x3 none factor 250.5 1.0 500.0 default_pg 1.0 0.0 1 \n",
      "* observation groups\n",
      "default_og  \n",
      "* observation data\n",
      "\n",
      "* model command line\n",
      "python _run_CalibrationCase.py\n",
      "* model input/output\n",
      "_run_CalibrationCase.tpl _run_CalibrationCase.py\n",
      "_CalibrationCase_output.ins _CalibrationCase_output.txt\n",
      "\n"
     ]
    }
   ],
   "source": [
    "print(calibration.pcf_text())"
   ]
  },
  {
   "cell_type": "markdown",
   "metadata": {},
   "source": [
    "**Note:** There are a lot of options in the PCF - and we are using defaults. They are very well described in the PEST Manual and can be specified using `calibration.options`"
   ]
  },
  {
   "cell_type": "code",
   "execution_count": 27,
   "metadata": {
    "collapsed": false
   },
   "outputs": [
    {
     "data": {
      "text/plain": [
       "OrderedDict([('NPAR', None), ('NOBS', None), ('NPARGP', 1), ('NPRIOR', 0), ('NOBSGP', 1), ('MAXCOMPDIM', ''), ('DERZEROLIM', ''), ('NTPLFLE', None), ('NINSFLE', None), ('PRECIS', 'single'), ('DPOINT', 'point'), ('NUMCOM', ''), ('JACFILE', ''), ('MESSFILE', ''), ('OBSREREF', ''), ('RLAMBDA1', 10.0), ('RLAMFAC', 2.0), ('PHIRATSUF', 0.3), ('PHIREDLAM', 0.03), ('NUMLAM', 8), ('JACUPDATE', ''), ('LAMFORGIVE', ''), ('DERFORGIVE', ''), ('RELPARMAX', 10.0), ('FACPARMAX', 10.0), ('FACORIG', 0.001), ('IBOUNDSTICK', ''), ('UPVECBEND', ''), ('ABSPARMAX', ''), ('PHIREDSWH', 0.1), ('NOPTSWITCH', ''), ('SPLITSWH', ''), ('DOAUI', ''), ('DOSENREUSE', ''), ('BOUNDSCALE', ''), ('NOPTMAX', 50), ('PHIREDSTP', 0.005), ('NPHISTP', 4), ('NPHINORED', 4), ('RELPARSTP', 0.005), ('NRELPAR', 4), ('PHISTOPTHRESH', ''), ('LASTRUN', ''), ('PHIABANDON', ''), ('ICOV', 1), ('ICOR', 1), ('IEIG', 1), ('IRES', ''), ('JCOSAVE', ''), ('VERBOSEREC', ''), ('JCOSAVEITN', ''), ('REISAVEITN', ''), ('PARSAVEITN', ''), ('PARSAVERUN', ''), ('SVDMODE', 1), ('MAXSING', None), ('EIGTHRESH', 5e-07), ('EIGWRITE', 0), ('SIM_OPTIONS', {})])"
      ]
     },
     "execution_count": 27,
     "metadata": {},
     "output_type": "execute_result"
    }
   ],
   "source": [
    "calibration.options"
   ]
  },
  {
   "cell_type": "markdown",
   "metadata": {},
   "source": [
    "### Configuring the outputs and observations\n",
    "\n",
    "PEST needs to know what its calibrating too. In our case, that means a time series of observed data, and a corresponding modelled time series. We also need the objective function and the time period for the calibration.\n",
    "\n",
    "PEST has a tool for processing time series data (TSPROC) but we don't use it here. Rather, we compute the objective values in Python and just pass single numbers back to PEST.\n",
    "\n",
    "We'll start by loading the observed flow time series data into this notebook and exploring the data a bit...\n",
    "\n",
    "**Note**: Loading the data at this point serves two purposes:\n",
    "1. We become more familiar with the data and can identify things like the time period we want to calibrate over, and\n",
    "2. We work out the exact `pandas` command needed to load the data. We need to give this command to PEST later on to call as part of the simulations..."
   ]
  },
  {
   "cell_type": "code",
   "execution_count": 28,
   "metadata": {
    "collapsed": false
   },
   "outputs": [
    {
     "data": {
      "text/html": [
       "<div>\n",
       "<table border=\"1\" class=\"dataframe\">\n",
       "  <thead>\n",
       "    <tr style=\"text-align: right;\">\n",
       "      <th></th>\n",
       "      <th>Flow</th>\n",
       "    </tr>\n",
       "    <tr>\n",
       "      <th>Date</th>\n",
       "      <th></th>\n",
       "    </tr>\n",
       "  </thead>\n",
       "  <tbody>\n",
       "    <tr>\n",
       "      <th>2007-01-01</th>\n",
       "      <td>0.000000</td>\n",
       "    </tr>\n",
       "    <tr>\n",
       "      <th>2007-02-20</th>\n",
       "      <td>0.000000</td>\n",
       "    </tr>\n",
       "    <tr>\n",
       "      <th>2007-04-11</th>\n",
       "      <td>2.437354</td>\n",
       "    </tr>\n",
       "    <tr>\n",
       "      <th>2007-05-31</th>\n",
       "      <td>23.732757</td>\n",
       "    </tr>\n",
       "    <tr>\n",
       "      <th>2007-07-20</th>\n",
       "      <td>99.520437</td>\n",
       "    </tr>\n",
       "    <tr>\n",
       "      <th>2007-09-08</th>\n",
       "      <td>725.071205</td>\n",
       "    </tr>\n",
       "    <tr>\n",
       "      <th>2007-10-28</th>\n",
       "      <td>4269.116910</td>\n",
       "    </tr>\n",
       "    <tr>\n",
       "      <th>2007-12-17</th>\n",
       "      <td>1362.268235</td>\n",
       "    </tr>\n",
       "    <tr>\n",
       "      <th>2008-02-05</th>\n",
       "      <td>2505.631788</td>\n",
       "    </tr>\n",
       "    <tr>\n",
       "      <th>2008-03-26</th>\n",
       "      <td>1651.694535</td>\n",
       "    </tr>\n",
       "    <tr>\n",
       "      <th>2008-05-15</th>\n",
       "      <td>780.081209</td>\n",
       "    </tr>\n",
       "    <tr>\n",
       "      <th>2008-07-04</th>\n",
       "      <td>1761.818354</td>\n",
       "    </tr>\n",
       "    <tr>\n",
       "      <th>2008-08-23</th>\n",
       "      <td>686.675873</td>\n",
       "    </tr>\n",
       "    <tr>\n",
       "      <th>2008-10-12</th>\n",
       "      <td>623.255883</td>\n",
       "    </tr>\n",
       "    <tr>\n",
       "      <th>2008-12-01</th>\n",
       "      <td>2078.554031</td>\n",
       "    </tr>\n",
       "    <tr>\n",
       "      <th>2009-01-20</th>\n",
       "      <td>3629.126050</td>\n",
       "    </tr>\n",
       "    <tr>\n",
       "      <th>2009-03-11</th>\n",
       "      <td>566.766243</td>\n",
       "    </tr>\n",
       "    <tr>\n",
       "      <th>2009-04-30</th>\n",
       "      <td>294.469269</td>\n",
       "    </tr>\n",
       "    <tr>\n",
       "      <th>2009-06-19</th>\n",
       "      <td>814.728798</td>\n",
       "    </tr>\n",
       "    <tr>\n",
       "      <th>2009-08-08</th>\n",
       "      <td>651.456469</td>\n",
       "    </tr>\n",
       "    <tr>\n",
       "      <th>2009-09-27</th>\n",
       "      <td>5476.375714</td>\n",
       "    </tr>\n",
       "    <tr>\n",
       "      <th>2009-11-16</th>\n",
       "      <td>4600.044979</td>\n",
       "    </tr>\n",
       "    <tr>\n",
       "      <th>2010-01-05</th>\n",
       "      <td>2438.971826</td>\n",
       "    </tr>\n",
       "    <tr>\n",
       "      <th>2010-02-24</th>\n",
       "      <td>716.451445</td>\n",
       "    </tr>\n",
       "    <tr>\n",
       "      <th>2010-04-15</th>\n",
       "      <td>504.423523</td>\n",
       "    </tr>\n",
       "    <tr>\n",
       "      <th>2010-06-04</th>\n",
       "      <td>641.103540</td>\n",
       "    </tr>\n",
       "    <tr>\n",
       "      <th>2010-07-24</th>\n",
       "      <td>465.325582</td>\n",
       "    </tr>\n",
       "    <tr>\n",
       "      <th>2010-09-12</th>\n",
       "      <td>4499.009108</td>\n",
       "    </tr>\n",
       "    <tr>\n",
       "      <th>2010-11-01</th>\n",
       "      <td>2198.952928</td>\n",
       "    </tr>\n",
       "    <tr>\n",
       "      <th>2010-12-21</th>\n",
       "      <td>1617.833907</td>\n",
       "    </tr>\n",
       "  </tbody>\n",
       "</table>\n",
       "</div>"
      ],
      "text/plain": [
       "                   Flow\n",
       "Date                   \n",
       "2007-01-01     0.000000\n",
       "2007-02-20     0.000000\n",
       "2007-04-11     2.437354\n",
       "2007-05-31    23.732757\n",
       "2007-07-20    99.520437\n",
       "2007-09-08   725.071205\n",
       "2007-10-28  4269.116910\n",
       "2007-12-17  1362.268235\n",
       "2008-02-05  2505.631788\n",
       "2008-03-26  1651.694535\n",
       "2008-05-15   780.081209\n",
       "2008-07-04  1761.818354\n",
       "2008-08-23   686.675873\n",
       "2008-10-12   623.255883\n",
       "2008-12-01  2078.554031\n",
       "2009-01-20  3629.126050\n",
       "2009-03-11   566.766243\n",
       "2009-04-30   294.469269\n",
       "2009-06-19   814.728798\n",
       "2009-08-08   651.456469\n",
       "2009-09-27  5476.375714\n",
       "2009-11-16  4600.044979\n",
       "2010-01-05  2438.971826\n",
       "2010-02-24   716.451445\n",
       "2010-04-15   504.423523\n",
       "2010-06-04   641.103540\n",
       "2010-07-24   465.325582\n",
       "2010-09-12  4499.009108\n",
       "2010-11-01  2198.952928\n",
       "2010-12-21  1617.833907"
      ]
     },
     "execution_count": 28,
     "metadata": {},
     "output_type": "execute_result"
    }
   ],
   "source": [
    "import pandas as pd\n",
    "flows = pd.read_csv('SyntheticObservedFlow.csv',parse_dates=True,dayfirst=True,index_col=0)\n",
    "flows[0::50] # Show every fifty days"
   ]
  },
  {
   "cell_type": "code",
   "execution_count": 29,
   "metadata": {
    "collapsed": false
   },
   "outputs": [
    {
     "data": {
      "text/plain": [
       "<matplotlib.axes._subplots.AxesSubplot at 0x72acbe0>"
      ]
     },
     "execution_count": 29,
     "metadata": {},
     "output_type": "execute_result"
    },
    {
     "data": {
      "image/png": "[encoded data removed]",
      "text/plain": [
       "<matplotlib.figure.Figure at 0x731d278>"
      ]
     },
     "metadata": {},
     "output_type": "display_data"
    }
   ],
   "source": [
    "flows.plot()"
   ]
  },
  {
   "cell_type": "markdown",
   "metadata": {},
   "source": [
    "**Note:** If your observed data had gaps during your simulation period, this would be a good point to establish the overlapping period in order to inform the simulation/calibration dates.\n",
    "\n",
    "In our case, the data aligns with the simulation, so the simulation dates we want are just the start and end of the time series:"
   ]
  },
  {
   "cell_type": "code",
   "execution_count": 30,
   "metadata": {
    "collapsed": false
   },
   "outputs": [
    {
     "data": {
      "text/plain": [
       "(Timestamp('2007-01-01 00:00:00'), Timestamp('2010-12-31 00:00:00'))"
      ]
     },
     "execution_count": 30,
     "metadata": {},
     "output_type": "execute_result"
    }
   ],
   "source": [
    "start,end = flows.index[[0,-1]]\n",
    "start,end"
   ]
  },
  {
   "cell_type": "markdown",
   "metadata": {},
   "source": [
    "This (synthetic) observed flow sequence relates to the (synthetic) gauge towards the bottom of the system. What was it called?"
   ]
  },
  {
   "cell_type": "code",
   "execution_count": 31,
   "metadata": {
    "collapsed": false
   },
   "outputs": [
    {
     "data": {
      "text/plain": [
       "['G123456A',\n",
       " 'Generated node name #1',\n",
       " 'Generated node name #2',\n",
       " 'Generated node name #3',\n",
       " 'Generated node name #4',\n",
       " 'Generated node name #5',\n",
       " 'Generated node name #6',\n",
       " 'Generated node name #7',\n",
       " 'Generated node name #8',\n",
       " 'Generated node name #9',\n",
       " 'Generated node name #10',\n",
       " 'Generated node name #11',\n",
       " 'Generated node name #12',\n",
       " 'Generated node name #13',\n",
       " 'Generated node name #14',\n",
       " 'Generated node name #15',\n",
       " 'Generated node name #16',\n",
       " 'Generated node name #17',\n",
       " 'Generated node name #18',\n",
       " 'Generated node name #19',\n",
       " 'Generated node name #20',\n",
       " 'Generated node name #21',\n",
       " 'Generated node name #22',\n",
       " 'Generated node name #23',\n",
       " 'Generated node name #24',\n",
       " 'Generated node name #25',\n",
       " 'Generated node name #26',\n",
       " 'Generated node name #27',\n",
       " 'Generated node name #28']"
      ]
     },
     "execution_count": 31,
     "metadata": {},
     "output_type": "execute_result"
    }
   ],
   "source": [
    "network = v.network()\n",
    "nodes = network['features'].find_by_feature_type('node')\n",
    "nodes._all_values('name')"
   ]
  },
  {
   "cell_type": "markdown",
   "metadata": {},
   "source": [
    "Aaah, we want `'G123456A'`"
   ]
  },
  {
   "cell_type": "code",
   "execution_count": 32,
   "metadata": {
    "collapsed": true
   },
   "outputs": [],
   "source": [
    "calibration_node = 'G123456A'"
   ]
  },
  {
   "cell_type": "markdown",
   "metadata": {},
   "source": [
    "Now we can tell PEST about the observations and the comparison we want.\n",
    "\n",
    "We need to tell PEST how to load the observed data - and the pandas command we used to do a test load will help:\n",
    "\n",
    "```python\n",
    "pd.read_csv('SyntheticObservedFlow.csv',parse_dates=True,dayfirst=True,index_col=0)\n",
    "# will become\n",
    "calibration.observations.data.read_csv('SyntheticObservedFlow.csv',parse_dates=True,dayfirst=True,index_col=0)\n",
    "```\n"
   ]
  },
  {
   "cell_type": "code",
   "execution_count": 33,
   "metadata": {
    "collapsed": true
   },
   "outputs": [],
   "source": [
    "calibration.observations.data.read_csv('SyntheticObservedFlow.csv',parse_dates=True,dayfirst=True,index_col=0)"
   ]
  },
  {
   "cell_type": "markdown",
   "metadata": {},
   "source": [
    "And we can set up the comparison"
   ]
  },
  {
   "cell_type": "code",
   "execution_count": 34,
   "metadata": {
    "collapsed": true
   },
   "outputs": [],
   "source": [
    "comparison={'NetworkElement':calibration_node,'RecordingVariable':'Downstream Flow Volume'}"
   ]
  },
  {
   "cell_type": "markdown",
   "metadata": {},
   "source": [
    "veneer-py configures the observation based on the column name in the observed flow file (so that you can have multiple comparisons from different columns and files)"
   ]
  },
  {
   "cell_type": "code",
   "execution_count": 35,
   "metadata": {
    "collapsed": false
   },
   "outputs": [
    {
     "data": {
      "text/plain": [
       "Index(['Flow'], dtype='object')"
      ]
     },
     "execution_count": 35,
     "metadata": {},
     "output_type": "execute_result"
    }
   ],
   "source": [
    "flows.columns"
   ]
  },
  {
   "cell_type": "markdown",
   "metadata": {},
   "source": [
    "We also need to reference a stats function. You can write your own (but you'll need to store it in a `.py` file) or you can access one from `veneer.stats`"
   ]
  },
  {
   "cell_type": "code",
   "execution_count": 36,
   "metadata": {
    "collapsed": true
   },
   "outputs": [],
   "source": [
    "from veneer import stats"
   ]
  },
  {
   "cell_type": "code",
   "execution_count": 37,
   "metadata": {
    "collapsed": false
   },
   "outputs": [
    {
     "name": "stdout",
     "output_type": "stream",
     "text": [
      "Help on function nse in module veneer.stats:\n",
      "\n",
      "nse(obs, pred)\n",
      "    Nash-Sutcliffe Efficiency\n",
      "\n"
     ]
    }
   ],
   "source": [
    "help(stats.nse)"
   ]
  },
  {
   "cell_type": "code",
   "execution_count": 38,
   "metadata": {
    "collapsed": false
   },
   "outputs": [],
   "source": [
    "calibration.observations.compare('Flow',comparison,stat=stats.nse,aggregation='daily')"
   ]
  },
  {
   "cell_type": "markdown",
   "metadata": {},
   "source": [
    "We need to do one more thing: We need to make sure that each of our 4 servers is configured to record the output we require.\n",
    "\n",
    "We'll need to loop over each of our veneer clients and configure recording. We have `comparison` which describes what we want to record. We can disable all other outputs"
   ]
  },
  {
   "cell_type": "code",
   "execution_count": 39,
   "metadata": {
    "collapsed": false
   },
   "outputs": [
    {
     "name": "stdout",
     "output_type": "stream",
     "text": [
      "Configuring recording for server on port 9885\n",
      "Configuring recording for server on port 9886\n",
      "Configuring recording for server on port 9887\n",
      "Configuring recording for server on port 9888\n"
     ]
    }
   ],
   "source": [
    "for v in vs:\n",
    "    veneer.log('Configuring recording for server on port %d'%v.port)\n",
    "    v.configure_recording(enable=[comparison],disable=[{}])"
   ]
  },
  {
   "cell_type": "markdown",
   "metadata": {},
   "source": [
    "If we look at the content of the PEST config files now, we'll see more details filled in:"
   ]
  },
  {
   "cell_type": "code",
   "execution_count": 40,
   "metadata": {
    "collapsed": false
   },
   "outputs": [
    {
     "name": "stdout",
     "output_type": "stream",
     "text": [
      "ptf $\n",
      "from veneer.pest_runtime import *\n",
      "from veneer import Veneer\n",
      "from veneer.stats import * \n",
      "import pandas as pd\n",
      "from veneer import general\n",
      "\n",
      "general.PRINT_URLS=False\n",
      "veneer_port=find_port()\n",
      "v = Veneer(port=veneer_port)\n",
      "v.model.catchment.runoff.set_param_values('x2',$x2$)\n",
      "v.model.catchment.runoff.set_param_values('x4',$x4$)\n",
      "v.model.catchment.runoff.set_param_values('x1',$x1$)\n",
      "v.model.catchment.runoff.set_param_values('x3',$x3$)\n",
      "# Run Model\n",
      "v.drop_all_runs()\n",
      "v.run_model(**{})\n",
      "\n",
      "observed_ts={}\n",
      "pest_observations=[]\n",
      "\n",
      "# Get results\n",
      "run_results = v.retrieve_run()\n",
      "\n",
      "# Compute stats\n",
      "observed_ts.update(pd.read_csv('SyntheticObservedFlow.csv',dayfirst=True,index_col=0,parse_dates=True).dropna(how='all').to_dict('series'))\n",
      "mod_ts = v.retrieve_multiple_time_series(run_data=run_results,criteria={'RecordingVariable': 'Downstream Flow Volume', 'NetworkElement': 'G123456A'},timestep=\"daily\")\n",
      "print(mod_ts.columns)\n",
      "assert(len(mod_ts.columns==0))\n",
      "mod_ts = mod_ts[mod_ts.columns[0]]\n",
      "obs_ts = observed_ts[\"Flow\"].dropna()\n",
      "pest_observations.append((\"Flow\",1.000000-nse(obs_ts,mod_ts)))\n",
      "\n",
      "# Write summary results\n",
      "print(pest_observations)\n",
      "write_outputs(pest_observations,'_CalibrationCase_output.txt')\n",
      "write_outputs(pest_observations,'__outputs_to_keep.txt')\n",
      "\n"
     ]
    }
   ],
   "source": [
    "print(calibration.ptf_text())"
   ]
  },
  {
   "cell_type": "code",
   "execution_count": 41,
   "metadata": {
    "collapsed": false
   },
   "outputs": [
    {
     "name": "stdout",
     "output_type": "stream",
     "text": [
      "pif $\n",
      "$Flow$ !Flow!\n"
     ]
    }
   ],
   "source": [
    "print(calibration.pif_text())"
   ]
  },
  {
   "cell_type": "code",
   "execution_count": 42,
   "metadata": {
    "collapsed": false
   },
   "outputs": [
    {
     "name": "stdout",
     "output_type": "stream",
     "text": [
      "pcf\n",
      "* control data\n",
      "restart estimation\n",
      "4 1 1 0 1  \n",
      "1 1 single point    \n",
      "10.0 2.0 0.3 0.03 8   \n",
      "10.0 10.0 0.001   \n",
      "0.1     \n",
      "50 0.005 4 4 0.005 4   \n",
      "1 1 1       \n",
      "* singular value decomposition\n",
      "1\n",
      "4 5e-07\n",
      "0\n",
      "* parameter groups\n",
      "default_pg relative 0.01 0.001 switch 1.5 parabolic   \n",
      "* parameter data\n",
      "x2 none factor -2.5 -10.0 5.0 default_pg 1.0 0.0 1\n",
      "x4 none factor 2.25 0.5 4.0 default_pg 1.0 0.0 1\n",
      "x1 none factor 750.5 1.0 1500.0 default_pg 1.0 0.0 1\n",
      "x3 none factor 250.5 1.0 500.0 default_pg 1.0 0.0 1 \n",
      "* observation groups\n",
      "default_og  \n",
      "* observation data\n",
      "Flow 0 1.0 default_og\n",
      "* model command line\n",
      "python _run_CalibrationCase.py\n",
      "* model input/output\n",
      "_run_CalibrationCase.tpl _run_CalibrationCase.py\n",
      "_CalibrationCase_output.ins _CalibrationCase_output.txt\n",
      "\n"
     ]
    }
   ],
   "source": [
    "print(calibration.pcf_text())"
   ]
  },
  {
   "cell_type": "code",
   "execution_count": 43,
   "metadata": {
    "collapsed": false
   },
   "outputs": [
    {
     "name": "stdout",
     "output_type": "stream",
     "text": [
      "prf\n",
      "4 0 0.5 1 0 run_slow_fac=1.5\n",
      "Slave_9885 .\\Slave_9885\\\n",
      "Slave_9886 .\\Slave_9886\\\n",
      "Slave_9887 .\\Slave_9887\\\n",
      "Slave_9888 .\\Slave_9888\\\n",
      "1.0 1.0 1.0 1.0\n",
      "\n"
     ]
    }
   ],
   "source": [
    "print(calibration.prf_text())"
   ]
  },
  {
   "cell_type": "code",
   "execution_count": null,
   "metadata": {
    "collapsed": true
   },
   "outputs": [],
   "source": []
  },
  {
   "cell_type": "markdown",
   "metadata": {},
   "source": [
    "## Running PEST\n",
    "\n",
    "We can now invoke the PEST run.\n",
    "\n",
    "This is the point where veneer-py stops helping you and you're handed over to PEST. (At this point in time)\n",
    "\n",
    "When you call `calibration.run()`, PEST will start, and, in this case, it will start parallel PEST mode with 4 workers. However all output of PEST will be in files, and in the command prompt window from which you started the Jupyter notebook. You will need to look in these places for progress of the calibration."
   ]
  },
  {
   "cell_type": "markdown",
   "metadata": {},
   "source": [
    "**Note:** PEST needs to be in your Windows path. If its not, the `run()` command won't work. You can temporarily add PEST to your path from within the notebook:\n",
    "\n"
   ]
  },
  {
   "cell_type": "code",
   "execution_count": 44,
   "metadata": {
    "collapsed": true
   },
   "outputs": [],
   "source": [
    "pest_path='C:\\\\PEST'\n",
    "import os\n",
    "os.environ['PATH'] = os.environ['PATH']+';'+pest_path"
   ]
  },
  {
   "cell_type": "code",
   "execution_count": 45,
   "metadata": {
    "collapsed": true
   },
   "outputs": [],
   "source": [
    "calibration.run()"
   ]
  },
  {
   "cell_type": "code",
   "execution_count": null,
   "metadata": {
    "collapsed": true
   },
   "outputs": [],
   "source": []
  }
 ],
 "metadata": {
  "kernelspec": {
   "display_name": "Python 3",
   "language": "python",
   "name": "python3"
  },
  "language_info": {
   "codemirror_mode": {
    "name": "ipython",
    "version": 3
   },
   "file_extension": ".py",
   "mimetype": "text/x-python",
   "name": "python",
   "nbconvert_exporter": "python",
   "pygments_lexer": "ipython3",
   "version": "3.4.4"
  }
 },
 "nbformat": 4,
 "nbformat_minor": 0
}
