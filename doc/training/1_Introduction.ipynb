{
 "cells": [
  {
   "cell_type": "code",
   "execution_count": null,
   "metadata": {
    "collapsed": true
   },
   "outputs": [],
   "source": []
  },
  {
   "cell_type": "markdown",
   "metadata": {},
   "source": [
    "# Session 1: Introduction\n",
    "    \n",
    "- Goals What we’ll be trying to do\n",
    "- Veneer\n",
    "    - Why it exists\n",
    "    - How is it similar to the RiverSystem.CommandLine and\n",
    "    - how does it differ\n"
   ]
  },
  {
   "cell_type": "markdown",
   "metadata": {},
   "source": [
    "## Goals\n",
    "\n",
    "This workshop is all about __automating interactions with eWater Source__, using Veneer (an alternative to the `RiverSystem.CommandLine` tool) and veneer-py (a Python package that provides a high level interface to Veneer and Source).\n",
    "\n",
    "Some of the tutorials will focus on running Source (much as you could with the existing command line tool) and then post processing the results. Other tutorials will focus on making changes to the model structure that are difficult to perform through the command line.\n",
    "\n",
    "I hope that, after completing the tutorials, you will:\n",
    "\n",
    "1. feel comfortable automating repeatable Source workflows for batch runs and data post processing, \n",
    "2. be able to use Python as a tool that is complementary to the main Windows application of Source, such as for ad-hoc tasks and data analysis, and\n",
    "3. Understand how you can make major changes to your model structure and configuration from a script.\n"
   ]
  },
  {
   "cell_type": "markdown",
   "metadata": {},
   "source": [
    "## Agenda\n",
    "\n",
    "See [00_WorkshopAgenda.ipynb](00_WorkshopAgenda.ipynb)\n",
    "\n",
    "Timing may be out of whack - but arguably Day One material is more important, so if that takes longer, so be it!"
   ]
  },
  {
   "cell_type": "markdown",
   "metadata": {},
   "source": [
    "## Veneer\n",
    "\n",
    "Our interaction with Source is handled through the Veneer plugin to the Source application.\n",
    "\n",
    "Veneer allows other programs to talk to Source,\n",
    "\n",
    "* including querying the information in the Source model,\n",
    "* changing the configuration of the model,\n",
    "* running the model, and\n",
    "* retrieving time series results.\n",
    "\n",
    "Veneer can work within the regular Windows application version of Source. Veneer also has its own command line, that accepts the same protocols and can be used for larger scale tasks, such as parallel calibration.\n",
    "\n",
    "Veneer is open source. The code is hosted at [https://github.com/flowmatters/veneer](https://github.com/flowmatters/veneer). You can download the most recent Veneer release from there as well - there will be downloads for each version of Source that is currently supported with Veneer."
   ]
  },
  {
   "cell_type": "markdown",
   "metadata": {},
   "source": [
    "### How Veneer Works\n",
    "\n",
    "Veneer works by turning Source into a server, which can accept instructions from other programs.\n",
    "\n",
    "This is analogous the server mode of `RiverSystem.CommandLine`, but where the command line tool is just on the command line, Veneer can work in either a command line mode or from the main Windows application of Source.\n",
    "\n",
    "![Veneer works from the command line or the main Source application](Images/Tutorials/Veneer_Cmd_vs_GUI.png)\n",
    "\n",
    "Veneer and `RiverSystem.CommandLine` exist for different reasons.  `RiverSystem.CommandLine` was built primarily to support automated running of Source simulations, wheareas the original purpose of Veneer was to support the development of web based user interfaces for Source.\n",
    "\n",
    "This leads to some design differences between the two:\n",
    "\n",
    "* **protocol** - Veneer is built almost entirely around a RESTful protocol because it is easy to consume from web applications, and lends itself well to creating static versions of websites based on pre-canned model results,\n",
    "* **capabilities** - `RiverSystem.CommandLine` is focussed primarily on running simulations and retrieving results, whereas Veneer also exposes a number of model configuration elements, such as the network\n",
    "* **complex queries and operations** - Both systems have implemented ways to query the model structure. `RiverSystem.CommandLine ` uses XPath, whereas Veneer uses IronPython scripts."
   ]
  },
  {
   "cell_type": "markdown",
   "metadata": {},
   "source": [
    "### Veneer protocols\n",
    "\n",
    "Veneer establishes a server - so other programs (whether they be Python scripts, web applications or something else) become clients of the server.\n",
    "\n",
    "Veneer communicates with its clients using HTTP.\n",
    "\n",
    "Clients initiate communication by requesting a particular URL on the Veneer server, specifying a HTTP verb (or action) and, in some cases, supplying some additional data, such as model parameters.\n",
    "\n",
    "Veneer responds to these requests by taking relevant action on the Source model (querying a result, running the model, etc) and returning a response to the client, typically as JSON formatted text.\n",
    "\n",
    "Because Veneer uses URLs, many of the queries can be tested by visiting those URLs in a browser:\n",
    "\n",
    "* [http://localhost:9876/network](http://localhost:9876/network) - Access the network\n",
    "* [http://localhost:9876/runs](http://localhost:9876/runs) - Access a list of available runs (ie results sets)\n",
    "* [http://localhost:9876/runs/latest](http://localhost:9876/runs/latest) - Retrieve information about the latest run - includes a list of available time series results (without returning the actual results)\n",
    "* [http://localhost:9876/runs/latest/location/__all__/element/__all__/variable/Downstream%20Flow%20Volume](http://localhost:9876/runs/latest/location/__all__/element/__all__/variable/Downstream%20Flow%20Volume) - Returns downstream flow volume time series at every location at which it was recorded in the latest run\n",
    "* [http://localhost:9876/runs/latest/location/__all__/element/__all__/variable/Downstream%20Flow%20Volume/aggregated/monthly](http://localhost:9876/runs/latest/location/__all__/element/__all__/variable/Downstream%20Flow%20Volume/aggregated/monthly) - Returns downstream flow volume time series, **aggregated to monthly totals**, at every location at which it was recorded in the latest run\n",
    "\n",
    "**Note: ** in the case of time series, the request can specify that the response should be in CSV format (rather than JSON), but this typically isn't necessary when calling from Python. For web applications, the more compressed nature of CSV data can speed up application response times.\n",
    "\n",
    "These queries all work in your brwoser because Veneer is expecting HTTP GET requests - which is what your browser issues when you enter a URL in the address bar.\n",
    "Other Veneer actions, such as triggering a run, using HTTP the POST, PUT and DELETE verbs, which aren't as easy to test in \n",
    "a browser.\n",
    "\n",
    "For example, the following Python code issues a POST request to `/runs` in Veneer, triggering a run of the current scenario in Source\n",
    "(using the current, default settings)."
   ]
  },
  {
   "cell_type": "code",
   "execution_count": 4,
   "metadata": {
    "collapsed": false
   },
   "outputs": [
    {
     "data": {
      "text/plain": [
       "<Response [200]>"
      ]
     },
     "execution_count": 4,
     "metadata": {},
     "output_type": "execute_result"
    }
   ],
   "source": [
    "import requests\n",
    "requests.post('http://localhost:9876/runs')"
   ]
  },
  {
   "cell_type": "markdown",
   "metadata": {},
   "source": [
    "### Veneer Iron Python\n",
    "\n",
    "In addition to the various URLs, Veneer also supports a catch-all URL - a POST request to `/ironpython` - that accepts an IronPython script for execution _within_ the running Source application.\n",
    "\n",
    "IronPython is a native .NET version of Python, meaning it can directly access the classes and objects within Source. With the `/ironpython` URL, you can run a script, within Source, that can achieve any kind of query or transformation possible.\n",
    "\n",
    "The `/ironpython` URL is **disabled by default**. You should be careful before enabling it if you are also using the Remote Connections feature.\n",
    "\n",
    "Writing IronPython scripts for use in Source can be quite complex - it requires a knowledge of the Source data structures and methods relevant to what you want to achieve. However, veneer-py includes a number of helper functions, that can be called from the notebook, which generate scripts for many common tasks, such as assigning input time series, creating nodes, assigning rainfall runoff models and setting model parameters."
   ]
  },
  {
   "cell_type": "markdown",
   "metadata": {},
   "source": [
    "## veneer-py\n",
    "\n",
    "Veneer is independent of the client software that talks to it - the can communicate with Veneer with client programs written in any language.\n",
    "\n",
    "veneer-py is a Python package for simplifying the task of talking to Veneer from Python scripts.\n",
    "\n",
    "veneer-py has a range of features for making requests to Veneer, and interpreting results.\n",
    "\n",
    "For example, if you make a request for the network (`/network`), you don't see the JSON formatted data - you get a Python object that you can query and deal with in a Python way:"
   ]
  },
  {
   "cell_type": "code",
   "execution_count": 6,
   "metadata": {
    "collapsed": false
   },
   "outputs": [
    {
     "name": "stdout",
     "output_type": "stream",
     "text": [
      "*** /network ***\n",
      "11\n",
      "['node #0', 'node #1', 'node #2', 'node #3', 'node #4', 'node #5', 'node #6', 'node #7', 'node #8', 'node #9']\n"
     ]
    }
   ],
   "source": [
    "import veneer\n",
    "\n",
    "v = veneer.Veneer() # Start a veneer-py client\n",
    "network = v.network()\n",
    "\n",
    "nodes = network['features'].find_by_feature_type('node')\n",
    "print(len(nodes))\n",
    "\n",
    "print(nodes._all_values('name')[0:10]) # Names of first ten nodes"
   ]
  },
  {
   "cell_type": "code",
   "execution_count": null,
   "metadata": {
    "collapsed": false
   },
   "outputs": [],
   "source": []
  },
  {
   "cell_type": "code",
   "execution_count": null,
   "metadata": {
    "collapsed": true
   },
   "outputs": [],
   "source": []
  }
 ],
 "metadata": {
  "kernelspec": {
   "display_name": "Python 3",
   "language": "python",
   "name": "python3"
  },
  "language_info": {
   "codemirror_mode": {
    "name": "ipython",
    "version": 3
   },
   "file_extension": ".py",
   "mimetype": "text/x-python",
   "name": "python",
   "nbconvert_exporter": "python",
   "pygments_lexer": "ipython3",
   "version": "3.4.4"
  }
 },
 "nbformat": 4,
 "nbformat_minor": 0
}
