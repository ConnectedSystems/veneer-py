{
 "cells": [
  {
   "cell_type": "markdown",
   "metadata": {},
   "source": [
    "# Session 8 - Source model calibration using PEST and Veneer\n",
    "\n",
    "PEST is a highly capable system for model calibration, and for sensitivity and uncertainty analysis. PEST is independent of any particular modelling software and modellers have connected Source to PEST in a number of ways.\n",
    "\n",
    "This tutorial looks at specific support in veneer-py for calibration Source models with PEST. Notably, you can describe the PEST job in the notebook and veneer-py will generate the required PEST configuration files.\n",
    "\n",
    "At the time of writing, this functionality supports basic calibration of model parameters to timeseries observations.\n",
    "\n",
    "## Get PEST\n",
    "\n",
    "PEST can be downloaded from [http://www.pesthomepage.org/](http://www.pesthomepage.org/). You want the standard PC PEST for Windows - *not BEOPEST*. PEST is delivered as a zip file - unzip to a directory on your system (ideally a directory without spaces or special characters in the path - something like `C:\\PEST` is good)\n",
    "\n",
    "This tutorial will gloss over a lot of PEST specifics in order to focus on the connection to Source and Veneer. The PEST manual is very comprehensive and it is available from the PEST homepage and included with the software.\n",
    "\n",
    "\n",
    "## Overview\n",
    "\n",
    "- How will it work?\n",
    "- Describing the PEST ‘job'\n",
    "  - Veneer/Source end-point(s)\n",
    "  - Getting the model ‘ready’ for optimisation\n",
    "  - Describing the calibration parameters\n",
    "  - Describing the objective and any observed data\n",
    "  - What veneer-py is taking care of\n",
    "- Running PEST, feedback\n",
    "- Limitations\n",
    "\n",
    "## Which Model?\n",
    "\n",
    "**Note:** This session uses `ExampleProject/CalibrationExample.rsproj`. You are welcome to work with your own model instead, however you will need to change the notebook text at certain points to reflect the names of nodes, links and functions in your model file.\n"
   ]
  },
  {
   "cell_type": "markdown",
   "metadata": {},
   "source": [
    "## How will it work?\n",
    "\n",
    "PEST requires a series of configuration file that describe the parameter estimation problem, including:\n",
    "\n",
    "* What program to run and what command line arguments to use\n",
    "* A description of one or more text files that PEST can modify in order to create a unique run of the model\n",
    "* Description of one or more results text files that PEST can read to interpret the results of the model run\n",
    "* Optional files that control parallel processing by running multiple copies of the model in parallel.\n",
    "\n",
    "veneer-py has functionality for describing the calibration problem in Python, and then subsequently generating the files expected by PEST. This includes generating a Python script, which becomes the program that PEST invokes. This Python program calls to a running copy of Veneer to execute the Source model and retrieve results.\n",
    "\n",
    "When running PEST in parallel, PEST controls a number of 'slave' processes, each of which is responsible for running one copy of the simulation at a time:\n",
    "\n",
    "![Running PEST on a Source model from Python](Images/Tutorials/Veneer_PEST.png)\n",
    "\n",
    "In this way, you can run a PEST calibration for a Source model that is running in the main Source windows application. You can start multiple copies of Source in order to support parallel calibrations. Alternatively, you can use the Veneer Command Line tool."
   ]
  },
  {
   "cell_type": "markdown",
   "metadata": {},
   "source": [
    "### Setting up the servers\n",
    "\n",
    "As in Tutorial 7, we'll use the command line and set up a number of copies of the server using the `start()` function"
   ]
  },
  {
   "cell_type": "code",
   "execution_count": 1,
   "metadata": {
    "collapsed": true
   },
   "outputs": [],
   "source": [
    "from veneer.manage import start, create_command_line, kill_all_now\n",
    "import veneer"
   ]
  },
  {
   "cell_type": "code",
   "execution_count": 2,
   "metadata": {
    "collapsed": false
   },
   "outputs": [
    {
     "data": {
      "text/plain": [
       "'E:\\\\temp\\\\veneer_cmd\\\\FlowMatters.Source.VeneerCmd.exe'"
      ]
     },
     "execution_count": 2,
     "metadata": {},
     "output_type": "execute_result"
    }
   ],
   "source": [
    "veneer_install = 'D:\\\\src\\\\projects\\\\Veneer\\\\Compiled\\\\Source 4.1.1.4484 (public version)'\n",
    "source_version = '4.1.1'\n",
    "cmd_directory = 'E:\\\\temp\\\\veneer_cmd'\n",
    "path = create_command_line(veneer_install,source_version,dest=cmd_directory)\n",
    "path"
   ]
  },
  {
   "cell_type": "code",
   "execution_count": 3,
   "metadata": {
    "collapsed": true
   },
   "outputs": [],
   "source": [
    "catchment_project='ExampleProject/CalibrationExample.rsproj'\n",
    "num_copies=20    # Important - set this to be a number ~ the number of CPU cores in your system!\n",
    "first_port=9950"
   ]
  },
  {
   "cell_type": "code",
   "execution_count": 4,
   "metadata": {
    "collapsed": false,
    "scrolled": false
   },
   "outputs": [
    {
     "name": "stdout",
     "output_type": "stream",
     "text": [
      "Starting E:\\temp\\veneer_cmd\\FlowMatters.Source.VeneerCmd.exe -p 9950 -s  \"D:\\src\\projects\\veneer-py\\doc\\training\\ExampleProject\\CalibrationExample.rsproj\"\n",
      "Starting E:\\temp\\veneer_cmd\\FlowMatters.Source.VeneerCmd.exe -p 9951 -s  \"D:\\src\\projects\\veneer-py\\doc\\training\\ExampleProject\\CalibrationExample.rsproj\"\n",
      "Starting E:\\temp\\veneer_cmd\\FlowMatters.Source.VeneerCmd.exe -p 9952 -s  \"D:\\src\\projects\\veneer-py\\doc\\training\\ExampleProject\\CalibrationExample.rsproj\"\n",
      "Starting E:\\temp\\veneer_cmd\\FlowMatters.Source.VeneerCmd.exe -p 9953 -s  \"D:\\src\\projects\\veneer-py\\doc\\training\\ExampleProject\\CalibrationExample.rsproj\"\n",
      "Starting E:\\temp\\veneer_cmd\\FlowMatters.Source.VeneerCmd.exe -p 9954 -s  \"D:\\src\\projects\\veneer-py\\doc\\training\\ExampleProject\\CalibrationExample.rsproj\"\n",
      "Starting E:\\temp\\veneer_cmd\\FlowMatters.Source.VeneerCmd.exe -p 9955 -s  \"D:\\src\\projects\\veneer-py\\doc\\training\\ExampleProject\\CalibrationExample.rsproj\"\n",
      "Starting E:\\temp\\veneer_cmd\\FlowMatters.Source.VeneerCmd.exe -p 9956 -s  \"D:\\src\\projects\\veneer-py\\doc\\training\\ExampleProject\\CalibrationExample.rsproj\"\n",
      "Starting E:\\temp\\veneer_cmd\\FlowMatters.Source.VeneerCmd.exe -p 9957 -s  \"D:\\src\\projects\\veneer-py\\doc\\training\\ExampleProject\\CalibrationExample.rsproj\"\n",
      "Starting E:\\temp\\veneer_cmd\\FlowMatters.Source.VeneerCmd.exe -p 9958 -s  \"D:\\src\\projects\\veneer-py\\doc\\training\\ExampleProject\\CalibrationExample.rsproj\"\n",
      "Starting E:\\temp\\veneer_cmd\\FlowMatters.Source.VeneerCmd.exe -p 9959 -s  \"D:\\src\\projects\\veneer-py\\doc\\training\\ExampleProject\\CalibrationExample.rsproj\"\n",
      "Starting E:\\temp\\veneer_cmd\\FlowMatters.Source.VeneerCmd.exe -p 9960 -s  \"D:\\src\\projects\\veneer-py\\doc\\training\\ExampleProject\\CalibrationExample.rsproj\"\n",
      "Starting E:\\temp\\veneer_cmd\\FlowMatters.Source.VeneerCmd.exe -p 9961 -s  \"D:\\src\\projects\\veneer-py\\doc\\training\\ExampleProject\\CalibrationExample.rsproj\"\n",
      "Starting E:\\temp\\veneer_cmd\\FlowMatters.Source.VeneerCmd.exe -p 9962 -s  \"D:\\src\\projects\\veneer-py\\doc\\training\\ExampleProject\\CalibrationExample.rsproj\"\n",
      "Starting E:\\temp\\veneer_cmd\\FlowMatters.Source.VeneerCmd.exe -p 9963 -s  \"D:\\src\\projects\\veneer-py\\doc\\training\\ExampleProject\\CalibrationExample.rsproj\"\n",
      "Starting E:\\temp\\veneer_cmd\\FlowMatters.Source.VeneerCmd.exe -p 9964 -s  \"D:\\src\\projects\\veneer-py\\doc\\training\\ExampleProject\\CalibrationExample.rsproj\"\n",
      "Starting E:\\temp\\veneer_cmd\\FlowMatters.Source.VeneerCmd.exe -p 9965 -s  \"D:\\src\\projects\\veneer-py\\doc\\training\\ExampleProject\\CalibrationExample.rsproj\"\n",
      "Starting E:\\temp\\veneer_cmd\\FlowMatters.Source.VeneerCmd.exe -p 9966 -s  \"D:\\src\\projects\\veneer-py\\doc\\training\\ExampleProject\\CalibrationExample.rsproj\"\n",
      "Starting E:\\temp\\veneer_cmd\\FlowMatters.Source.VeneerCmd.exe -p 9967 -s  \"D:\\src\\projects\\veneer-py\\doc\\training\\ExampleProject\\CalibrationExample.rsproj\"\n",
      "Starting E:\\temp\\veneer_cmd\\FlowMatters.Source.VeneerCmd.exe -p 9968 -s  \"D:\\src\\projects\\veneer-py\\doc\\training\\ExampleProject\\CalibrationExample.rsproj\"\n",
      "Starting E:\\temp\\veneer_cmd\\FlowMatters.Source.VeneerCmd.exe -p 9969 -s  \"D:\\src\\projects\\veneer-py\\doc\\training\\ExampleProject\\CalibrationExample.rsproj\"\n",
      "[3] Loading plugins\n",
      "\n",
      "[5] Loading plugins\n",
      "\n",
      "[6] Loading plugins\n",
      "\n",
      "[7] Loading plugins\n",
      "\n",
      "[8] Loading plugins\n",
      "\n",
      "[8] Loaded D:\\src\\projects\\Veneer\\Compiled\\GBRSource\\FlowMatters.Source.Veneer.dll\n",
      "\n",
      "[8] Loaded D:\\src\\projects\\gbr\\Output\\Plugins\\CommunityPlugins\\Dynamic_SedNet.dll\n",
      "\n",
      "[8] Loaded D:\\src\\projects\\gbr\\Output\\Plugins\\CommunityPlugins\\GBR_DynSed_Extension.dll\n",
      "\n",
      "[8] Loaded D:\\src\\projects\\gbr\\Output\\Plugins\\CommunityPlugins\\ReefHydroCalModels.dll\n",
      "\n",
      "[8] Loaded D:\\src\\projects\\gbr\\Output\\Plugins\\DERMTools.dll\n",
      "\n",
      "[8] Plugins loaded (5/5)\n",
      "\n",
      "[9] Loading plugins\n",
      "\n",
      "[10] Loading plugins\n",
      "\n",
      "[10] Loaded D:\\src\\projects\\Veneer\\Compiled\\GBRSource\\FlowMatters.Source.Veneer.dll\n",
      "\n",
      "[10] Loaded D:\\src\\projects\\gbr\\Output\\Plugins\\CommunityPlugins\\Dynamic_SedNet.dll\n",
      "\n",
      "[10] Loaded D:\\src\\projects\\gbr\\Output\\Plugins\\CommunityPlugins\\GBR_DynSed_Extension.dll\n",
      "\n",
      "[10] Loaded D:\\src\\projects\\gbr\\Output\\Plugins\\CommunityPlugins\\ReefHydroCalModels.dll\n",
      "\n",
      "[10] Loaded D:\\src\\projects\\gbr\\Output\\Plugins\\DERMTools.dll\n",
      "\n",
      "[10] Plugins loaded (5/5)\n",
      "\n",
      "[11] Loading plugins\n",
      "\n",
      "[12] Loading plugins\n",
      "\n",
      "[12] Loaded D:\\src\\projects\\Veneer\\Compiled\\GBRSource\\FlowMatters.Source.Veneer.dll\n",
      "\n",
      "[12] Loaded D:\\src\\projects\\gbr\\Output\\Plugins\\CommunityPlugins\\Dynamic_SedNet.dll\n",
      "\n",
      "[12] Loaded D:\\src\\projects\\gbr\\Output\\Plugins\\CommunityPlugins\\GBR_DynSed_Extension.dll\n",
      "\n",
      "[12] Loaded D:\\src\\projects\\gbr\\Output\\Plugins\\CommunityPlugins\\ReefHydroCalModels.dll\n",
      "\n",
      "[12] Loaded D:\\src\\projects\\gbr\\Output\\Plugins\\DERMTools.dll\n",
      "\n",
      "[12] Plugins loaded (5/5)\n",
      "\n",
      "[13] Loading plugins\n",
      "\n",
      "[13] Loaded D:\\src\\projects\\Veneer\\Compiled\\GBRSource\\FlowMatters.Source.Veneer.dll\n",
      "\n",
      "[13] Loaded D:\\src\\projects\\gbr\\Output\\Plugins\\CommunityPlugins\\Dynamic_SedNet.dll\n",
      "\n",
      "[13] Loaded D:\\src\\projects\\gbr\\Output\\Plugins\\CommunityPlugins\\GBR_DynSed_Extension.dll\n",
      "\n",
      "[13] Loaded D:\\src\\projects\\gbr\\Output\\Plugins\\CommunityPlugins\\ReefHydroCalModels.dll\n",
      "\n",
      "[13] Loaded D:\\src\\projects\\gbr\\Output\\Plugins\\DERMTools.dll\n",
      "\n",
      "[13] Plugins loaded (5/5)\n",
      "\n",
      "[14] Loading plugins\n",
      "\n",
      "[14] Loaded D:\\src\\projects\\Veneer\\Compiled\\GBRSource\\FlowMatters.Source.Veneer.dll\n",
      "\n",
      "[14] Loaded D:\\src\\projects\\gbr\\Output\\Plugins\\CommunityPlugins\\Dynamic_SedNet.dll\n",
      "\n",
      "[14] Loaded D:\\src\\projects\\gbr\\Output\\Plugins\\CommunityPlugins\\GBR_DynSed_Extension.dll\n",
      "\n",
      "[14] Loaded D:\\src\\projects\\gbr\\Output\\Plugins\\CommunityPlugins\\ReefHydroCalModels.dll\n",
      "\n",
      "[14] Loaded D:\\src\\projects\\gbr\\Output\\Plugins\\DERMTools.dll\n",
      "\n",
      "[14] Plugins loaded (5/5)\n",
      "\n",
      "[15] Loading plugins\n",
      "\n",
      "[15] Loaded D:\\src\\projects\\Veneer\\Compiled\\GBRSource\\FlowMatters.Source.Veneer.dll\n",
      "\n",
      "[15] Loaded D:\\src\\projects\\gbr\\Output\\Plugins\\CommunityPlugins\\Dynamic_SedNet.dll\n",
      "\n",
      "[15] Loaded D:\\src\\projects\\gbr\\Output\\Plugins\\CommunityPlugins\\GBR_DynSed_Extension.dll\n",
      "\n",
      "[15] Loaded D:\\src\\projects\\gbr\\Output\\Plugins\\CommunityPlugins\\ReefHydroCalModels.dll\n",
      "\n",
      "[15] Loaded D:\\src\\projects\\gbr\\Output\\Plugins\\DERMTools.dll\n",
      "\n",
      "[15] Plugins loaded (5/5)\n",
      "\n",
      "[16] Loading plugins\n",
      "\n",
      "[16] Loaded D:\\src\\projects\\Veneer\\Compiled\\GBRSource\\FlowMatters.Source.Veneer.dll\n",
      "\n",
      "[16] Loaded D:\\src\\projects\\gbr\\Output\\Plugins\\CommunityPlugins\\Dynamic_SedNet.dll\n",
      "\n",
      "[16] Loaded D:\\src\\projects\\gbr\\Output\\Plugins\\CommunityPlugins\\GBR_DynSed_Extension.dll\n",
      "\n",
      "[16] Loaded D:\\src\\projects\\gbr\\Output\\Plugins\\CommunityPlugins\\ReefHydroCalModels.dll\n",
      "\n",
      "[16] Loaded D:\\src\\projects\\gbr\\Output\\Plugins\\DERMTools.dll\n",
      "\n",
      "[16] Plugins loaded (5/5)\n",
      "\n",
      "[17] Loading plugins\n",
      "\n",
      "[17] Loaded D:\\src\\projects\\Veneer\\Compiled\\GBRSource\\FlowMatters.Source.Veneer.dll\n",
      "\n",
      "[17] Loaded D:\\src\\projects\\gbr\\Output\\Plugins\\CommunityPlugins\\Dynamic_SedNet.dll\n",
      "\n",
      "[17] Loaded D:\\src\\projects\\gbr\\Output\\Plugins\\CommunityPlugins\\GBR_DynSed_Extension.dll\n",
      "\n",
      "[17] Loaded D:\\src\\projects\\gbr\\Output\\Plugins\\CommunityPlugins\\ReefHydroCalModels.dll\n",
      "\n",
      "[17] Loaded D:\\src\\projects\\gbr\\Output\\Plugins\\DERMTools.dll\n",
      "\n",
      "[17] Plugins loaded (5/5)\n",
      "\n",
      "[18] Loading plugins\n",
      "\n",
      "[18] Loaded D:\\src\\projects\\Veneer\\Compiled\\GBRSource\\FlowMatters.Source.Veneer.dll\n",
      "\n",
      "[18] Loaded D:\\src\\projects\\gbr\\Output\\Plugins\\CommunityPlugins\\Dynamic_SedNet.dll\n",
      "\n",
      "[18] Loaded D:\\src\\projects\\gbr\\Output\\Plugins\\CommunityPlugins\\GBR_DynSed_Extension.dll\n",
      "\n",
      "[18] Loaded D:\\src\\projects\\gbr\\Output\\Plugins\\CommunityPlugins\\ReefHydroCalModels.dll\n",
      "\n",
      "[18] Loaded D:\\src\\projects\\gbr\\Output\\Plugins\\DERMTools.dll\n",
      "\n",
      "[18] Plugins loaded (5/5)\n",
      "\n",
      "[19] Loading plugins\n",
      "\n",
      "[19] Loaded D:\\src\\projects\\Veneer\\Compiled\\GBRSource\\FlowMatters.Source.Veneer.dll\n",
      "\n",
      "[19] Loaded D:\\src\\projects\\gbr\\Output\\Plugins\\CommunityPlugins\\Dynamic_SedNet.dll\n",
      "\n",
      "[19] Loaded D:\\src\\projects\\gbr\\Output\\Plugins\\CommunityPlugins\\GBR_DynSed_Extension.dll\n",
      "\n",
      "[19] Loaded D:\\src\\projects\\gbr\\Output\\Plugins\\CommunityPlugins\\ReefHydroCalModels.dll\n",
      "\n",
      "[19] Loaded D:\\src\\projects\\gbr\\Output\\Plugins\\DERMTools.dll\n",
      "\n",
      "[19] Plugins loaded (5/5)\n",
      "\n",
      "[19] Opening project file: D:\\src\\projects\\veneer-py\\doc\\training\\ExampleProject\\CalibrationExample.rsproj\n",
      "\n",
      "[0] Loading plugins\n",
      "\n",
      "[0] Loaded D:\\src\\projects\\Veneer\\Compiled\\GBRSource\\FlowMatters.Source.Veneer.dll\n",
      "\n",
      "[0] Loaded D:\\src\\projects\\gbr\\Output\\Plugins\\CommunityPlugins\\Dynamic_SedNet.dll\n",
      "\n",
      "[0] Loaded D:\\src\\projects\\gbr\\Output\\Plugins\\CommunityPlugins\\GBR_DynSed_Extension.dll\n",
      "\n",
      "[0] Loaded D:\\src\\projects\\gbr\\Output\\Plugins\\CommunityPlugins\\ReefHydroCalModels.dll\n",
      "\n",
      "[0] Loaded D:\\src\\projects\\gbr\\Output\\Plugins\\DERMTools.dll\n",
      "\n",
      "[0] Plugins loaded (5/5)\n",
      "\n",
      "[1] Loading plugins\n",
      "\n",
      "[1] Loaded D:\\src\\projects\\Veneer\\Compiled\\GBRSource\\FlowMatters.Source.Veneer.dll\n",
      "\n",
      "[1] Loaded D:\\src\\projects\\gbr\\Output\\Plugins\\CommunityPlugins\\Dynamic_SedNet.dll\n",
      "\n",
      "[1] Loaded D:\\src\\projects\\gbr\\Output\\Plugins\\CommunityPlugins\\GBR_DynSed_Extension.dll\n",
      "\n",
      "[1] Loaded D:\\src\\projects\\gbr\\Output\\Plugins\\CommunityPlugins\\ReefHydroCalModels.dll\n",
      "\n",
      "[1] Loaded D:\\src\\projects\\gbr\\Output\\Plugins\\DERMTools.dll\n",
      "\n",
      "[1] Plugins loaded (5/5)\n",
      "\n",
      "[2] Loading plugins\n",
      "\n",
      "[2] Loaded D:\\src\\projects\\Veneer\\Compiled\\GBRSource\\FlowMatters.Source.Veneer.dll\n",
      "\n",
      "[2] Loaded D:\\src\\projects\\gbr\\Output\\Plugins\\CommunityPlugins\\Dynamic_SedNet.dll\n",
      "\n",
      "[2] Loaded D:\\src\\projects\\gbr\\Output\\Plugins\\CommunityPlugins\\GBR_DynSed_Extension.dll\n",
      "\n",
      "[2] Loaded D:\\src\\projects\\gbr\\Output\\Plugins\\CommunityPlugins\\ReefHydroCalModels.dll\n",
      "\n",
      "[2] Loaded D:\\src\\projects\\gbr\\Output\\Plugins\\DERMTools.dll\n",
      "\n",
      "[2] Plugins loaded (5/5)\n",
      "\n",
      "ERROR[3] log4net:ERROR Failed to find configuration section 'log4net' in the application's .config file. Check your .config file for the <log4net> and <configSections> elements. The configuration section should look like: <section name=\"log4net\" type=\"log4net.Config.Log4NetConfigurationSectionHandler,log4net\" />\n",
      "\n",
      "[3] Loaded D:\\src\\projects\\Veneer\\Compiled\\GBRSource\\FlowMatters.Source.Veneer.dll\n",
      "\n",
      "[3] Loaded D:\\src\\projects\\gbr\\Output\\Plugins\\CommunityPlugins\\Dynamic_SedNet.dll\n",
      "\n",
      "[3] Loaded D:\\src\\projects\\gbr\\Output\\Plugins\\CommunityPlugins\\GBR_DynSed_Extension.dll\n",
      "\n",
      "[3] Loaded D:\\src\\projects\\gbr\\Output\\Plugins\\CommunityPlugins\\ReefHydroCalModels.dll\n",
      "\n",
      "[3] Loaded D:\\src\\projects\\gbr\\Output\\Plugins\\DERMTools.dll\n",
      "\n",
      "[3] Plugins loaded (5/5)\n",
      "\n",
      "[3] Opening project file: D:\\src\\projects\\veneer-py\\doc\\training\\ExampleProject\\CalibrationExample.rsproj\n",
      "\n",
      "[4] Loading plugins\n",
      "\n",
      "[4] Loaded D:\\src\\projects\\Veneer\\Compiled\\GBRSource\\FlowMatters.Source.Veneer.dll\n",
      "\n",
      "[4] Loaded D:\\src\\projects\\gbr\\Output\\Plugins\\CommunityPlugins\\Dynamic_SedNet.dll\n",
      "\n",
      "[4] Loaded D:\\src\\projects\\gbr\\Output\\Plugins\\CommunityPlugins\\GBR_DynSed_Extension.dll\n",
      "\n",
      "[4] Loaded D:\\src\\projects\\gbr\\Output\\Plugins\\CommunityPlugins\\ReefHydroCalModels.dll\n",
      "\n",
      "[4] Loaded D:\\src\\projects\\gbr\\Output\\Plugins\\DERMTools.dll\n",
      "\n",
      "[4] Plugins loaded (5/5)\n",
      "\n",
      "[5] Loaded D:\\src\\projects\\Veneer\\Compiled\\GBRSource\\FlowMatters.Source.Veneer.dll\n",
      "\n",
      "[5] Loaded D:\\src\\projects\\gbr\\Output\\Plugins\\CommunityPlugins\\Dynamic_SedNet.dll\n",
      "\n",
      "[5] Loaded D:\\src\\projects\\gbr\\Output\\Plugins\\CommunityPlugins\\GBR_DynSed_Extension.dll\n",
      "\n",
      "[5] Loaded D:\\src\\projects\\gbr\\Output\\Plugins\\CommunityPlugins\\ReefHydroCalModels.dll\n",
      "\n",
      "[5] Loaded D:\\src\\projects\\gbr\\Output\\Plugins\\DERMTools.dll\n",
      "\n",
      "[5] Plugins loaded (5/5)\n",
      "\n",
      "[6] Loaded D:\\src\\projects\\Veneer\\Compiled\\GBRSource\\FlowMatters.Source.Veneer.dll\n",
      "\n",
      "[6] Loaded D:\\src\\projects\\gbr\\Output\\Plugins\\CommunityPlugins\\Dynamic_SedNet.dll\n",
      "\n",
      "[6] Loaded D:\\src\\projects\\gbr\\Output\\Plugins\\CommunityPlugins\\GBR_DynSed_Extension.dll\n",
      "\n",
      "[6] Loaded D:\\src\\projects\\gbr\\Output\\Plugins\\CommunityPlugins\\ReefHydroCalModels.dll\n",
      "\n",
      "[6] Loaded D:\\src\\projects\\gbr\\Output\\Plugins\\DERMTools.dll\n",
      "\n",
      "[6] Plugins loaded (5/5)\n",
      "\n",
      "[6] Opening project file: D:\\src\\projects\\veneer-py\\doc\\training\\ExampleProject\\CalibrationExample.rsproj\n",
      "\n",
      "[7] Loaded D:\\src\\projects\\Veneer\\Compiled\\GBRSource\\FlowMatters.Source.Veneer.dll\n",
      "\n",
      "[7] Loaded D:\\src\\projects\\gbr\\Output\\Plugins\\CommunityPlugins\\Dynamic_SedNet.dll\n",
      "\n",
      "[7] Loaded D:\\src\\projects\\gbr\\Output\\Plugins\\CommunityPlugins\\GBR_DynSed_Extension.dll\n",
      "\n",
      "[7] Loaded D:\\src\\projects\\gbr\\Output\\Plugins\\CommunityPlugins\\ReefHydroCalModels.dll\n",
      "\n",
      "[7] Loaded D:\\src\\projects\\gbr\\Output\\Plugins\\DERMTools.dll\n",
      "\n",
      "[7] Plugins loaded (5/5)\n",
      "\n",
      "ERROR[8] log4net:ERROR Failed to find configuration section 'log4net' in the application's .config file. Check your .config file for the <log4net> and <configSections> elements. The configuration section should look like: <section name=\"log4net\" type=\"log4net.Config.Log4NetConfigurationSectionHandler,log4net\" />\n",
      "\n",
      "[8] Opening project file: D:\\src\\projects\\veneer-py\\doc\\training\\ExampleProject\\CalibrationExample.rsproj\n",
      "\n",
      "[9] Loaded D:\\src\\projects\\Veneer\\Compiled\\GBRSource\\FlowMatters.Source.Veneer.dll\n",
      "\n",
      "[9] Loaded D:\\src\\projects\\gbr\\Output\\Plugins\\CommunityPlugins\\Dynamic_SedNet.dll\n",
      "\n",
      "[9] Loaded D:\\src\\projects\\gbr\\Output\\Plugins\\CommunityPlugins\\GBR_DynSed_Extension.dll\n",
      "\n",
      "[9] Loaded D:\\src\\projects\\gbr\\Output\\Plugins\\CommunityPlugins\\ReefHydroCalModels.dll\n",
      "\n",
      "[9] Loaded D:\\src\\projects\\gbr\\Output\\Plugins\\DERMTools.dll\n",
      "\n",
      "[9] Plugins loaded (5/5)\n",
      "\n",
      "[9] Opening project file: D:\\src\\projects\\veneer-py\\doc\\training\\ExampleProject\\CalibrationExample.rsproj\n",
      "\n",
      "[10] Opening project file: D:\\src\\projects\\veneer-py\\doc\\training\\ExampleProject\\CalibrationExample.rsproj\n",
      "\n",
      "[11] Loaded D:\\src\\projects\\Veneer\\Compiled\\GBRSource\\FlowMatters.Source.Veneer.dll\n",
      "\n",
      "[11] Loaded D:\\src\\projects\\gbr\\Output\\Plugins\\CommunityPlugins\\Dynamic_SedNet.dll\n",
      "\n",
      "[11] Loaded D:\\src\\projects\\gbr\\Output\\Plugins\\CommunityPlugins\\GBR_DynSed_Extension.dll\n",
      "\n",
      "[11] Loaded D:\\src\\projects\\gbr\\Output\\Plugins\\CommunityPlugins\\ReefHydroCalModels.dll\n",
      "\n",
      "[11] Loaded D:\\src\\projects\\gbr\\Output\\Plugins\\DERMTools.dll\n",
      "\n",
      "[11] Plugins loaded (5/5)\n",
      "\n",
      "ERROR[12] log4net:ERROR Failed to find configuration section 'log4net' in the application's .config file. Check your .config file for the <log4net> and <configSections> elements. The configuration section should look like: <section name=\"log4net\" type=\"log4net.Config.Log4NetConfigurationSectionHandler,log4net\" />\n",
      "\n",
      "[12] Opening project file: D:\\src\\projects\\veneer-py\\doc\\training\\ExampleProject\\CalibrationExample.rsproj\n",
      "\n",
      "[13] Opening project file: D:\\src\\projects\\veneer-py\\doc\\training\\ExampleProject\\CalibrationExample.rsproj\n",
      "\n",
      "ERROR[14] log4net:ERROR Failed to find configuration section 'log4net' in the application's .config file. Check your .config file for the <log4net> and <configSections> elements. The configuration section should look like: <section name=\"log4net\" type=\"log4net.Config.Log4NetConfigurationSectionHandler,log4net\" />\n",
      "\n",
      "[14] Opening project file: D:\\src\\projects\\veneer-py\\doc\\training\\ExampleProject\\CalibrationExample.rsproj\n",
      "\n",
      "ERROR[15] log4net:ERROR Failed to find configuration section 'log4net' in the application's .config file. Check your .config file for the <log4net> and <configSections> elements. The configuration section should look like: <section name=\"log4net\" type=\"log4net.Config.Log4NetConfigurationSectionHandler,log4net\" />\n",
      "\n",
      "[15] Opening project file: D:\\src\\projects\\veneer-py\\doc\\training\\ExampleProject\\CalibrationExample.rsproj\n",
      "\n",
      "ERROR[16] log4net:ERROR Failed to find configuration section 'log4net' in the application's .config file. Check your .config file for the <log4net> and <configSections> elements. The configuration section should look like: <section name=\"log4net\" type=\"log4net.Config.Log4NetConfigurationSectionHandler,log4net\" />\n",
      "\n",
      "[16] Opening project file: D:\\src\\projects\\veneer-py\\doc\\training\\ExampleProject\\CalibrationExample.rsproj\n",
      "\n",
      "ERROR[17] log4net:ERROR Failed to find configuration section 'log4net' in the application's .config file. Check your .config file for the <log4net> and <configSections> elements. The configuration section should look like: <section name=\"log4net\" type=\"log4net.Config.Log4NetConfigurationSectionHandler,log4net\" />\n",
      "\n",
      "[17] Opening project file: D:\\src\\projects\\veneer-py\\doc\\training\\ExampleProject\\CalibrationExample.rsproj\n",
      "\n",
      "ERROR[18] log4net:ERROR Failed to find configuration section 'log4net' in the application's .config file. Check your .config file for the <log4net> and <configSections> elements. The configuration section should look like: <section name=\"log4net\" type=\"log4net.Config.Log4NetConfigurationSectionHandler,log4net\" />\n",
      "\n",
      "[18] Opening project file: D:\\src\\projects\\veneer-py\\doc\\training\\ExampleProject\\CalibrationExample.rsproj\n",
      "\n",
      "ERROR[19] log4net:ERROR Failed to find configuration section 'log4net' in the application's .config file. Check your .config file for the <log4net> and <configSections> elements. The configuration section should look like: <section name=\"log4net\" type=\"log4net.Config.Log4NetConfigurationSectionHandler,log4net\" />\n",
      "\n",
      "ERROR[0] log4net:ERROR Failed to find configuration section 'log4net' in the application's .config file. Check your .config file for the <log4net> and <configSections> elements. The configuration section should look like: <section name=\"log4net\" type=\"log4net.Config.Log4NetConfigurationSectionHandler,log4net\" />\n",
      "\n",
      "[0] Opening project file: D:\\src\\projects\\veneer-py\\doc\\training\\ExampleProject\\CalibrationExample.rsproj\n",
      "\n",
      "ERROR[1] log4net:ERROR Failed to find configuration section 'log4net' in the application's .config file. Check your .config file for the <log4net> and <configSections> elements. The configuration section should look like: <section name=\"log4net\" type=\"log4net.Config.Log4NetConfigurationSectionHandler,log4net\" />\n",
      "\n",
      "[1] Opening project file: D:\\src\\projects\\veneer-py\\doc\\training\\ExampleProject\\CalibrationExample.rsproj\n",
      "\n",
      "ERROR[2] log4net:ERROR Failed to find configuration section 'log4net' in the application's .config file. Check your .config file for the <log4net> and <configSections> elements. The configuration section should look like: <section name=\"log4net\" type=\"log4net.Config.Log4NetConfigurationSectionHandler,log4net\" />\n",
      "\n",
      "[2] Opening project file: D:\\src\\projects\\veneer-py\\doc\\training\\ExampleProject\\CalibrationExample.rsproj\n",
      "\n",
      "ERROR[4] log4net:ERROR Failed to find configuration section 'log4net' in the application's .config file. Check your .config file for the <log4net> and <configSections> elements. The configuration section should look like: <section name=\"log4net\" type=\"log4net.Config.Log4NetConfigurationSectionHandler,log4net\" />\n",
      "\n",
      "[4] Opening project file: D:\\src\\projects\\veneer-py\\doc\\training\\ExampleProject\\CalibrationExample.rsproj\n",
      "\n",
      "ERROR[5] log4net:ERROR Failed to find configuration section 'log4net' in the application's .config file. Check your .config file for the <log4net> and <configSections> elements. The configuration section should look like: <section name=\"log4net\" type=\"log4net.Config.Log4NetConfigurationSectionHandler,log4net\" />\n",
      "\n",
      "[5] Opening project file: D:\\src\\projects\\veneer-py\\doc\\training\\ExampleProject\\CalibrationExample.rsproj\n",
      "\n",
      "ERROR[6] log4net:ERROR Failed to find configuration section 'log4net' in the application's .config file. Check your .config file for the <log4net> and <configSections> elements. The configuration section should look like: <section name=\"log4net\" type=\"log4net.Config.Log4NetConfigurationSectionHandler,log4net\" />\n",
      "\n",
      "ERROR[7] log4net:ERROR Failed to find configuration section 'log4net' in the application's .config file. Check your .config file for the <log4net> and <configSections> elements. The configuration section should look like: <section name=\"log4net\" type=\"log4net.Config.Log4NetConfigurationSectionHandler,log4net\" />\n",
      "\n",
      "[7] Opening project file: D:\\src\\projects\\veneer-py\\doc\\training\\ExampleProject\\CalibrationExample.rsproj\n",
      "\n",
      "ERROR[9] log4net:ERROR Failed to find configuration section 'log4net' in the application's .config file. Check your .config file for the <log4net> and <configSections> elements. The configuration section should look like: <section name=\"log4net\" type=\"log4net.Config.Log4NetConfigurationSectionHandler,log4net\" />\n",
      "\n",
      "ERROR[10] log4net:ERROR Failed to find configuration section 'log4net' in the application's .config file. Check your .config file for the <log4net> and <configSections> elements. The configuration section should look like: <section name=\"log4net\" type=\"log4net.Config.Log4NetConfigurationSectionHandler,log4net\" />\n",
      "\n",
      "ERROR[11] log4net:ERROR Failed to find configuration section 'log4net' in the application's .config file. Check your .config file for the <log4net> and <configSections> elements. The configuration section should look like: <section name=\"log4net\" type=\"log4net.Config.Log4NetConfigurationSectionHandler,log4net\" />\n",
      "\n",
      "[11] Opening project file: D:\\src\\projects\\veneer-py\\doc\\training\\ExampleProject\\CalibrationExample.rsproj\n",
      "\n",
      "ERROR[13] log4net:ERROR Failed to find configuration section 'log4net' in the application's .config file. Check your .config file for the <log4net> and <configSections> elements. The configuration section should look like: <section name=\"log4net\" type=\"log4net.Config.Log4NetConfigurationSectionHandler,log4net\" />\n",
      "\n",
      "[15] Loading project\n",
      "\n",
      "[17] Loading project\n",
      "\n",
      "[19] Loading project\n",
      "\n",
      "[2] Loading project\n",
      "\n",
      "[3] Loading project\n",
      "\n",
      "[5] Loading project\n",
      "\n",
      "[9] Loading project\n",
      "\n",
      "[12] Loading project\n",
      "\n",
      "[14] Loading project\n",
      "\n",
      "[18] Loading project\n",
      "\n",
      "[0] Loading project\n",
      "\n",
      "[1] Loading project\n",
      "\n",
      "[4] Loading project\n",
      "\n",
      "[6] Loading project\n",
      "\n",
      "[7] Loading project\n",
      "\n",
      "[8] Loading project\n",
      "\n",
      "[10] Loading project\n",
      "\n",
      "[11] Loading project\n",
      "\n",
      "[13] Loading project\n",
      "\n",
      "[16] Loading project\n",
      "\n",
      "[15] Project Loaded\n",
      "\n",
      "[15] New Project\n",
      "\n",
      "[15] Scenario 1\n",
      "\n",
      "[17] Project Loaded\n",
      "\n",
      "[17] New Project\n",
      "\n",
      "[17] Scenario 1\n",
      "\n",
      "[17] [3:59:39 PM] Veneer, by Flow Matters: http://www.flowmatters.com.au\n",
      "\n",
      "[17] [3:59:39 PM] Started Source RESTful Service on port:9967\n",
      "\n",
      "Server 17 on port 9967 is ready\n",
      "[17] Server started. Ctrl-C to exit, or POST /shutdown command\n",
      "\n",
      "[19] Project Loaded\n",
      "\n",
      "[19] New Project\n",
      "\n",
      "[19] Scenario 1\n",
      "\n",
      "[1] Project Loaded\n",
      "\n",
      "[1] New Project\n",
      "\n",
      "[1] Scenario 1\n",
      "\n",
      "[2] Project Loaded\n",
      "\n",
      "[2] New Project\n",
      "\n",
      "[2] Scenario 1\n",
      "\n",
      "[3] Project Loaded\n",
      "\n",
      "[3] New Project\n",
      "\n",
      "[3] Scenario 1\n",
      "\n",
      "[3] [3:59:39 PM] Veneer, by Flow Matters: http://www.flowmatters.com.au\n",
      "\n",
      "[3] [3:59:39 PM] Started Source RESTful Service on port:9953\n",
      "\n",
      "Server 3 on port 9953 is ready\n",
      "[3] Server started. Ctrl-C to exit, or POST /shutdown command\n",
      "\n",
      "[5] Project Loaded\n",
      "\n",
      "[5] New Project\n",
      "\n",
      "[5] Scenario 1\n",
      "\n",
      "[6] Project Loaded\n",
      "\n",
      "[6] New Project\n",
      "\n",
      "[6] Scenario 1\n",
      "\n",
      "[8] Project Loaded\n",
      "\n",
      "[8] New Project\n",
      "\n",
      "[8] Scenario 1\n",
      "\n",
      "[9] Project Loaded\n",
      "\n",
      "[9] New Project\n",
      "\n",
      "[9] Scenario 1\n",
      "\n",
      "[11] Project Loaded\n",
      "\n",
      "[11] New Project\n",
      "\n",
      "[11] Scenario 1\n",
      "\n",
      "[12] Project Loaded\n",
      "\n",
      "[12] New Project\n",
      "\n",
      "[12] Scenario 1\n",
      "\n",
      "[13] Project Loaded\n",
      "\n",
      "[13] New Project\n",
      "\n",
      "[13] Scenario 1\n",
      "\n",
      "[14] Project Loaded\n",
      "\n",
      "[14] New Project\n",
      "\n",
      "[14] Scenario 1\n",
      "\n",
      "[14] [3:59:40 PM] Veneer, by Flow Matters: http://www.flowmatters.com.au\n",
      "\n",
      "[14] [3:59:40 PM] Started Source RESTful Service on port:9964\n",
      "\n",
      "Server 14 on port 9964 is ready\n",
      "[14] Server started. Ctrl-C to exit, or POST /shutdown command\n",
      "\n",
      "[15] [3:59:39 PM] Veneer, by Flow Matters: http://www.flowmatters.com.au\n",
      "\n",
      "[15] [3:59:39 PM] Started Source RESTful Service on port:9965\n",
      "\n",
      "Server 15 on port 9965 is ready\n",
      "[15] Server started. Ctrl-C to exit, or POST /shutdown command\n",
      "\n",
      "[16] Project Loaded\n",
      "\n",
      "[16] New Project\n",
      "\n",
      "[16] Scenario 1\n",
      "\n",
      "[18] Project Loaded\n",
      "\n",
      "[18] New Project\n",
      "\n",
      "[18] Scenario 1\n",
      "\n",
      "[19] [3:59:39 PM] Veneer, by Flow Matters: http://www.flowmatters.com.au\n",
      "\n",
      "[19] [3:59:39 PM] Started Source RESTful Service on port:9969\n",
      "\n",
      "Server 19 on port 9969 is ready\n",
      "[19] Server started. Ctrl-C to exit, or POST /shutdown command\n",
      "\n",
      "[0] Project Loaded\n",
      "\n",
      "[0] New Project\n",
      "\n",
      "[0] Scenario 1\n",
      "\n",
      "[1] [3:59:40 PM] Veneer, by Flow Matters: http://www.flowmatters.com.au\n",
      "\n",
      "[1] [3:59:40 PM] Started Source RESTful Service on port:9951\n",
      "\n",
      "Server 1 on port 9951 is ready\n",
      "[1] Server started. Ctrl-C to exit, or POST /shutdown command\n",
      "\n",
      "[2] [3:59:39 PM] Veneer, by Flow Matters: http://www.flowmatters.com.au\n",
      "\n",
      "[2] [3:59:39 PM] Started Source RESTful Service on port:9952\n",
      "\n",
      "Server 2 on port 9952 is ready\n",
      "[2] Server started. Ctrl-C to exit, or POST /shutdown command\n",
      "\n",
      "[4] Project Loaded\n",
      "\n",
      "[4] New Project\n",
      "\n",
      "[4] Scenario 1\n",
      "\n",
      "[5] [3:59:39 PM] Veneer, by Flow Matters: http://www.flowmatters.com.au\n",
      "\n",
      "[5] [3:59:39 PM] Started Source RESTful Service on port:9955\n",
      "\n",
      "Server 5 on port 9955 is ready\n",
      "[5] Server started. Ctrl-C to exit, or POST /shutdown command\n",
      "\n",
      "[6] [3:59:40 PM] Veneer, by Flow Matters: http://www.flowmatters.com.au\n",
      "\n",
      "[6] [3:59:40 PM] Started Source RESTful Service on port:9956\n",
      "\n",
      "Server 6 on port 9956 is ready\n",
      "[6] Server started. Ctrl-C to exit, or POST /shutdown command\n",
      "\n",
      "[7] Project Loaded\n",
      "\n",
      "[7] New Project\n",
      "\n",
      "[7] Scenario 1\n",
      "\n",
      "[9] [3:59:40 PM] Veneer, by Flow Matters: http://www.flowmatters.com.au\n",
      "\n",
      "[9] [3:59:40 PM] Started Source RESTful Service on port:9959\n",
      "\n",
      "Server 9 on port 9959 is ready\n",
      "[9] Server started. Ctrl-C to exit, or POST /shutdown command\n",
      "\n",
      "[10] Project Loaded\n",
      "\n",
      "[10] New Project\n",
      "\n",
      "[10] Scenario 1\n",
      "\n",
      "[11] [3:59:40 PM] Veneer, by Flow Matters: http://www.flowmatters.com.au\n",
      "\n",
      "[11] [3:59:40 PM] Started Source RESTful Service on port:9961\n",
      "\n",
      "Server 11 on port 9961 is ready\n",
      "[11] Server started. Ctrl-C to exit, or POST /shutdown command\n",
      "\n",
      "[12] [3:59:40 PM] Veneer, by Flow Matters: http://www.flowmatters.com.au\n",
      "\n",
      "[12] [3:59:40 PM] Started Source RESTful Service on port:9962\n",
      "\n",
      "Server 12 on port 9962 is ready\n",
      "[12] Server started. Ctrl-C to exit, or POST /shutdown command\n",
      "\n",
      "[18] [3:59:40 PM] Veneer, by Flow Matters: http://www.flowmatters.com.au\n",
      "\n",
      "[18] [3:59:40 PM] Started Source RESTful Service on port:9968\n",
      "\n",
      "Server 18 on port 9968 is ready\n",
      "[18] Server started. Ctrl-C to exit, or POST /shutdown command\n",
      "\n",
      "[0] [3:59:40 PM] Veneer, by Flow Matters: http://www.flowmatters.com.au\n",
      "\n",
      "[0] [3:59:40 PM] Started Source RESTful Service on port:9950\n",
      "\n",
      "Server 0 on port 9950 is ready\n",
      "[0] Server started. Ctrl-C to exit, or POST /shutdown command\n",
      "\n",
      "[4] [3:59:40 PM] Veneer, by Flow Matters: http://www.flowmatters.com.au\n",
      "\n",
      "[4] [3:59:40 PM] Started Source RESTful Service on port:9954\n",
      "\n",
      "Server 4 on port 9954 is ready\n",
      "[4] Server started. Ctrl-C to exit, or POST /shutdown command\n",
      "\n",
      "[7] [3:59:40 PM] Veneer, by Flow Matters: http://www.flowmatters.com.au\n",
      "\n",
      "[7] [3:59:40 PM] Started Source RESTful Service on port:9957\n",
      "\n",
      "Server 7 on port 9957 is ready\n",
      "[7] Server started. Ctrl-C to exit, or POST /shutdown command\n",
      "\n",
      "[8] [3:59:40 PM] Veneer, by Flow Matters: http://www.flowmatters.com.au\n",
      "\n",
      "[8] [3:59:40 PM] Started Source RESTful Service on port:9958\n",
      "\n",
      "Server 8 on port 9958 is ready\n",
      "[8] Server started. Ctrl-C to exit, or POST /shutdown command\n",
      "\n",
      "[13] [3:59:40 PM] Veneer, by Flow Matters: http://www.flowmatters.com.au\n",
      "\n",
      "[13] [3:59:40 PM] Started Source RESTful Service on port:9963\n",
      "\n",
      "Server 13 on port 9963 is ready\n",
      "[13] Server started. Ctrl-C to exit, or POST /shutdown command\n",
      "\n",
      "[16] [3:59:40 PM] Veneer, by Flow Matters: http://www.flowmatters.com.au\n",
      "\n",
      "[16] [3:59:40 PM] Started Source RESTful Service on port:9966\n",
      "\n",
      "Server 16 on port 9966 is ready\n",
      "[16] Server started. Ctrl-C to exit, or POST /shutdown command\n",
      "\n",
      "[10] [3:59:40 PM] Veneer, by Flow Matters: http://www.flowmatters.com.au\n",
      "\n",
      "[10] [3:59:40 PM] Started Source RESTful Service on port:9960\n",
      "\n",
      "Server 10 on port 9960 is ready\n",
      "[10] Server started. Ctrl-C to exit, or POST /shutdown command\n",
      "\n"
     ]
    }
   ],
   "source": [
    "processes,ports = start(catchment_project,\n",
    "                        n_instances=num_copies,\n",
    "                        ports=first_port,\n",
    "                        debug=True,\n",
    "                        veneer_exe=path,\n",
    "                        remote=False)"
   ]
  },
  {
   "cell_type": "markdown",
   "metadata": {
    "collapsed": true
   },
   "source": [
    "Also as before, we need a copy of the Veneer client for each copy of the server:"
   ]
  },
  {
   "cell_type": "code",
   "execution_count": 5,
   "metadata": {
    "collapsed": false
   },
   "outputs": [],
   "source": [
    "vs = [veneer.Veneer(port=p) for p in ports]"
   ]
  },
  {
   "cell_type": "markdown",
   "metadata": {},
   "source": [
    "### The catchment\n",
    "\n",
    "We haven't used this project in the earlier tutorials. We can query any of the servers for the network (just as we would if Veneer were running within the Source application)"
   ]
  },
  {
   "cell_type": "code",
   "execution_count": 6,
   "metadata": {
    "collapsed": false
   },
   "outputs": [
    {
     "data": {
      "text/plain": [
       "<matplotlib.axes._subplots.AxesSubplot at 0x64879b0>"
      ]
     },
     "execution_count": 6,
     "metadata": {},
     "output_type": "execute_result"
    },
    {
     "data": {
      "image/png": "[encoded data removed]",
      "text/plain": [
       "<matplotlib.figure.Figure at 0x6487080>"
      ]
     },
     "metadata": {},
     "output_type": "display_data"
    }
   ],
   "source": [
    "%matplotlib inline\n",
    "v = vs[0]\n",
    "v.network().as_dataframe().plot()"
   ]
  },
  {
   "cell_type": "markdown",
   "metadata": {},
   "source": [
    "## Describing the PEST 'Job'\n",
    "\n",
    "When configuring PEST to work with a particular model, you 'teach' PEST how to communicate with the model by describing the format of one or more text input files expected by the model and one or more text output files produced by the model. PEST will then generate updated input files for each simulation and read the updated output files that result from the simulation.\n",
    "\n",
    "veneer-py has some basic functionality for setting up PEST runs that avoids the need to directly edit the PEST configuration files.\n",
    "\n",
    "With veneer-py, you can describe a PEST job in Python, including describing the Source model parameters that you want to calibrate and the outputs that you want to calibrate against.\n",
    "\n",
    "veneer-py will then write out the following PEST configuration files and invoke PEST:\n",
    "\n",
    "* **PTF:** A PEST Template File, which describes how to run the model, including setting relevant model parameters and ensuring that the required model outputs are produced. PEST will substitute model parameters into this file, based on the configuration in the PCF. In the case of veneer-py, the PTF is a template of a Python script, which uses veneer-py to connect to a Source/Veneer server, sets parameters, runs the model and then compares results using defined statistics.\n",
    "* **PIF:** A PEST Instruction File, which tells PEST where to find the observations that it needs for evaluating a simulation. In the case of veneer-py, these outputs are produced by the logic in the PTF.\n",
    "* **PCF:** A PEST Control File, which desribes the parameters to be optimised and the observations to optimise to, as well as how to run the model.\n",
    "* **PRF:** (OPTIONAL), used when performing a parallel calibration with more than one Veneer/Source server. Describes where (on the filesystem) to run the model from.\n",
    "\n",
    "To establish all these files and run a PEST job, you can use functionality in veneer-py to describe a PEST 'Case'.\n",
    "\n",
    "The 'Case' will ultimately know everything about the calibration\n",
    "\n",
    "* what parameters you are calibrating and how they are constrained,\n",
    "* what you are calibrating to,\n",
    "* how many Source servers you have at your disposal\n",
    "* any options related to PEST, such as which optimisation routine to use"
   ]
  },
  {
   "cell_type": "code",
   "execution_count": 13,
   "metadata": {
    "collapsed": true
   },
   "outputs": [],
   "source": [
    "from veneer.pest import Case"
   ]
  },
  {
   "cell_type": "markdown",
   "metadata": {},
   "source": [
    "At very least, we need to give a Case a `name` - which is the basis for all the filenames that will be written out.\n",
    "\n",
    "You can also specify:\n",
    "\n",
    "* an optimiser (the default is `pest`, but the PEST software also comes several others)\n",
    "* a list of Veneer/Source servers, described as a list of ports\n",
    "* a random number seed in order to either make the optimisation deterministic or allow random variation\n"
   ]
  },
  {
   "cell_type": "code",
   "execution_count": 15,
   "metadata": {
    "collapsed": false
   },
   "outputs": [],
   "source": [
    "calibration = Case('CalibrationCase',optimiser='cmaes_p',model_servers=ports)"
   ]
  },
  {
   "cell_type": "markdown",
   "metadata": {},
   "source": [
    "PEST has many options - most of which we leave at default. One option that we currently need is to put PEST into single precision mode. This is because PEST, in double precision mode, uses a syntax for floating point literals that is not valid Python:"
   ]
  },
  {
   "cell_type": "code",
   "execution_count": 16,
   "metadata": {
    "collapsed": true
   },
   "outputs": [],
   "source": [
    "calibration.options['PRECIS']='single' "
   ]
  },
  {
   "cell_type": "markdown",
   "metadata": {},
   "source": [
    "### Configuring the calibration parameters\n",
    "\n",
    "PEST needs to be told about the calibration parameters\n",
    "\n",
    "This is a two step process:\n",
    "* Specify how to apply the parameter (using a statement as you would in Veneer. eg `model.catchment.runoff.set_param_values('baseflowCoefficient',0.5,fus=list(fu_types))` but with the actual value (`0.5`) changed to the PEST parameter name, with markers (eg `@v_bfCoeff@`). This information forms part of a dynamically generated Python script that PEST will modify and run for each simulation\n",
    "* Tell PEST about the parameter, including its range.\n",
    "  * This forms part of the PEST control file\n",
    "  * In addition to the range, we also specify the initial value.\n",
    "  * We set the initial value to be halfway between the min and max\n",
    "\n",
    "We're performing a rainfall runoff calibration, with the four parameter GR4J rainfall runoff used in the model\n",
    "\n",
    "We're going to perform a lumped calibration - ie one parameter set everywhere - but we could, alternatively, calibrate distinct parameters by functional unit type, or in different parts of the catchment."
   ]
  },
  {
   "cell_type": "code",
   "execution_count": 17,
   "metadata": {
    "collapsed": false
   },
   "outputs": [
    {
     "data": {
      "text/plain": [
       "['TIME.Models.RainfallRunoff.GR4J.GR4J']"
      ]
     },
     "execution_count": 17,
     "metadata": {},
     "output_type": "execute_result"
    }
   ],
   "source": [
    "v.model.find_model_type('GR4J')"
   ]
  },
  {
   "cell_type": "code",
   "execution_count": 18,
   "metadata": {
    "collapsed": false
   },
   "outputs": [
    {
     "data": {
      "text/plain": [
       "['C', 'k', 'x1', 'x2', 'x3', 'x4']"
      ]
     },
     "execution_count": 18,
     "metadata": {},
     "output_type": "execute_result"
    }
   ],
   "source": [
    "params = v.model.find_parameters('TIME.Models.RainfallRunoff.GR4J.GR4J')\n",
    "params"
   ]
  },
  {
   "cell_type": "markdown",
   "metadata": {},
   "source": [
    "We only want to calibrate `x1`-`x4` - (`C` and `k` are specific to the eWater version of GR4J - they provide a baseflow filter)"
   ]
  },
  {
   "cell_type": "code",
   "execution_count": 19,
   "metadata": {
    "collapsed": false
   },
   "outputs": [
    {
     "data": {
      "text/plain": [
       "['x1', 'x2', 'x3', 'x4']"
      ]
     },
     "execution_count": 19,
     "metadata": {},
     "output_type": "execute_result"
    }
   ],
   "source": [
    "params = params[2:]\n",
    "params"
   ]
  },
  {
   "cell_type": "markdown",
   "metadata": {},
   "source": [
    "We need to assign ranges to each of these. The model implementation in Source has metadata about suitable ranges - but at this stage, there isn't an easy way to interrogate that information from veneer-py. You can check in the Source user interface (`Edit|Rainfall Runoff Models`) to see the ranges.\n",
    "\n",
    "Having done that, we'll construct a Python dictionary of parameter ranges\n",
    "\n",
    "**Note:** These are quite narrow ranges for GR4J. This is done to keep the optimisation short in the context of the tutorial (and because the 'observed' data is actually synthetic data generated from Source)"
   ]
  },
  {
   "cell_type": "code",
   "execution_count": 20,
   "metadata": {
    "collapsed": false
   },
   "outputs": [
    {
     "data": {
      "text/plain": [
       "{'x1': [100.0, 500.0], 'x2': [1.0, 5.0], 'x3': [1.0, 200.0], 'x4': [0.5, 3.0]}"
      ]
     },
     "execution_count": 20,
     "metadata": {},
     "output_type": "execute_result"
    }
   ],
   "source": [
    "ranges = {\n",
    "    'x1':[100.0,500.0],\n",
    "    'x2':[1.0,5.0],\n",
    "    'x3':[1.0,200.0],\n",
    "    'x4':[0.5,3.0]\n",
    "}\n",
    "ranges"
   ]
  },
  {
   "cell_type": "markdown",
   "metadata": {},
   "source": [
    "Now, we can loop over each parameter and 'teach' PEST about it - ie tell PEST how to modify the parameter and tell PEST what range we want to calibrate over:"
   ]
  },
  {
   "cell_type": "code",
   "execution_count": 21,
   "metadata": {
    "collapsed": false
   },
   "outputs": [
    {
     "name": "stdout",
     "output_type": "stream",
     "text": [
      "Configuring x1\n",
      "Configuring x2\n",
      "Configuring x4\n",
      "Configuring x3\n"
     ]
    }
   ],
   "source": [
    "for param,param_range in ranges.items():\n",
    "    print('Configuring %s'%param)\n",
    "\n",
    "    pest_pname = '$'+param+'$'\n",
    "\n",
    "    # 1. Tell PEST how to set the parameter\n",
    "    calibration.parameters.model.catchment.runoff.set_param_values(param,pest_pname)\n",
    "\n",
    "    # 2. Details of the PEST parameter. name, starting value, min, max\n",
    "\n",
    "    # Decide what to use for the initial value... half way between min and max!\n",
    "    initial = 0.5*(param_range[0]+param_range[1])\n",
    "    \n",
    "    calibration.parameters.describe(pest_pname,initial,param_range[0],param_range[1])"
   ]
  },
  {
   "cell_type": "markdown",
   "metadata": {},
   "source": [
    "**Note:** When we tell PEST how to set the parameter in the model, we use a Python statement that looks similar to statements from earlier sessions:\n",
    "```python\n",
    "calibration.parameters.model.catchment.runoff.set_param_values(param,pest_pname)\n",
    "# is similar to\n",
    "v.model.catchment.runoff.set_param_values(param,value)\n",
    "```\n",
    "The instructions to PEST will in fact translate to instructions to a Veneer client (`v`). So everything after `.parameter.` should be something you can call on a Veneer client. The other main difference is that, instead of passing in an actual value at this point, you pass `pest_pname`, which will be something like `$x1$` and will get translated to an actual value at runtime.\n"
   ]
  },
  {
   "cell_type": "markdown",
   "metadata": {},
   "source": [
    "The previous code has gone some way towards configuring the PEST job. We can get a preview of what has been achieved by asking to see the configuration as it stands.\n",
    "\n",
    "First, the state of the PTF (PEST Template File). You can see that it looks very much like a Python script, except where it has references to things like `$x1$` and the like"
   ]
  },
  {
   "cell_type": "code",
   "execution_count": 22,
   "metadata": {
    "collapsed": false
   },
   "outputs": [
    {
     "name": "stdout",
     "output_type": "stream",
     "text": [
      "ptf $\n",
      "from veneer.pest_runtime import *\n",
      "from veneer import Veneer\n",
      "from veneer.stats import * \n",
      "import pandas as pd\n",
      "from veneer import general\n",
      "\n",
      "general.PRINT_URLS=False\n",
      "veneer_port=find_port()\n",
      "v = Veneer(port=veneer_port)\n",
      "v.model.catchment.runoff.set_param_values('x1',$x1$)\n",
      "v.model.catchment.runoff.set_param_values('x2',$x2$)\n",
      "v.model.catchment.runoff.set_param_values('x4',$x4$)\n",
      "v.model.catchment.runoff.set_param_values('x3',$x3$)\n",
      "# Run Model\n",
      "v.drop_all_runs()\n",
      "v.run_model(**{})\n",
      "\n",
      "observed_ts={}\n",
      "pest_observations=[]\n",
      "\n",
      "# Get results\n",
      "run_results = v.retrieve_run()\n",
      "\n",
      "# Compute stats\n",
      "\n",
      "\n",
      "\n",
      "# Write summary results\n",
      "print(pest_observations)\n",
      "write_outputs(pest_observations,'_CalibrationCase_output.txt')\n",
      "write_outputs(pest_observations,'__outputs_to_keep.txt')\n",
      "\n"
     ]
    }
   ],
   "source": [
    "print(calibration.ptf_text())"
   ]
  },
  {
   "cell_type": "markdown",
   "metadata": {},
   "source": [
    "There are still gaps in the PTF - eg the `# Compute Stats` section - that will come as we describe the outputs and observations.\n",
    "\n",
    "The PCF (PEST Control File) is also partly complete:"
   ]
  },
  {
   "cell_type": "code",
   "execution_count": 23,
   "metadata": {
    "collapsed": false
   },
   "outputs": [
    {
     "name": "stdout",
     "output_type": "stream",
     "text": [
      "pcf\n",
      "* control data\n",
      "restart estimation\n",
      "4 0 1 0 1  \n",
      "1 1 single point    \n",
      "10.0 2.0 0.3 0.03 8   \n",
      "10.0 10.0 0.001   \n",
      "0.1     \n",
      "50 0.005 4 4 0.005 4   \n",
      "1 1 1       \n",
      "* singular value decomposition\n",
      "1\n",
      "4 5e-07\n",
      "0\n",
      "* parameter groups\n",
      "default_pg relative 0.001 0.0001 switch 1.5 parabolic   \n",
      "* parameter data\n",
      "x1 none factor 300.0 100.0 500.0 default_pg 1.0 0.0 1\n",
      "x2 none factor 3.0 1.0 5.0 default_pg 1.0 0.0 1\n",
      "x4 none factor 1.75 0.5 3.0 default_pg 1.0 0.0 1\n",
      "x3 none factor 100.5 1.0 200.0 default_pg 1.0 0.0 1 \n",
      "* observation groups\n",
      "default_og  \n",
      "* observation data\n",
      "\n",
      "* model command line\n",
      "python _run_CalibrationCase.py\n",
      "* model input/output\n",
      "_run_CalibrationCase.tpl _run_CalibrationCase.py\n",
      "_CalibrationCase_output.ins _CalibrationCase_output.txt\n",
      "\n"
     ]
    }
   ],
   "source": [
    "print(calibration.pcf_text())"
   ]
  },
  {
   "cell_type": "markdown",
   "metadata": {},
   "source": [
    "**Note:** There are a lot of options in the PCF - and we are using defaults. They are very well described in the PEST Manual and can be specified using `calibration.options`"
   ]
  },
  {
   "cell_type": "code",
   "execution_count": 24,
   "metadata": {
    "collapsed": false
   },
   "outputs": [
    {
     "data": {
      "text/plain": [
       "OrderedDict([('NPAR', None), ('NOBS', None), ('NPARGP', 1), ('NPRIOR', 0), ('NOBSGP', 1), ('MAXCOMPDIM', ''), ('DERZEROLIM', ''), ('NTPLFLE', None), ('NINSFLE', None), ('PRECIS', 'single'), ('DPOINT', 'point'), ('NUMCOM', ''), ('JACFILE', ''), ('MESSFILE', ''), ('OBSREREF', ''), ('RLAMBDA1', 10.0), ('RLAMFAC', 2.0), ('PHIRATSUF', 0.3), ('PHIREDLAM', 0.03), ('NUMLAM', 8), ('JACUPDATE', ''), ('LAMFORGIVE', ''), ('DERFORGIVE', ''), ('RELPARMAX', 10.0), ('FACPARMAX', 10.0), ('FACORIG', 0.001), ('IBOUNDSTICK', ''), ('UPVECBEND', ''), ('ABSPARMAX', ''), ('PHIREDSWH', 0.1), ('NOPTSWITCH', ''), ('SPLITSWH', ''), ('DOAUI', ''), ('DOSENREUSE', ''), ('BOUNDSCALE', ''), ('NOPTMAX', 50), ('PHIREDSTP', 0.005), ('NPHISTP', 4), ('NPHINORED', 4), ('RELPARSTP', 0.005), ('NRELPAR', 4), ('PHISTOPTHRESH', ''), ('LASTRUN', ''), ('PHIABANDON', ''), ('ICOV', 1), ('ICOR', 1), ('IEIG', 1), ('IRES', ''), ('JCOSAVE', ''), ('VERBOSEREC', ''), ('JCOSAVEITN', ''), ('REISAVEITN', ''), ('PARSAVEITN', ''), ('PARSAVERUN', ''), ('SVDMODE', 1), ('MAXSING', None), ('EIGTHRESH', 5e-07), ('EIGWRITE', 0), ('SIM_OPTIONS', {})])"
      ]
     },
     "execution_count": 24,
     "metadata": {},
     "output_type": "execute_result"
    }
   ],
   "source": [
    "calibration.options"
   ]
  },
  {
   "cell_type": "markdown",
   "metadata": {},
   "source": [
    "### Configuring the outputs and observations\n",
    "\n",
    "PEST needs to know what its calibrating to. In our case, that means a time series of observed data, and a corresponding modelled time series. We also need the objective function and the time period for the calibration.\n",
    "\n",
    "PEST has a tool for processing time series data (TSPROC) but we don't use it here. Rather, we compute the objective values in Python and just pass single numbers back to PEST.\n",
    "\n",
    "We'll start by loading the observed flow time series data into this notebook and exploring the data a bit...\n",
    "\n",
    "**Note**: Loading the data at this point serves two purposes:\n",
    "1. We become more familiar with the data and can identify things like the time period we want to calibrate over, and\n",
    "2. We work out the exact `pandas` command needed to load the data. We need to give this command to PEST later on to call as part of the simulations..."
   ]
  },
  {
   "cell_type": "code",
   "execution_count": 26,
   "metadata": {
    "collapsed": false
   },
   "outputs": [
    {
     "data": {
      "text/html": [
       "<div>\n",
       "<table border=\"1\" class=\"dataframe\">\n",
       "  <thead>\n",
       "    <tr style=\"text-align: right;\">\n",
       "      <th></th>\n",
       "      <th>Flow</th>\n",
       "    </tr>\n",
       "    <tr>\n",
       "      <th>Date</th>\n",
       "      <th></th>\n",
       "    </tr>\n",
       "  </thead>\n",
       "  <tbody>\n",
       "    <tr>\n",
       "      <th>2007-01-01</th>\n",
       "      <td>0.000000e+00</td>\n",
       "    </tr>\n",
       "    <tr>\n",
       "      <th>2007-02-20</th>\n",
       "      <td>1.103490e+00</td>\n",
       "    </tr>\n",
       "    <tr>\n",
       "      <th>2007-04-11</th>\n",
       "      <td>1.305575e+03</td>\n",
       "    </tr>\n",
       "    <tr>\n",
       "      <th>2007-05-31</th>\n",
       "      <td>3.417483e+03</td>\n",
       "    </tr>\n",
       "    <tr>\n",
       "      <th>2007-07-20</th>\n",
       "      <td>1.441880e+04</td>\n",
       "    </tr>\n",
       "    <tr>\n",
       "      <th>2007-09-08</th>\n",
       "      <td>1.650685e+05</td>\n",
       "    </tr>\n",
       "    <tr>\n",
       "      <th>2007-10-28</th>\n",
       "      <td>7.711668e+06</td>\n",
       "    </tr>\n",
       "    <tr>\n",
       "      <th>2007-12-17</th>\n",
       "      <td>3.111951e+06</td>\n",
       "    </tr>\n",
       "    <tr>\n",
       "      <th>2008-02-05</th>\n",
       "      <td>2.460641e+06</td>\n",
       "    </tr>\n",
       "    <tr>\n",
       "      <th>2008-03-26</th>\n",
       "      <td>3.217175e+06</td>\n",
       "    </tr>\n",
       "    <tr>\n",
       "      <th>2008-05-15</th>\n",
       "      <td>2.234289e+06</td>\n",
       "    </tr>\n",
       "    <tr>\n",
       "      <th>2008-07-04</th>\n",
       "      <td>2.927276e+06</td>\n",
       "    </tr>\n",
       "    <tr>\n",
       "      <th>2008-08-23</th>\n",
       "      <td>1.932046e+06</td>\n",
       "    </tr>\n",
       "    <tr>\n",
       "      <th>2008-10-12</th>\n",
       "      <td>1.772153e+06</td>\n",
       "    </tr>\n",
       "    <tr>\n",
       "      <th>2008-12-01</th>\n",
       "      <td>3.613313e+06</td>\n",
       "    </tr>\n",
       "    <tr>\n",
       "      <th>2009-01-20</th>\n",
       "      <td>2.899430e+06</td>\n",
       "    </tr>\n",
       "    <tr>\n",
       "      <th>2009-03-11</th>\n",
       "      <td>1.726069e+06</td>\n",
       "    </tr>\n",
       "    <tr>\n",
       "      <th>2009-04-30</th>\n",
       "      <td>1.006491e+06</td>\n",
       "    </tr>\n",
       "    <tr>\n",
       "      <th>2009-06-19</th>\n",
       "      <td>1.679338e+06</td>\n",
       "    </tr>\n",
       "    <tr>\n",
       "      <th>2009-08-08</th>\n",
       "      <td>1.441411e+06</td>\n",
       "    </tr>\n",
       "    <tr>\n",
       "      <th>2009-09-27</th>\n",
       "      <td>5.468952e+06</td>\n",
       "    </tr>\n",
       "    <tr>\n",
       "      <th>2009-11-16</th>\n",
       "      <td>7.615090e+06</td>\n",
       "    </tr>\n",
       "    <tr>\n",
       "      <th>2010-01-05</th>\n",
       "      <td>4.580939e+06</td>\n",
       "    </tr>\n",
       "    <tr>\n",
       "      <th>2010-02-24</th>\n",
       "      <td>2.181879e+06</td>\n",
       "    </tr>\n",
       "    <tr>\n",
       "      <th>2010-04-15</th>\n",
       "      <td>1.539815e+06</td>\n",
       "    </tr>\n",
       "    <tr>\n",
       "      <th>2010-06-04</th>\n",
       "      <td>1.660170e+06</td>\n",
       "    </tr>\n",
       "    <tr>\n",
       "      <th>2010-07-24</th>\n",
       "      <td>1.330355e+06</td>\n",
       "    </tr>\n",
       "    <tr>\n",
       "      <th>2010-09-12</th>\n",
       "      <td>3.419601e+06</td>\n",
       "    </tr>\n",
       "    <tr>\n",
       "      <th>2010-11-01</th>\n",
       "      <td>3.786437e+06</td>\n",
       "    </tr>\n",
       "    <tr>\n",
       "      <th>2010-12-21</th>\n",
       "      <td>3.170745e+06</td>\n",
       "    </tr>\n",
       "  </tbody>\n",
       "</table>\n",
       "</div>"
      ],
      "text/plain": [
       "                    Flow\n",
       "Date                    \n",
       "2007-01-01  0.000000e+00\n",
       "2007-02-20  1.103490e+00\n",
       "2007-04-11  1.305575e+03\n",
       "2007-05-31  3.417483e+03\n",
       "2007-07-20  1.441880e+04\n",
       "2007-09-08  1.650685e+05\n",
       "2007-10-28  7.711668e+06\n",
       "2007-12-17  3.111951e+06\n",
       "2008-02-05  2.460641e+06\n",
       "2008-03-26  3.217175e+06\n",
       "2008-05-15  2.234289e+06\n",
       "2008-07-04  2.927276e+06\n",
       "2008-08-23  1.932046e+06\n",
       "2008-10-12  1.772153e+06\n",
       "2008-12-01  3.613313e+06\n",
       "2009-01-20  2.899430e+06\n",
       "2009-03-11  1.726069e+06\n",
       "2009-04-30  1.006491e+06\n",
       "2009-06-19  1.679338e+06\n",
       "2009-08-08  1.441411e+06\n",
       "2009-09-27  5.468952e+06\n",
       "2009-11-16  7.615090e+06\n",
       "2010-01-05  4.580939e+06\n",
       "2010-02-24  2.181879e+06\n",
       "2010-04-15  1.539815e+06\n",
       "2010-06-04  1.660170e+06\n",
       "2010-07-24  1.330355e+06\n",
       "2010-09-12  3.419601e+06\n",
       "2010-11-01  3.786437e+06\n",
       "2010-12-21  3.170745e+06"
      ]
     },
     "execution_count": 26,
     "metadata": {},
     "output_type": "execute_result"
    }
   ],
   "source": [
    "import pandas as pd\n",
    "flows = pd.read_csv('SyntheticObservedFlow.csv',parse_dates=True,dayfirst=True,index_col=0)\n",
    "flows[0::50] # Show every fifty days"
   ]
  },
  {
   "cell_type": "code",
   "execution_count": 27,
   "metadata": {
    "collapsed": false
   },
   "outputs": [
    {
     "data": {
      "text/plain": [
       "<matplotlib.axes._subplots.AxesSubplot at 0xf489080>"
      ]
     },
     "execution_count": 27,
     "metadata": {},
     "output_type": "execute_result"
    },
    {
     "data": {
      "image/png": "[encoded data removed]",
      "text/plain": [
       "<matplotlib.figure.Figure at 0xe89af98>"
      ]
     },
     "metadata": {},
     "output_type": "display_data"
    }
   ],
   "source": [
    "flows.plot()"
   ]
  },
  {
   "cell_type": "markdown",
   "metadata": {},
   "source": [
    "**Note:** If your observed data had gaps during your simulation period, this would be a good point to establish the overlapping period in order to inform the simulation/calibration dates.\n",
    "\n",
    "In our case, the data aligns with the simulation, so the simulation dates we want are just the start and end of the time series:"
   ]
  },
  {
   "cell_type": "code",
   "execution_count": 28,
   "metadata": {
    "collapsed": false
   },
   "outputs": [
    {
     "data": {
      "text/plain": [
       "(Timestamp('2007-01-01 00:00:00'), Timestamp('2010-12-31 00:00:00'))"
      ]
     },
     "execution_count": 28,
     "metadata": {},
     "output_type": "execute_result"
    }
   ],
   "source": [
    "start,end = flows.index[[0,-1]]\n",
    "start,end"
   ]
  },
  {
   "cell_type": "markdown",
   "metadata": {},
   "source": [
    "This (synthetic) observed flow sequence relates to the (synthetic) gauge towards the bottom of the system. What was it called?"
   ]
  },
  {
   "cell_type": "code",
   "execution_count": 29,
   "metadata": {
    "collapsed": false
   },
   "outputs": [
    {
     "data": {
      "text/plain": [
       "['G123456A',\n",
       " 'Generated node name #1',\n",
       " 'Generated node name #2',\n",
       " 'Generated node name #3',\n",
       " 'Generated node name #4',\n",
       " 'Generated node name #5',\n",
       " 'Generated node name #6',\n",
       " 'Generated node name #7',\n",
       " 'Generated node name #8',\n",
       " 'Generated node name #9',\n",
       " 'Generated node name #10',\n",
       " 'Generated node name #11',\n",
       " 'Generated node name #12',\n",
       " 'Generated node name #13',\n",
       " 'Generated node name #14',\n",
       " 'Generated node name #15',\n",
       " 'Generated node name #16',\n",
       " 'Generated node name #17',\n",
       " 'Generated node name #18',\n",
       " 'Generated node name #19',\n",
       " 'Generated node name #20',\n",
       " 'Generated node name #21',\n",
       " 'Generated node name #22',\n",
       " 'Generated node name #23',\n",
       " 'Generated node name #24',\n",
       " 'Generated node name #25',\n",
       " 'Generated node name #26',\n",
       " 'Generated node name #27',\n",
       " 'Generated node name #28']"
      ]
     },
     "execution_count": 29,
     "metadata": {},
     "output_type": "execute_result"
    }
   ],
   "source": [
    "network = v.network()\n",
    "nodes = network['features'].find_by_feature_type('node')\n",
    "nodes._all_values('name')"
   ]
  },
  {
   "cell_type": "markdown",
   "metadata": {},
   "source": [
    "Aaah, we want `'G123456A'`"
   ]
  },
  {
   "cell_type": "code",
   "execution_count": 30,
   "metadata": {
    "collapsed": true
   },
   "outputs": [],
   "source": [
    "calibration_node = 'G123456A'"
   ]
  },
  {
   "cell_type": "markdown",
   "metadata": {},
   "source": [
    "Now we can tell PEST about the observations and the comparison we want.\n",
    "\n",
    "We need to tell PEST how to load the observed data - and the pandas command we used to do a test load will help:\n",
    "\n",
    "```python\n",
    "pd.read_csv('SyntheticObservedFlow.csv',parse_dates=True,dayfirst=True,index_col=0)\n",
    "# will become\n",
    "calibration.observations.data.read_csv('SyntheticObservedFlow.csv',parse_dates=True,dayfirst=True,index_col=0)\n",
    "```\n"
   ]
  },
  {
   "cell_type": "code",
   "execution_count": 31,
   "metadata": {
    "collapsed": true
   },
   "outputs": [],
   "source": [
    "calibration.observations.data.read_csv('SyntheticObservedFlow.csv',parse_dates=True,dayfirst=True,index_col=0)"
   ]
  },
  {
   "cell_type": "markdown",
   "metadata": {},
   "source": [
    "And we can set up the comparison"
   ]
  },
  {
   "cell_type": "code",
   "execution_count": 32,
   "metadata": {
    "collapsed": true
   },
   "outputs": [],
   "source": [
    "comparison={'NetworkElement':calibration_node,'RecordingVariable':'Downstream Flow Volume'}"
   ]
  },
  {
   "cell_type": "markdown",
   "metadata": {},
   "source": [
    "veneer-py configures the observation based on the column name in the observed flow file (so that you can have multiple comparisons from different columns and files)"
   ]
  },
  {
   "cell_type": "code",
   "execution_count": 33,
   "metadata": {
    "collapsed": false
   },
   "outputs": [
    {
     "data": {
      "text/plain": [
       "Index(['Flow'], dtype='object')"
      ]
     },
     "execution_count": 33,
     "metadata": {},
     "output_type": "execute_result"
    }
   ],
   "source": [
    "flows.columns"
   ]
  },
  {
   "cell_type": "markdown",
   "metadata": {},
   "source": [
    "We also need to reference a stats function. You can write your own (but you'll need to store it in a `.py` file) or you can access one from `veneer.stats`"
   ]
  },
  {
   "cell_type": "code",
   "execution_count": 34,
   "metadata": {
    "collapsed": true
   },
   "outputs": [],
   "source": [
    "from veneer import stats"
   ]
  },
  {
   "cell_type": "code",
   "execution_count": 35,
   "metadata": {
    "collapsed": false
   },
   "outputs": [
    {
     "data": {
      "text/plain": [
       "['PBIAS',\n",
       " '__builtins__',\n",
       " '__cached__',\n",
       " '__doc__',\n",
       " '__file__',\n",
       " '__loader__',\n",
       " '__name__',\n",
       " '__package__',\n",
       " '__spec__',\n",
       " 'intersect',\n",
       " 'ioad',\n",
       " 'nse',\n",
       " 'ppmc',\n",
       " 'rae',\n",
       " 'rsr']"
      ]
     },
     "execution_count": 35,
     "metadata": {},
     "output_type": "execute_result"
    }
   ],
   "source": [
    "dir(stats)"
   ]
  },
  {
   "cell_type": "code",
   "execution_count": 36,
   "metadata": {
    "collapsed": false
   },
   "outputs": [
    {
     "name": "stdout",
     "output_type": "stream",
     "text": [
      "Help on function nse in module veneer.stats:\n",
      "\n",
      "nse(obs, pred)\n",
      "    Nash-Sutcliffe Efficiency\n",
      "\n"
     ]
    }
   ],
   "source": [
    "help(stats.nse)"
   ]
  },
  {
   "cell_type": "code",
   "execution_count": 37,
   "metadata": {
    "collapsed": true
   },
   "outputs": [],
   "source": [
    "calibration.observations.compare('Flow',comparison,stat=stats.nse,aggregation='daily')"
   ]
  },
  {
   "cell_type": "markdown",
   "metadata": {},
   "source": [
    "We need to do one more thing: We need to make sure that each of our _n_ servers is configured to record the output we require.\n",
    "\n",
    "We'll need to loop over each of our veneer clients and configure recording. We have `comparison` which describes what we want to record. We can disable all other outputs"
   ]
  },
  {
   "cell_type": "code",
   "execution_count": 38,
   "metadata": {
    "collapsed": false,
    "scrolled": false
   },
   "outputs": [
    {
     "name": "stdout",
     "output_type": "stream",
     "text": [
      "Configuring recording for server on port 9950\n",
      "Configuring recording for server on port 9951\n",
      "Configuring recording for server on port 9952\n",
      "Configuring recording for server on port 9953\n",
      "Configuring recording for server on port 9954\n",
      "Configuring recording for server on port 9955\n",
      "Configuring recording for server on port 9956\n",
      "Configuring recording for server on port 9957\n",
      "Configuring recording for server on port 9958\n",
      "Configuring recording for server on port 9959\n",
      "Configuring recording for server on port 9960\n",
      "Configuring recording for server on port 9961\n",
      "Configuring recording for server on port 9962\n",
      "Configuring recording for server on port 9963\n",
      "Configuring recording for server on port 9964\n",
      "Configuring recording for server on port 9965\n",
      "Configuring recording for server on port 9966\n",
      "Configuring recording for server on port 9967\n",
      "Configuring recording for server on port 9968\n",
      "Configuring recording for server on port 9969\n"
     ]
    }
   ],
   "source": [
    "for v in vs:\n",
    "    veneer.log('Configuring recording for server on port %d'%v.port)\n",
    "    v.configure_recording(enable=[comparison],disable=[{}])"
   ]
  },
  {
   "cell_type": "markdown",
   "metadata": {},
   "source": [
    "If we look at the content of the PEST config files now, we'll see more details filled in:"
   ]
  },
  {
   "cell_type": "code",
   "execution_count": 39,
   "metadata": {
    "collapsed": false
   },
   "outputs": [
    {
     "name": "stdout",
     "output_type": "stream",
     "text": [
      "ptf $\n",
      "from veneer.pest_runtime import *\n",
      "from veneer import Veneer\n",
      "from veneer.stats import * \n",
      "import pandas as pd\n",
      "from veneer import general\n",
      "\n",
      "general.PRINT_URLS=False\n",
      "veneer_port=find_port()\n",
      "v = Veneer(port=veneer_port)\n",
      "v.model.catchment.runoff.set_param_values('x1',$x1$)\n",
      "v.model.catchment.runoff.set_param_values('x2',$x2$)\n",
      "v.model.catchment.runoff.set_param_values('x4',$x4$)\n",
      "v.model.catchment.runoff.set_param_values('x3',$x3$)\n",
      "# Run Model\n",
      "v.drop_all_runs()\n",
      "v.run_model(**{})\n",
      "\n",
      "observed_ts={}\n",
      "pest_observations=[]\n",
      "\n",
      "# Get results\n",
      "run_results = v.retrieve_run()\n",
      "\n",
      "# Compute stats\n",
      "observed_ts.update(pd.read_csv('SyntheticObservedFlow.csv',index_col=0,parse_dates=True,dayfirst=True).dropna(how='all').to_dict('series'))\n",
      "mod_ts = v.retrieve_multiple_time_series(run_data=run_results,criteria={'NetworkElement': 'G123456A', 'RecordingVariable': 'Downstream Flow Volume'},timestep=\"daily\")\n",
      "print(mod_ts.columns)\n",
      "assert(len(mod_ts.columns==0))\n",
      "mod_ts = mod_ts[mod_ts.columns[0]]\n",
      "obs_ts = observed_ts[\"Flow\"].dropna()\n",
      "pest_observations.append((\"Flow\",1.000000-nse(obs_ts,mod_ts)))\n",
      "\n",
      "# Write summary results\n",
      "print(pest_observations)\n",
      "write_outputs(pest_observations,'_CalibrationCase_output.txt')\n",
      "write_outputs(pest_observations,'__outputs_to_keep.txt')\n",
      "\n"
     ]
    }
   ],
   "source": [
    "print(calibration.ptf_text())"
   ]
  },
  {
   "cell_type": "code",
   "execution_count": 40,
   "metadata": {
    "collapsed": false
   },
   "outputs": [
    {
     "name": "stdout",
     "output_type": "stream",
     "text": [
      "pif $\n",
      "$Flow$ !Flow!\n"
     ]
    }
   ],
   "source": [
    "print(calibration.pif_text())"
   ]
  },
  {
   "cell_type": "code",
   "execution_count": 41,
   "metadata": {
    "collapsed": false
   },
   "outputs": [
    {
     "name": "stdout",
     "output_type": "stream",
     "text": [
      "pcf\n",
      "* control data\n",
      "restart estimation\n",
      "4 1 1 0 1  \n",
      "1 1 single point    \n",
      "10.0 2.0 0.3 0.03 8   \n",
      "10.0 10.0 0.001   \n",
      "0.1     \n",
      "50 0.005 4 4 0.005 4   \n",
      "1 1 1       \n",
      "* singular value decomposition\n",
      "1\n",
      "4 5e-07\n",
      "0\n",
      "* parameter groups\n",
      "default_pg relative 0.001 0.0001 switch 1.5 parabolic   \n",
      "* parameter data\n",
      "x1 none factor 300.0 100.0 500.0 default_pg 1.0 0.0 1\n",
      "x2 none factor 3.0 1.0 5.0 default_pg 1.0 0.0 1\n",
      "x4 none factor 1.75 0.5 3.0 default_pg 1.0 0.0 1\n",
      "x3 none factor 100.5 1.0 200.0 default_pg 1.0 0.0 1 \n",
      "* observation groups\n",
      "default_og  \n",
      "* observation data\n",
      "Flow 0 1.0 default_og\n",
      "* model command line\n",
      "python _run_CalibrationCase.py\n",
      "* model input/output\n",
      "_run_CalibrationCase.tpl _run_CalibrationCase.py\n",
      "_CalibrationCase_output.ins _CalibrationCase_output.txt\n",
      "\n"
     ]
    }
   ],
   "source": [
    "print(calibration.pcf_text())"
   ]
  },
  {
   "cell_type": "code",
   "execution_count": 42,
   "metadata": {
    "collapsed": false
   },
   "outputs": [
    {
     "name": "stdout",
     "output_type": "stream",
     "text": [
      "prf\n",
      "20 0 0.5 1 0 run_slow_fac=1.5\n",
      "Slave_9950 .\\Slave_9950\\\n",
      "Slave_9951 .\\Slave_9951\\\n",
      "Slave_9952 .\\Slave_9952\\\n",
      "Slave_9953 .\\Slave_9953\\\n",
      "Slave_9954 .\\Slave_9954\\\n",
      "Slave_9955 .\\Slave_9955\\\n",
      "Slave_9956 .\\Slave_9956\\\n",
      "Slave_9957 .\\Slave_9957\\\n",
      "Slave_9958 .\\Slave_9958\\\n",
      "Slave_9959 .\\Slave_9959\\\n",
      "Slave_9960 .\\Slave_9960\\\n",
      "Slave_9961 .\\Slave_9961\\\n",
      "Slave_9962 .\\Slave_9962\\\n",
      "Slave_9963 .\\Slave_9963\\\n",
      "Slave_9964 .\\Slave_9964\\\n",
      "Slave_9965 .\\Slave_9965\\\n",
      "Slave_9966 .\\Slave_9966\\\n",
      "Slave_9967 .\\Slave_9967\\\n",
      "Slave_9968 .\\Slave_9968\\\n",
      "Slave_9969 .\\Slave_9969\\\n",
      "1.0 1.0 1.0 1.0 1.0 1.0 1.0 1.0 1.0 1.0 1.0 1.0 1.0 1.0 1.0 1.0 1.0 1.0 1.0 1.0\n",
      "\n"
     ]
    }
   ],
   "source": [
    "print(calibration.prf_text())"
   ]
  },
  {
   "cell_type": "code",
   "execution_count": null,
   "metadata": {
    "collapsed": true
   },
   "outputs": [],
   "source": []
  },
  {
   "cell_type": "markdown",
   "metadata": {},
   "source": [
    "## Running PEST\n",
    "\n",
    "We can now invoke the PEST run.\n",
    "\n",
    "When you call `calibration.run()`, PEST will start, and, in this case, it will start parallel PEST mode with _n_ workers. However all output of PEST will be in files, and in the command prompt window from which you started the Jupyter notebook. You will need to look in these places for progress of the calibration.\n",
    "\n",
    "When PEST finishes, you'll get the calibrated parameters back as well as details of the PEST run. The PEST manual covers the outputs of a PEST run in much detail"
   ]
  },
  {
   "cell_type": "markdown",
   "metadata": {},
   "source": [
    "**Note:** PEST needs to be in your Windows path. If its not, the `run()` command won't work. You can temporarily add PEST to your path from within the notebook:\n",
    "\n"
   ]
  },
  {
   "cell_type": "code",
   "execution_count": 43,
   "metadata": {
    "collapsed": true
   },
   "outputs": [],
   "source": [
    "pest_path='C:\\\\PEST'\n",
    "import os\n",
    "os.environ['PATH'] = os.environ['PATH']+';'+pest_path"
   ]
  },
  {
   "cell_type": "code",
   "execution_count": 44,
   "metadata": {
    "collapsed": true
   },
   "outputs": [],
   "source": [
    "results = calibration.run()"
   ]
  },
  {
   "cell_type": "code",
   "execution_count": 45,
   "metadata": {
    "collapsed": false
   },
   "outputs": [
    {
     "data": {
      "text/html": [
       "<div>\n",
       "<table border=\"1\" class=\"dataframe\">\n",
       "  <thead>\n",
       "    <tr style=\"text-align: right;\">\n",
       "      <th></th>\n",
       "      <th>offset</th>\n",
       "      <th>scale</th>\n",
       "      <th>value</th>\n",
       "    </tr>\n",
       "    <tr>\n",
       "      <th>parameter</th>\n",
       "      <th></th>\n",
       "      <th></th>\n",
       "      <th></th>\n",
       "    </tr>\n",
       "  </thead>\n",
       "  <tbody>\n",
       "    <tr>\n",
       "      <th>x1</th>\n",
       "      <td>0.0</td>\n",
       "      <td>1.0</td>\n",
       "      <td>400.128906</td>\n",
       "    </tr>\n",
       "    <tr>\n",
       "      <th>x2</th>\n",
       "      <td>0.0</td>\n",
       "      <td>1.0</td>\n",
       "      <td>1.198749</td>\n",
       "    </tr>\n",
       "    <tr>\n",
       "      <th>x4</th>\n",
       "      <td>0.0</td>\n",
       "      <td>1.0</td>\n",
       "      <td>2.199333</td>\n",
       "    </tr>\n",
       "    <tr>\n",
       "      <th>x3</th>\n",
       "      <td>0.0</td>\n",
       "      <td>1.0</td>\n",
       "      <td>54.981930</td>\n",
       "    </tr>\n",
       "  </tbody>\n",
       "</table>\n",
       "</div>"
      ],
      "text/plain": [
       "           offset  scale       value\n",
       "parameter                           \n",
       "x1            0.0    1.0  400.128906\n",
       "x2            0.0    1.0    1.198749\n",
       "x4            0.0    1.0    2.199333\n",
       "x3            0.0    1.0   54.981930"
      ]
     },
     "execution_count": 45,
     "metadata": {},
     "output_type": "execute_result"
    }
   ],
   "source": [
    "#results = calibration.get_results()\n",
    "results['parameters']"
   ]
  },
  {
   "cell_type": "code",
   "execution_count": 46,
   "metadata": {
    "collapsed": false
   },
   "outputs": [],
   "source": [
    "kill_all_now(processes)"
   ]
  },
  {
   "cell_type": "markdown",
   "metadata": {},
   "source": [
    "## While you're waiting...\n",
    "\n",
    "Now would be a good time to start sketching out an exercise of your own to tackle with veneer-py!"
   ]
  },
  {
   "cell_type": "code",
   "execution_count": null,
   "metadata": {
    "collapsed": true
   },
   "outputs": [],
   "source": []
  },
  {
   "cell_type": "code",
   "execution_count": null,
   "metadata": {
    "collapsed": false
   },
   "outputs": [],
   "source": []
  },
  {
   "cell_type": "code",
   "execution_count": null,
   "metadata": {
    "collapsed": true
   },
   "outputs": [],
   "source": []
  },
  {
   "cell_type": "code",
   "execution_count": null,
   "metadata": {
    "collapsed": false
   },
   "outputs": [],
   "source": []
  },
  {
   "cell_type": "code",
   "execution_count": null,
   "metadata": {
    "collapsed": false
   },
   "outputs": [],
   "source": []
  },
  {
   "cell_type": "code",
   "execution_count": null,
   "metadata": {
    "collapsed": true
   },
   "outputs": [],
   "source": []
  }
 ],
 "metadata": {
  "kernelspec": {
   "display_name": "Python 3",
   "language": "python",
   "name": "python3"
  },
  "language_info": {
   "codemirror_mode": {
    "name": "ipython",
    "version": 3
   },
   "file_extension": ".py",
   "mimetype": "text/x-python",
   "name": "python",
   "nbconvert_exporter": "python",
   "pygments_lexer": "ipython3",
   "version": "3.4.4"
  }
 },
 "nbformat": 4,
 "nbformat_minor": 0
}
